{
  "cells": [
    {
      "cell_type": "markdown",
      "metadata": {
        "id": "view-in-github",
        "colab_type": "text"
      },
      "source": [
        "<a href=\"https://colab.research.google.com/github/priyahasan/phasan13/blob/main/TESS_Intro.ipynb\" target=\"_parent\"><img src=\"https://colab.research.google.com/assets/colab-badge.svg\" alt=\"Open In Colab\"/></a>"
      ]
    },
    {
      "cell_type": "markdown",
      "metadata": {
        "id": "ktv0AsgdtmJq"
      },
      "source": [
        "# An introduction into the tools and tutorials available for the analysis of TESS data\n",
        "\n",
        "Welcome everyone to this *TESS* Lightkurve tutorial!"
      ]
    },
    {
      "cell_type": "markdown",
      "metadata": {
        "id": "x7TXiCmEtmJr"
      },
      "source": [
        "## Authors\n",
        "\n",
        "[Rebekah Hounsell](https://heasarc.gsfc.nasa.gov/docs/tess/helpdesk.html) - Support scientist for *TESS* in the NASA GSFC GI Office.\n",
        "Modified by Priya Hasan\n"
      ]
    },
    {
      "cell_type": "markdown",
      "metadata": {
        "id": "U4vFbCfXtmJs"
      },
      "source": [
        "## Learning Goals\n",
        "\n",
        "In this tutorial, we will teach the user how to access, analyze, and manipulate data from the NASA Exoplanet mission *TESS* (this can also be applied to *Kepler* & *K2*). All tools presented will teach the user how to work with time series data for the purpose of scientific research.\n",
        "\n",
        "The tutorial assumes a basic knowledge of python and astronomy, and will walk the user through several of the concepts outlined below:\n",
        "\n",
        "\n",
        "1. How to obtain *TESS* data products from the MAST archive\n",
        "2. How to use *Lightkurve* to access the various data products and create time series\n",
        "3. How to analyze and assess various data anomalies and how you might visualize them\n",
        "\n",
        "## The spacecraft raw data will be calibrated by the Science Processing and Operations Center (SPOC).\n",
        "Data release products include: raw full frame images, calibrated full frame images, target pixels, light curves, flat fields, pixel response function, and lists of TESS Objects of Interest (TOIs).\n",
        "\n",
        "Each TESS data sector covers a 24 degree by 90 degree strip of the sky. Calibrated FITS files for each of four detectors within a segment will include:\n",
        "\n",
        "30 minute cadence full frame images\n",
        "2 minute cadence for about 200,000 target stars\n",
        "\n",
        "Data release products include: raw full frame images, calibrated full frame images, target pixels, light curves, flat fields, pixel response function, and lists of TESS Objects of Interest (TOIs).\n",
        "         \n"
      ]
    },
    {
      "cell_type": "markdown",
      "metadata": {
        "id": "g2aLmG5RtmJs"
      },
      "source": [
        "## Imports\n",
        "\n",
        "This tutorial requires the use of specific packages:\n",
        "- [**Lightkurve**](https://docs.lightkurve.org/index.html) to work with *TESS* data (v2.0.1)\n",
        "- [**Matplotlib**](https://matplotlib.org/) for plotting.\n",
        "- [**Numpy**](https://numpy.org) for manipulating the data."
      ]
    },
    {
      "cell_type": "code",
      "source": [
        "!pip install lightkurve"
      ],
      "metadata": {
        "id": "tVY9WHZiyHZv"
      },
      "execution_count": null,
      "outputs": []
    },
    {
      "cell_type": "code",
      "source": [],
      "metadata": {
        "id": "yZaUX3RIX8mG"
      },
      "execution_count": 5,
      "outputs": []
    },
    {
      "cell_type": "code",
      "execution_count": 6,
      "metadata": {
        "id": "2eLcM5NVtmJs"
      },
      "outputs": [],
      "source": [
        "import lightkurve as lk\n",
        "import numpy as np\n",
        "import matplotlib.pyplot as plt\n",
        "%matplotlib inline"
      ]
    },
    {
      "cell_type": "code",
      "source": [],
      "metadata": {
        "id": "r113vLzIyGDg"
      },
      "execution_count": 6,
      "outputs": []
    },
    {
      "cell_type": "markdown",
      "metadata": {
        "id": "VgYNINdqtmJt"
      },
      "source": [
        "### First time users\n",
        "\n",
        "If you are not that experienced with *Python*, or cannot download *Lightkurve*, you can run this notebook as a [Colab notebook](https://colab.research.google.com/notebooks/intro.ipynb?utm_source=scs-index). Colaboratory allows users to write and execute *Python* in your browser with zero configuration required.\n",
        "\n",
        "All you need is a Google account and to copy and paste in the following command at the top of your colab notebook:\n",
        "\n",
        "`!pip install lightkurve`\n",
        "\n",
        "This downloads the *Lightkurve* package."
      ]
    },
    {
      "cell_type": "markdown",
      "metadata": {
        "id": "BrvIEII9tmJt"
      },
      "source": [
        "## Introduction to *TESS*:\n",
        "\n",
        "The *Transiting Exoplanet Survey Satellite (TESS)* is a NASA-sponsored Astrophysics Explorer-class mission that is performing a near all-sky survey to search for planets transiting nearby stars. *TESS* completed its primary mission in July of 2020, and has now entered its extended mission. The current extended mission will last until September 2022, and will continue to scan the sky for exoplanets and transient events. The *TESS* mission is now more community focused with a larger guest investigator (GI) program.\n",
        "\n",
        "Over the last three years *TESS* has observed both the northern and southern hemispheres, with each hemisphere being split into ~13 sectors. Each sector is observed for ~27 days by *TESS's* four cameras.\n",
        "\n",
        "The main data products collected by the *TESS* mission are described below.\n",
        "\n",
        "- [Full Frame Images (FFIs)](https://heasarc.gsfc.nasa.gov/docs/tess/data-products.html#full-frame-images): The full sector images, with a cadence of 30-min (years 1 & 2) or 10-min (years 3 & 4).\n",
        "- [Target Pixel Files (TPFs)](https://heasarc.gsfc.nasa.gov/docs/tess/data-products.html#target-pixel-files-tpfs): Postage stamp cut outs from the FFIs, focused on a selected target of interest. Each stamp has a cadence of 2-min or 20-sec.\n",
        "- [Light Curve Files (LCFs)](https://heasarc.gsfc.nasa.gov/docs/tess/data-products.html#light-curve-files): The time series data produced for each 2-min or 20-sec TPF object.\n",
        "\n",
        "To learn more about the *TESS* mission and its data products, please visit the [*TESS* GI pages](https://heasarc.gsfc.nasa.gov/docs/tess/data-products.html)."
      ]
    },
    {
      "cell_type": "markdown",
      "metadata": {
        "id": "B4Sirjw_tmJt"
      },
      "source": [
        "## 1. How to obtain *TESS* data products from the MAST archive\n",
        "\n",
        "You can access *TESS*, *Kepler*, and *K2* data via the [ Mikulksi Archive for Space Telescopes (MAST)](https://mast.stsci.edu/portal/Mashup/Clients/Mast/Portal.html) archive or via the *Lightkurve* package (see Section 2).\n",
        "\n",
        "Here, we are focusing on obtaining your data via the MAST portal. Using the portal, you can enter the name of your object, its TIC number, or position (i.e., R.A and Dec). If listed in the archive, the table containing each observation will be returned."
      ]
    },
    {
      "cell_type": "markdown",
      "metadata": {
        "id": "Cqn_vZoXtmJt"
      },
      "source": [
        "## 2. How to use *Lightkurve* to access the various data products and create a time series\n",
        "\n",
        "\n",
        "[*Lightkurve*](https://docs.lightkurve.org/tutorials/index.html) offers a user-friendly way to analyze time series data obtained by telescopes, in particular *NASA’s Kepler* and *TESS* exoplanet missions. You can search for the various data products for *TESS* on MAST using the following *Lightkurve* functions:\n",
        "\n",
        "- To look for your object in a full frame image: [`search_tesscut()`](https://docs.lightkurve.org/reference/api/lightkurve.search_tesscut.html?highlight=search_tesscut)\n",
        "\n",
        "- To look for target pixel files:  [`search_targetpixelfile()`](https://docs.lightkurve.org/reference/api/lightkurve.search_targetpixelfile.html?highlight=search_targetpixelfile)\n",
        "\n",
        "- To obtain light curve files for your object of interest: [`search_lightcurve()`](https://docs.lightkurve.org/reference/api/lightkurve.search_lightcurve.html?highlight=search_lightcurve)\n",
        "\n",
        "For the purpose of this tutorial, we will be examining [L 98-59](https://arxiv.org/pdf/1903.08017.pdf), a bright M dwarf star at a distance of 10.6 pc. This star is host to three terrestrial-sized planets and is also known in the *TESS* system as TIC 307210830."
      ]
    },
    {
      "cell_type": "markdown",
      "metadata": {
        "id": "2iQu1X8ptmJt"
      },
      "source": [
        "### 2.1 Accessing the data products\n",
        "\n",
        "Let's go through each one of the above functions and see what data is available."
      ]
    },
    {
      "cell_type": "code",
      "execution_count": 7,
      "metadata": {
        "id": "zLDctSYatmJu"
      },
      "outputs": [],
      "source": [
        "search_ffi = lk.search_tesscut('L 98-59')\n",
        "search_tpf = lk.search_targetpixelfile('L 98-59')\n",
        "search_lcf = lk.search_lightcurve('L 98-59')"
      ]
    },
    {
      "cell_type": "code",
      "execution_count": 8,
      "metadata": {
        "colab": {
          "base_uri": "https://localhost:8080/",
          "height": 528
        },
        "id": "MU_KbL94tmJu",
        "outputId": "936abf24-3a30-4494-f651-af61b30d61b8"
      },
      "outputs": [
        {
          "output_type": "execute_result",
          "data": {
            "text/plain": [
              "SearchResult containing 21 data products.\n",
              "\n",
              " #     mission     year  author exptime target_name distance\n",
              "                                   s                 arcsec \n",
              "--- -------------- ---- ------- ------- ----------- --------\n",
              "  0 TESS Sector 01 2018 TESScut    1426     L 98-59      0.0\n",
              "  1 TESS Sector 02 2018 TESScut    1426     L 98-59      0.0\n",
              "  2 TESS Sector 05 2018 TESScut    1426     L 98-59      0.0\n",
              "  3 TESS Sector 08 2019 TESScut    1426     L 98-59      0.0\n",
              "  4 TESS Sector 09 2019 TESScut    1426     L 98-59      0.0\n",
              "  5 TESS Sector 10 2019 TESScut    1426     L 98-59      0.0\n",
              "  6 TESS Sector 11 2019 TESScut    1426     L 98-59      0.0\n",
              "  7 TESS Sector 12 2019 TESScut    1426     L 98-59      0.0\n",
              "  8 TESS Sector 28 2020 TESScut     475     L 98-59      0.0\n",
              "  9 TESS Sector 29 2020 TESScut     475     L 98-59      0.0\n",
              " 10 TESS Sector 32 2020 TESScut     475     L 98-59      0.0\n",
              " 11 TESS Sector 35 2021 TESScut     475     L 98-59      0.0\n",
              " 12 TESS Sector 36 2021 TESScut     475     L 98-59      0.0\n",
              " 13 TESS Sector 37 2021 TESScut     475     L 98-59      0.0\n",
              " 14 TESS Sector 38 2021 TESScut     475     L 98-59      0.0\n",
              " 15 TESS Sector 39 2021 TESScut     475     L 98-59      0.0\n",
              " 16 TESS Sector 61 2023 TESScut     158     L 98-59      0.0\n",
              " 17 TESS Sector 62 2023 TESScut     158     L 98-59      0.0\n",
              " 18 TESS Sector 63 2023 TESScut     158     L 98-59      0.0\n",
              " 19 TESS Sector 64 2023 TESScut     158     L 98-59      0.0\n",
              " 20 TESS Sector 65 2023 TESScut     158     L 98-59      0.0"
            ],
            "text/html": [
              "SearchResult containing 21 data products.\n",
              "\n",
              "<table id=\"table140320089840592\">\n",
              "<thead><tr><th>#</th><th>mission</th><th>year</th><th>author</th><th>exptime</th><th>target_name</th><th>distance</th></tr></thead>\n",
              "<thead><tr><th></th><th></th><th></th><th></th><th>s</th><th></th><th>arcsec</th></tr></thead>\n",
              "<tr><td>0</td><td>TESS Sector 01</td><td>2018</td><td><a href='https://mast.stsci.edu/tesscut/'>TESScut</a></td><td>1426</td><td>L 98-59</td><td>0.0</td></tr>\n",
              "<tr><td>1</td><td>TESS Sector 02</td><td>2018</td><td><a href='https://mast.stsci.edu/tesscut/'>TESScut</a></td><td>1426</td><td>L 98-59</td><td>0.0</td></tr>\n",
              "<tr><td>2</td><td>TESS Sector 05</td><td>2018</td><td><a href='https://mast.stsci.edu/tesscut/'>TESScut</a></td><td>1426</td><td>L 98-59</td><td>0.0</td></tr>\n",
              "<tr><td>3</td><td>TESS Sector 08</td><td>2019</td><td><a href='https://mast.stsci.edu/tesscut/'>TESScut</a></td><td>1426</td><td>L 98-59</td><td>0.0</td></tr>\n",
              "<tr><td>4</td><td>TESS Sector 09</td><td>2019</td><td><a href='https://mast.stsci.edu/tesscut/'>TESScut</a></td><td>1426</td><td>L 98-59</td><td>0.0</td></tr>\n",
              "<tr><td>5</td><td>TESS Sector 10</td><td>2019</td><td><a href='https://mast.stsci.edu/tesscut/'>TESScut</a></td><td>1426</td><td>L 98-59</td><td>0.0</td></tr>\n",
              "<tr><td>6</td><td>TESS Sector 11</td><td>2019</td><td><a href='https://mast.stsci.edu/tesscut/'>TESScut</a></td><td>1426</td><td>L 98-59</td><td>0.0</td></tr>\n",
              "<tr><td>7</td><td>TESS Sector 12</td><td>2019</td><td><a href='https://mast.stsci.edu/tesscut/'>TESScut</a></td><td>1426</td><td>L 98-59</td><td>0.0</td></tr>\n",
              "<tr><td>8</td><td>TESS Sector 28</td><td>2020</td><td><a href='https://mast.stsci.edu/tesscut/'>TESScut</a></td><td>475</td><td>L 98-59</td><td>0.0</td></tr>\n",
              "<tr><td>9</td><td>TESS Sector 29</td><td>2020</td><td><a href='https://mast.stsci.edu/tesscut/'>TESScut</a></td><td>475</td><td>L 98-59</td><td>0.0</td></tr>\n",
              "<tr><td>10</td><td>TESS Sector 32</td><td>2020</td><td><a href='https://mast.stsci.edu/tesscut/'>TESScut</a></td><td>475</td><td>L 98-59</td><td>0.0</td></tr>\n",
              "<tr><td>11</td><td>TESS Sector 35</td><td>2021</td><td><a href='https://mast.stsci.edu/tesscut/'>TESScut</a></td><td>475</td><td>L 98-59</td><td>0.0</td></tr>\n",
              "<tr><td>12</td><td>TESS Sector 36</td><td>2021</td><td><a href='https://mast.stsci.edu/tesscut/'>TESScut</a></td><td>475</td><td>L 98-59</td><td>0.0</td></tr>\n",
              "<tr><td>13</td><td>TESS Sector 37</td><td>2021</td><td><a href='https://mast.stsci.edu/tesscut/'>TESScut</a></td><td>475</td><td>L 98-59</td><td>0.0</td></tr>\n",
              "<tr><td>14</td><td>TESS Sector 38</td><td>2021</td><td><a href='https://mast.stsci.edu/tesscut/'>TESScut</a></td><td>475</td><td>L 98-59</td><td>0.0</td></tr>\n",
              "<tr><td>15</td><td>TESS Sector 39</td><td>2021</td><td><a href='https://mast.stsci.edu/tesscut/'>TESScut</a></td><td>475</td><td>L 98-59</td><td>0.0</td></tr>\n",
              "<tr><td>16</td><td>TESS Sector 61</td><td>2023</td><td><a href='https://mast.stsci.edu/tesscut/'>TESScut</a></td><td>158</td><td>L 98-59</td><td>0.0</td></tr>\n",
              "<tr><td>17</td><td>TESS Sector 62</td><td>2023</td><td><a href='https://mast.stsci.edu/tesscut/'>TESScut</a></td><td>158</td><td>L 98-59</td><td>0.0</td></tr>\n",
              "<tr><td>18</td><td>TESS Sector 63</td><td>2023</td><td><a href='https://mast.stsci.edu/tesscut/'>TESScut</a></td><td>158</td><td>L 98-59</td><td>0.0</td></tr>\n",
              "<tr><td>19</td><td>TESS Sector 64</td><td>2023</td><td><a href='https://mast.stsci.edu/tesscut/'>TESScut</a></td><td>158</td><td>L 98-59</td><td>0.0</td></tr>\n",
              "<tr><td>20</td><td>TESS Sector 65</td><td>2023</td><td><a href='https://mast.stsci.edu/tesscut/'>TESScut</a></td><td>158</td><td>L 98-59</td><td>0.0</td></tr>\n",
              "</table>"
            ]
          },
          "metadata": {},
          "execution_count": 8
        }
      ],
      "source": [
        "search_ffi"
      ]
    },
    {
      "cell_type": "markdown",
      "metadata": {
        "id": "m1tzphJxtmJu"
      },
      "source": [
        "The above table provides several important pieces of information:\n",
        "- The sector in which the object was observed.\n",
        "- The year in which the object was observed.\n",
        "- The author of the data. This has multiple options and each is a hyperlink that when clicked will provide you with more information.\n",
        "- The cadence of the observation.\n",
        "- The name of the target.\n",
        "- The distance of the observation from your target of interest. This is useful if you conduct a cone search around your objects co-ordinates.\n",
        "\n",
        "The table above indicates that our object was observed in multiple sectors. Note that in years 1 and 2 (2018 & 2019) that the cadence of the FFI data was 30-min, but in year 3 (2020/2021) it is 10-min.\n",
        "\n",
        "Let's see if any other data exists - i.e., was it observed as a target of interest and does it have a Target Pixel File."
      ]
    },
    {
      "cell_type": "code",
      "execution_count": 9,
      "metadata": {
        "colab": {
          "base_uri": "https://localhost:8080/",
          "height": 545
        },
        "id": "F9_QkodCtmJu",
        "outputId": "c95d21e3-4c74-4059-d5e7-d3fb05580e7c"
      },
      "outputs": [
        {
          "output_type": "execute_result",
          "data": {
            "text/plain": [
              "SearchResult containing 48 data products.\n",
              "\n",
              " #     mission     year   author  exptime target_name distance\n",
              "                                     s                 arcsec \n",
              "--- -------------- ---- --------- ------- ----------- --------\n",
              "  0 TESS Sector 02 2018      SPOC     120   307210830      0.0\n",
              "  1 TESS Sector 02 2018 TESS-SPOC    1800   307210830      0.0\n",
              "  2 TESS Sector 05 2018      SPOC     120   307210830      0.0\n",
              "  3 TESS Sector 05 2018 TESS-SPOC    1800   307210830      0.0\n",
              "  4 TESS Sector 08 2019      SPOC     120   307210830      0.0\n",
              "  5 TESS Sector 08 2019 TESS-SPOC    1800   307210830      0.0\n",
              "  6 TESS Sector 09 2019      SPOC     120   307210830      0.0\n",
              "  7 TESS Sector 09 2019 TESS-SPOC    1800   307210830      0.0\n",
              "  8 TESS Sector 10 2019      SPOC     120   307210830      0.0\n",
              "  9 TESS Sector 10 2019 TESS-SPOC    1800   307210830      0.0\n",
              "...            ...  ...       ...     ...         ...      ...\n",
              " 38 TESS Sector 61 2023      SPOC      20   307210830      0.0\n",
              " 39 TESS Sector 61 2023      SPOC     120   307210830      0.0\n",
              " 40 TESS Sector 62 2023      SPOC      20   307210830      0.0\n",
              " 41 TESS Sector 62 2023      SPOC     120   307210830      0.0\n",
              " 42 TESS Sector 63 2023      SPOC      20   307210830      0.0\n",
              " 43 TESS Sector 63 2023      SPOC     120   307210830      0.0\n",
              " 44 TESS Sector 64 2023      SPOC      20   307210830      0.0\n",
              " 45 TESS Sector 64 2023      SPOC     120   307210830      0.0\n",
              " 46 TESS Sector 65 2023      SPOC      20   307210830      0.0\n",
              " 47 TESS Sector 65 2023      SPOC     120   307210830      0.0\n",
              "Length = 48 rows"
            ],
            "text/html": [
              "SearchResult containing 48 data products.\n",
              "\n",
              "<table id=\"table140320089834016\">\n",
              "<thead><tr><th>#</th><th>mission</th><th>year</th><th>author</th><th>exptime</th><th>target_name</th><th>distance</th></tr></thead>\n",
              "<thead><tr><th></th><th></th><th></th><th></th><th>s</th><th></th><th>arcsec</th></tr></thead>\n",
              "<tr><td>0</td><td>TESS Sector 02</td><td>2018</td><td><a href='https://heasarc.gsfc.nasa.gov/docs/tess/pipeline.html'>SPOC</a></td><td>120</td><td>307210830</td><td>0.0</td></tr>\n",
              "<tr><td>1</td><td>TESS Sector 02</td><td>2018</td><td><a href='https://archive.stsci.edu/hlsp/tess-spoc'>TESS-SPOC</a></td><td>1800</td><td>307210830</td><td>0.0</td></tr>\n",
              "<tr><td>2</td><td>TESS Sector 05</td><td>2018</td><td><a href='https://heasarc.gsfc.nasa.gov/docs/tess/pipeline.html'>SPOC</a></td><td>120</td><td>307210830</td><td>0.0</td></tr>\n",
              "<tr><td>3</td><td>TESS Sector 05</td><td>2018</td><td><a href='https://archive.stsci.edu/hlsp/tess-spoc'>TESS-SPOC</a></td><td>1800</td><td>307210830</td><td>0.0</td></tr>\n",
              "<tr><td>4</td><td>TESS Sector 08</td><td>2019</td><td><a href='https://heasarc.gsfc.nasa.gov/docs/tess/pipeline.html'>SPOC</a></td><td>120</td><td>307210830</td><td>0.0</td></tr>\n",
              "<tr><td>5</td><td>TESS Sector 08</td><td>2019</td><td><a href='https://archive.stsci.edu/hlsp/tess-spoc'>TESS-SPOC</a></td><td>1800</td><td>307210830</td><td>0.0</td></tr>\n",
              "<tr><td>6</td><td>TESS Sector 09</td><td>2019</td><td><a href='https://heasarc.gsfc.nasa.gov/docs/tess/pipeline.html'>SPOC</a></td><td>120</td><td>307210830</td><td>0.0</td></tr>\n",
              "<tr><td>7</td><td>TESS Sector 09</td><td>2019</td><td><a href='https://archive.stsci.edu/hlsp/tess-spoc'>TESS-SPOC</a></td><td>1800</td><td>307210830</td><td>0.0</td></tr>\n",
              "<tr><td>8</td><td>TESS Sector 10</td><td>2019</td><td><a href='https://heasarc.gsfc.nasa.gov/docs/tess/pipeline.html'>SPOC</a></td><td>120</td><td>307210830</td><td>0.0</td></tr>\n",
              "<tr><td>9</td><td>TESS Sector 10</td><td>2019</td><td><a href='https://archive.stsci.edu/hlsp/tess-spoc'>TESS-SPOC</a></td><td>1800</td><td>307210830</td><td>0.0</td></tr>\n",
              "<tr><td>...</td><td>...</td><td>...</td><td>...</td><td>...</td><td>...</td><td>...</td></tr>\n",
              "<tr><td>38</td><td>TESS Sector 61</td><td>2023</td><td><a href='https://heasarc.gsfc.nasa.gov/docs/tess/pipeline.html'>SPOC</a></td><td>20</td><td>307210830</td><td>0.0</td></tr>\n",
              "<tr><td>39</td><td>TESS Sector 61</td><td>2023</td><td><a href='https://heasarc.gsfc.nasa.gov/docs/tess/pipeline.html'>SPOC</a></td><td>120</td><td>307210830</td><td>0.0</td></tr>\n",
              "<tr><td>40</td><td>TESS Sector 62</td><td>2023</td><td><a href='https://heasarc.gsfc.nasa.gov/docs/tess/pipeline.html'>SPOC</a></td><td>20</td><td>307210830</td><td>0.0</td></tr>\n",
              "<tr><td>41</td><td>TESS Sector 62</td><td>2023</td><td><a href='https://heasarc.gsfc.nasa.gov/docs/tess/pipeline.html'>SPOC</a></td><td>120</td><td>307210830</td><td>0.0</td></tr>\n",
              "<tr><td>42</td><td>TESS Sector 63</td><td>2023</td><td><a href='https://heasarc.gsfc.nasa.gov/docs/tess/pipeline.html'>SPOC</a></td><td>20</td><td>307210830</td><td>0.0</td></tr>\n",
              "<tr><td>43</td><td>TESS Sector 63</td><td>2023</td><td><a href='https://heasarc.gsfc.nasa.gov/docs/tess/pipeline.html'>SPOC</a></td><td>120</td><td>307210830</td><td>0.0</td></tr>\n",
              "<tr><td>44</td><td>TESS Sector 64</td><td>2023</td><td><a href='https://heasarc.gsfc.nasa.gov/docs/tess/pipeline.html'>SPOC</a></td><td>20</td><td>307210830</td><td>0.0</td></tr>\n",
              "<tr><td>45</td><td>TESS Sector 64</td><td>2023</td><td><a href='https://heasarc.gsfc.nasa.gov/docs/tess/pipeline.html'>SPOC</a></td><td>120</td><td>307210830</td><td>0.0</td></tr>\n",
              "<tr><td>46</td><td>TESS Sector 65</td><td>2023</td><td><a href='https://heasarc.gsfc.nasa.gov/docs/tess/pipeline.html'>SPOC</a></td><td>20</td><td>307210830</td><td>0.0</td></tr>\n",
              "<tr><td>47</td><td>TESS Sector 65</td><td>2023</td><td><a href='https://heasarc.gsfc.nasa.gov/docs/tess/pipeline.html'>SPOC</a></td><td>120</td><td>307210830</td><td>0.0</td></tr>\n",
              "</table>\n",
              "Length = 48 rows"
            ]
          },
          "metadata": {},
          "execution_count": 9
        }
      ],
      "source": [
        "search_tpf"
      ]
    },
    {
      "cell_type": "markdown",
      "metadata": {
        "id": "zpdP49TCtmJv"
      },
      "source": [
        "Great! Our object was observed as a target of interest and has 2-min and 20-sec cadenced data. This means that there should be light curve files already on the archive. Let's check those out."
      ]
    },
    {
      "cell_type": "code",
      "execution_count": 10,
      "metadata": {
        "colab": {
          "base_uri": "https://localhost:8080/",
          "height": 545
        },
        "id": "dQ2LeAputmJv",
        "outputId": "e03f01b1-5ba4-46a6-9fc3-6dc5b50bd6ed"
      },
      "outputs": [
        {
          "output_type": "execute_result",
          "data": {
            "text/plain": [
              "SearchResult containing 77 data products.\n",
              "\n",
              " #     mission     year       author      exptime target_name distance\n",
              "                                             s                 arcsec \n",
              "--- -------------- ---- ----------------- ------- ----------- --------\n",
              "  0   TESS Sector  2018          DIAMANTE    1800   307210830      0.0\n",
              "  1 TESS Sector 02 2018              SPOC     120   307210830      0.0\n",
              "  2 TESS Sector 02 2018         TESS-SPOC    1800   307210830      0.0\n",
              "  3 TESS Sector 02 2018               QLP    1800   307210830      0.0\n",
              "  4 TESS Sector 02 2018             TASOC     120   307210830      0.0\n",
              "  5 TESS Sector 02 2018 GSFC-ELEANOR-LITE    1800   307210830      0.0\n",
              "  6 TESS Sector 02 2018             TASOC    1800   307210830      0.0\n",
              "  7 TESS Sector 02 2018             TASOC    1800   307210830      0.0\n",
              "  8 TESS Sector 05 2018              SPOC     120   307210830      0.0\n",
              "  9 TESS Sector 05 2018         TESS-SPOC    1800   307210830      0.0\n",
              "...            ...  ...               ...     ...         ...      ...\n",
              " 67 TESS Sector 62 2023              SPOC     120   307210830      0.0\n",
              " 68 TESS Sector 62 2023               QLP     200   307210830      0.0\n",
              " 69 TESS Sector 63 2023              SPOC      20   307210830      0.0\n",
              " 70 TESS Sector 63 2023              SPOC     120   307210830      0.0\n",
              " 71 TESS Sector 63 2023               QLP     200   307210830      0.0\n",
              " 72 TESS Sector 64 2023              SPOC      20   307210830      0.0\n",
              " 73 TESS Sector 64 2023              SPOC     120   307210830      0.0\n",
              " 74 TESS Sector 64 2023               QLP     200   307210830      0.0\n",
              " 75 TESS Sector 65 2023              SPOC      20   307210830      0.0\n",
              " 76 TESS Sector 65 2023              SPOC     120   307210830      0.0\n",
              "Length = 77 rows"
            ],
            "text/html": [
              "SearchResult containing 77 data products.\n",
              "\n",
              "<table id=\"table140321171914272\">\n",
              "<thead><tr><th>#</th><th>mission</th><th>year</th><th>author</th><th>exptime</th><th>target_name</th><th>distance</th></tr></thead>\n",
              "<thead><tr><th></th><th></th><th></th><th></th><th>s</th><th></th><th>arcsec</th></tr></thead>\n",
              "<tr><td>0</td><td>TESS Sector</td><td>2018</td><td>DIAMANTE</td><td>1800</td><td>307210830</td><td>0.0</td></tr>\n",
              "<tr><td>1</td><td>TESS Sector 02</td><td>2018</td><td><a href='https://heasarc.gsfc.nasa.gov/docs/tess/pipeline.html'>SPOC</a></td><td>120</td><td>307210830</td><td>0.0</td></tr>\n",
              "<tr><td>2</td><td>TESS Sector 02</td><td>2018</td><td><a href='https://archive.stsci.edu/hlsp/tess-spoc'>TESS-SPOC</a></td><td>1800</td><td>307210830</td><td>0.0</td></tr>\n",
              "<tr><td>3</td><td>TESS Sector 02</td><td>2018</td><td><a href='https://archive.stsci.edu/hlsp/qlp'>QLP</a></td><td>1800</td><td>307210830</td><td>0.0</td></tr>\n",
              "<tr><td>4</td><td>TESS Sector 02</td><td>2018</td><td><a href='https://archive.stsci.edu/hlsp/tasoc'>TASOC</a></td><td>120</td><td>307210830</td><td>0.0</td></tr>\n",
              "<tr><td>5</td><td>TESS Sector 02</td><td>2018</td><td><a href='https://archive.stsci.edu/hlsp/gsfc-eleanor-lite'>GSFC-ELEANOR-LITE</a></td><td>1800</td><td>307210830</td><td>0.0</td></tr>\n",
              "<tr><td>6</td><td>TESS Sector 02</td><td>2018</td><td><a href='https://archive.stsci.edu/hlsp/tasoc'>TASOC</a></td><td>1800</td><td>307210830</td><td>0.0</td></tr>\n",
              "<tr><td>7</td><td>TESS Sector 02</td><td>2018</td><td><a href='https://archive.stsci.edu/hlsp/tasoc'>TASOC</a></td><td>1800</td><td>307210830</td><td>0.0</td></tr>\n",
              "<tr><td>8</td><td>TESS Sector 05</td><td>2018</td><td><a href='https://heasarc.gsfc.nasa.gov/docs/tess/pipeline.html'>SPOC</a></td><td>120</td><td>307210830</td><td>0.0</td></tr>\n",
              "<tr><td>9</td><td>TESS Sector 05</td><td>2018</td><td><a href='https://archive.stsci.edu/hlsp/tess-spoc'>TESS-SPOC</a></td><td>1800</td><td>307210830</td><td>0.0</td></tr>\n",
              "<tr><td>...</td><td>...</td><td>...</td><td>...</td><td>...</td><td>...</td><td>...</td></tr>\n",
              "<tr><td>67</td><td>TESS Sector 62</td><td>2023</td><td><a href='https://heasarc.gsfc.nasa.gov/docs/tess/pipeline.html'>SPOC</a></td><td>120</td><td>307210830</td><td>0.0</td></tr>\n",
              "<tr><td>68</td><td>TESS Sector 62</td><td>2023</td><td><a href='https://archive.stsci.edu/hlsp/qlp'>QLP</a></td><td>200</td><td>307210830</td><td>0.0</td></tr>\n",
              "<tr><td>69</td><td>TESS Sector 63</td><td>2023</td><td><a href='https://heasarc.gsfc.nasa.gov/docs/tess/pipeline.html'>SPOC</a></td><td>20</td><td>307210830</td><td>0.0</td></tr>\n",
              "<tr><td>70</td><td>TESS Sector 63</td><td>2023</td><td><a href='https://heasarc.gsfc.nasa.gov/docs/tess/pipeline.html'>SPOC</a></td><td>120</td><td>307210830</td><td>0.0</td></tr>\n",
              "<tr><td>71</td><td>TESS Sector 63</td><td>2023</td><td><a href='https://archive.stsci.edu/hlsp/qlp'>QLP</a></td><td>200</td><td>307210830</td><td>0.0</td></tr>\n",
              "<tr><td>72</td><td>TESS Sector 64</td><td>2023</td><td><a href='https://heasarc.gsfc.nasa.gov/docs/tess/pipeline.html'>SPOC</a></td><td>20</td><td>307210830</td><td>0.0</td></tr>\n",
              "<tr><td>73</td><td>TESS Sector 64</td><td>2023</td><td><a href='https://heasarc.gsfc.nasa.gov/docs/tess/pipeline.html'>SPOC</a></td><td>120</td><td>307210830</td><td>0.0</td></tr>\n",
              "<tr><td>74</td><td>TESS Sector 64</td><td>2023</td><td><a href='https://archive.stsci.edu/hlsp/qlp'>QLP</a></td><td>200</td><td>307210830</td><td>0.0</td></tr>\n",
              "<tr><td>75</td><td>TESS Sector 65</td><td>2023</td><td><a href='https://heasarc.gsfc.nasa.gov/docs/tess/pipeline.html'>SPOC</a></td><td>20</td><td>307210830</td><td>0.0</td></tr>\n",
              "<tr><td>76</td><td>TESS Sector 65</td><td>2023</td><td><a href='https://heasarc.gsfc.nasa.gov/docs/tess/pipeline.html'>SPOC</a></td><td>120</td><td>307210830</td><td>0.0</td></tr>\n",
              "</table>\n",
              "Length = 77 rows"
            ]
          },
          "metadata": {},
          "execution_count": 10
        }
      ],
      "source": [
        "search_lcf"
      ]
    },
    {
      "cell_type": "markdown",
      "metadata": {
        "id": "W8-dd3PEtmJv"
      },
      "source": [
        "Wonderful! Light curves for our object of interest have already been created.\n",
        "\n",
        "### 2.2 Creating a light curve using a Light Curve File:\n",
        "\n",
        "Now on to getting the light curve for our object of interest. From the above table, it looks like there are multiple authors for our target. For the purpose of this tutorial, let's stick to \"SPOC\" data products which have a 2-min cadence. We can return only these results using the following commands."
      ]
    },
    {
      "cell_type": "code",
      "execution_count": 11,
      "metadata": {
        "colab": {
          "base_uri": "https://localhost:8080/",
          "height": 506
        },
        "id": "9r3-sEdetmJv",
        "outputId": "230e016e-c59e-46ea-90fd-3eaad7bd97e7"
      },
      "outputs": [
        {
          "output_type": "execute_result",
          "data": {
            "text/plain": [
              "SearchResult containing 20 data products.\n",
              "\n",
              " #     mission     year author exptime target_name distance\n",
              "                                  s                 arcsec \n",
              "--- -------------- ---- ------ ------- ----------- --------\n",
              "  0 TESS Sector 02 2018   SPOC     120   307210830      0.0\n",
              "  1 TESS Sector 05 2018   SPOC     120   307210830      0.0\n",
              "  2 TESS Sector 08 2019   SPOC     120   307210830      0.0\n",
              "  3 TESS Sector 09 2019   SPOC     120   307210830      0.0\n",
              "  4 TESS Sector 10 2019   SPOC     120   307210830      0.0\n",
              "  5 TESS Sector 11 2019   SPOC     120   307210830      0.0\n",
              "  6 TESS Sector 12 2019   SPOC     120   307210830      0.0\n",
              "  7 TESS Sector 28 2020   SPOC     120   307210830      0.0\n",
              "  8 TESS Sector 29 2020   SPOC     120   307210830      0.0\n",
              "  9 TESS Sector 32 2020   SPOC     120   307210830      0.0\n",
              " 10 TESS Sector 35 2021   SPOC     120   307210830      0.0\n",
              " 11 TESS Sector 36 2021   SPOC     120   307210830      0.0\n",
              " 12 TESS Sector 37 2021   SPOC     120   307210830      0.0\n",
              " 13 TESS Sector 38 2021   SPOC     120   307210830      0.0\n",
              " 14 TESS Sector 39 2021   SPOC     120   307210830      0.0\n",
              " 15 TESS Sector 61 2023   SPOC     120   307210830      0.0\n",
              " 16 TESS Sector 62 2023   SPOC     120   307210830      0.0\n",
              " 17 TESS Sector 63 2023   SPOC     120   307210830      0.0\n",
              " 18 TESS Sector 64 2023   SPOC     120   307210830      0.0\n",
              " 19 TESS Sector 65 2023   SPOC     120   307210830      0.0"
            ],
            "text/html": [
              "SearchResult containing 20 data products.\n",
              "\n",
              "<table id=\"table140320089848080\">\n",
              "<thead><tr><th>#</th><th>mission</th><th>year</th><th>author</th><th>exptime</th><th>target_name</th><th>distance</th></tr></thead>\n",
              "<thead><tr><th></th><th></th><th></th><th></th><th>s</th><th></th><th>arcsec</th></tr></thead>\n",
              "<tr><td>0</td><td>TESS Sector 02</td><td>2018</td><td><a href='https://heasarc.gsfc.nasa.gov/docs/tess/pipeline.html'>SPOC</a></td><td>120</td><td>307210830</td><td>0.0</td></tr>\n",
              "<tr><td>1</td><td>TESS Sector 05</td><td>2018</td><td><a href='https://heasarc.gsfc.nasa.gov/docs/tess/pipeline.html'>SPOC</a></td><td>120</td><td>307210830</td><td>0.0</td></tr>\n",
              "<tr><td>2</td><td>TESS Sector 08</td><td>2019</td><td><a href='https://heasarc.gsfc.nasa.gov/docs/tess/pipeline.html'>SPOC</a></td><td>120</td><td>307210830</td><td>0.0</td></tr>\n",
              "<tr><td>3</td><td>TESS Sector 09</td><td>2019</td><td><a href='https://heasarc.gsfc.nasa.gov/docs/tess/pipeline.html'>SPOC</a></td><td>120</td><td>307210830</td><td>0.0</td></tr>\n",
              "<tr><td>4</td><td>TESS Sector 10</td><td>2019</td><td><a href='https://heasarc.gsfc.nasa.gov/docs/tess/pipeline.html'>SPOC</a></td><td>120</td><td>307210830</td><td>0.0</td></tr>\n",
              "<tr><td>5</td><td>TESS Sector 11</td><td>2019</td><td><a href='https://heasarc.gsfc.nasa.gov/docs/tess/pipeline.html'>SPOC</a></td><td>120</td><td>307210830</td><td>0.0</td></tr>\n",
              "<tr><td>6</td><td>TESS Sector 12</td><td>2019</td><td><a href='https://heasarc.gsfc.nasa.gov/docs/tess/pipeline.html'>SPOC</a></td><td>120</td><td>307210830</td><td>0.0</td></tr>\n",
              "<tr><td>7</td><td>TESS Sector 28</td><td>2020</td><td><a href='https://heasarc.gsfc.nasa.gov/docs/tess/pipeline.html'>SPOC</a></td><td>120</td><td>307210830</td><td>0.0</td></tr>\n",
              "<tr><td>8</td><td>TESS Sector 29</td><td>2020</td><td><a href='https://heasarc.gsfc.nasa.gov/docs/tess/pipeline.html'>SPOC</a></td><td>120</td><td>307210830</td><td>0.0</td></tr>\n",
              "<tr><td>9</td><td>TESS Sector 32</td><td>2020</td><td><a href='https://heasarc.gsfc.nasa.gov/docs/tess/pipeline.html'>SPOC</a></td><td>120</td><td>307210830</td><td>0.0</td></tr>\n",
              "<tr><td>10</td><td>TESS Sector 35</td><td>2021</td><td><a href='https://heasarc.gsfc.nasa.gov/docs/tess/pipeline.html'>SPOC</a></td><td>120</td><td>307210830</td><td>0.0</td></tr>\n",
              "<tr><td>11</td><td>TESS Sector 36</td><td>2021</td><td><a href='https://heasarc.gsfc.nasa.gov/docs/tess/pipeline.html'>SPOC</a></td><td>120</td><td>307210830</td><td>0.0</td></tr>\n",
              "<tr><td>12</td><td>TESS Sector 37</td><td>2021</td><td><a href='https://heasarc.gsfc.nasa.gov/docs/tess/pipeline.html'>SPOC</a></td><td>120</td><td>307210830</td><td>0.0</td></tr>\n",
              "<tr><td>13</td><td>TESS Sector 38</td><td>2021</td><td><a href='https://heasarc.gsfc.nasa.gov/docs/tess/pipeline.html'>SPOC</a></td><td>120</td><td>307210830</td><td>0.0</td></tr>\n",
              "<tr><td>14</td><td>TESS Sector 39</td><td>2021</td><td><a href='https://heasarc.gsfc.nasa.gov/docs/tess/pipeline.html'>SPOC</a></td><td>120</td><td>307210830</td><td>0.0</td></tr>\n",
              "<tr><td>15</td><td>TESS Sector 61</td><td>2023</td><td><a href='https://heasarc.gsfc.nasa.gov/docs/tess/pipeline.html'>SPOC</a></td><td>120</td><td>307210830</td><td>0.0</td></tr>\n",
              "<tr><td>16</td><td>TESS Sector 62</td><td>2023</td><td><a href='https://heasarc.gsfc.nasa.gov/docs/tess/pipeline.html'>SPOC</a></td><td>120</td><td>307210830</td><td>0.0</td></tr>\n",
              "<tr><td>17</td><td>TESS Sector 63</td><td>2023</td><td><a href='https://heasarc.gsfc.nasa.gov/docs/tess/pipeline.html'>SPOC</a></td><td>120</td><td>307210830</td><td>0.0</td></tr>\n",
              "<tr><td>18</td><td>TESS Sector 64</td><td>2023</td><td><a href='https://heasarc.gsfc.nasa.gov/docs/tess/pipeline.html'>SPOC</a></td><td>120</td><td>307210830</td><td>0.0</td></tr>\n",
              "<tr><td>19</td><td>TESS Sector 65</td><td>2023</td><td><a href='https://heasarc.gsfc.nasa.gov/docs/tess/pipeline.html'>SPOC</a></td><td>120</td><td>307210830</td><td>0.0</td></tr>\n",
              "</table>"
            ]
          },
          "metadata": {},
          "execution_count": 11
        }
      ],
      "source": [
        "search_lcf_refined = lk.search_lightcurve('L 98-59', author=\"SPOC\", exptime=120)\n",
        "search_lcf_refined"
      ]
    },
    {
      "cell_type": "markdown",
      "metadata": {
        "id": "JTq6dDNqtmJv"
      },
      "source": [
        "We now see five search results. Let's download these and see what the light curve looks like."
      ]
    },
    {
      "cell_type": "code",
      "execution_count": 12,
      "metadata": {
        "id": "JyvwzYnytmJv"
      },
      "outputs": [],
      "source": [
        "lcf = search_lcf_refined.download_all()"
      ]
    },
    {
      "cell_type": "code",
      "execution_count": 13,
      "metadata": {
        "colab": {
          "base_uri": "https://localhost:8080/"
        },
        "id": "c1rM5plTtmJv",
        "outputId": "0f229cc9-56a1-43d6-dd90-6c9db7043721"
      },
      "outputs": [
        {
          "output_type": "execute_result",
          "data": {
            "text/plain": [
              "LightCurveCollection of 20 objects:\n",
              "    0: <TessLightCurve LABEL=\"TIC 307210830\" SECTOR=2 AUTHOR=SPOC FLUX_ORIGIN=pdcsap_flux>\n",
              "    1: <TessLightCurve LABEL=\"TIC 307210830\" SECTOR=5 AUTHOR=SPOC FLUX_ORIGIN=pdcsap_flux>\n",
              "    2: <TessLightCurve LABEL=\"TIC 307210830\" SECTOR=8 AUTHOR=SPOC FLUX_ORIGIN=pdcsap_flux>\n",
              "    3: <TessLightCurve LABEL=\"TIC 307210830\" SECTOR=9 AUTHOR=SPOC FLUX_ORIGIN=pdcsap_flux>\n",
              "    4: <TessLightCurve LABEL=\"TIC 307210830\" SECTOR=10 AUTHOR=SPOC FLUX_ORIGIN=pdcsap_flux>\n",
              "    5: <TessLightCurve LABEL=\"TIC 307210830\" SECTOR=11 AUTHOR=SPOC FLUX_ORIGIN=pdcsap_flux>\n",
              "    6: <TessLightCurve LABEL=\"TIC 307210830\" SECTOR=12 AUTHOR=SPOC FLUX_ORIGIN=pdcsap_flux>\n",
              "    7: <TessLightCurve LABEL=\"TIC 307210830\" SECTOR=28 AUTHOR=SPOC FLUX_ORIGIN=pdcsap_flux>\n",
              "    8: <TessLightCurve LABEL=\"TIC 307210830\" SECTOR=29 AUTHOR=SPOC FLUX_ORIGIN=pdcsap_flux>\n",
              "    9: <TessLightCurve LABEL=\"TIC 307210830\" SECTOR=32 AUTHOR=SPOC FLUX_ORIGIN=pdcsap_flux>\n",
              "    10: <TessLightCurve LABEL=\"TIC 307210830\" SECTOR=35 AUTHOR=SPOC FLUX_ORIGIN=pdcsap_flux>\n",
              "    11: <TessLightCurve LABEL=\"TIC 307210830\" SECTOR=36 AUTHOR=SPOC FLUX_ORIGIN=pdcsap_flux>\n",
              "    12: <TessLightCurve LABEL=\"TIC 307210830\" SECTOR=37 AUTHOR=SPOC FLUX_ORIGIN=pdcsap_flux>\n",
              "    13: <TessLightCurve LABEL=\"TIC 307210830\" SECTOR=38 AUTHOR=SPOC FLUX_ORIGIN=pdcsap_flux>\n",
              "    14: <TessLightCurve LABEL=\"TIC 307210830\" SECTOR=39 AUTHOR=SPOC FLUX_ORIGIN=pdcsap_flux>\n",
              "    15: <TessLightCurve LABEL=\"TIC 307210830\" SECTOR=61 AUTHOR=SPOC FLUX_ORIGIN=pdcsap_flux>\n",
              "    16: <TessLightCurve LABEL=\"TIC 307210830\" SECTOR=62 AUTHOR=SPOC FLUX_ORIGIN=pdcsap_flux>\n",
              "    17: <TessLightCurve LABEL=\"TIC 307210830\" SECTOR=63 AUTHOR=SPOC FLUX_ORIGIN=pdcsap_flux>\n",
              "    18: <TessLightCurve LABEL=\"TIC 307210830\" SECTOR=64 AUTHOR=SPOC FLUX_ORIGIN=pdcsap_flux>\n",
              "    19: <TessLightCurve LABEL=\"TIC 307210830\" SECTOR=65 AUTHOR=SPOC FLUX_ORIGIN=pdcsap_flux>"
            ]
          },
          "metadata": {},
          "execution_count": 13
        }
      ],
      "source": [
        "lcf"
      ]
    },
    {
      "cell_type": "markdown",
      "metadata": {
        "id": "jXLKwIo6tmJv"
      },
      "source": [
        "This has downloaded the light curve for each sector, and stored the data in arrays. You can look at the data for a specific sector by specifying an array number as indicated below. This displays the data for sector 2 as a table."
      ]
    },
    {
      "cell_type": "code",
      "execution_count": 14,
      "metadata": {
        "colab": {
          "base_uri": "https://localhost:8080/",
          "height": 877
        },
        "id": "Y649uzwttmJv",
        "outputId": "d5dd7362-818c-4edf-9cb5-42863eaae4cc"
      },
      "outputs": [
        {
          "output_type": "execute_result",
          "data": {
            "text/plain": [
              "<TessLightCurve length=18300 LABEL=\"TIC 307210830\" SECTOR=2 AUTHOR=SPOC FLUX_ORIGIN=pdcsap_flux>\n",
              "       time             flux      ...   pos_corr1      pos_corr2   \n",
              "                    electron / s  ...      pix            pix      \n",
              "       Time           float32     ...    float32        float32    \n",
              "------------------ -------------- ... -------------- --------------\n",
              "1354.1074113410245  2.4635420e+04 ...  3.1294446e-02  1.5483069e-01\n",
              "1354.1088002024744  2.4656008e+04 ...  4.3172963e-02  1.4587776e-01\n",
              " 1354.110189063866  2.4635619e+04 ...  6.0803384e-02  1.3428329e-01\n",
              "1354.1129667867635  2.4621027e+04 ...  3.7734102e-02  1.2694269e-01\n",
              "1354.1143556482134  2.4617400e+04 ...  7.8965843e-02  1.5301819e-01\n",
              "1354.1157445097215  2.4630531e+04 ...  7.2042428e-02  1.4030553e-01\n",
              " 1354.117133371171  2.4625502e+04 ...  6.8586096e-02  1.3917884e-01\n",
              " 1354.118522232678  2.4619252e+04 ...  6.0448773e-02  1.3230386e-01\n",
              "1354.1199110941275  2.4591127e+04 ...  6.4667158e-02  1.3584568e-01\n",
              "               ...            ... ...            ...            ...\n",
              "1381.5000762208806            ——— ...  5.3329854e-03 -1.7557999e-02\n",
              "1381.5014650890794            ——— ...  1.0951885e-02 -1.8822383e-02\n",
              "1381.5028539571613            ——— ...  9.7870119e-03 -1.7654052e-02\n",
              "  1381.50424282536            ——— ...  2.8580690e-03 -1.0282305e-02\n",
              "1381.5056316934429            ——— ...  8.9326696e-03 -2.2021463e-02\n",
              " 1381.507020561642            ——— ...  7.0573296e-03 -2.6359776e-02\n",
              "1381.5084094298413            ——— ...  9.5733264e-03 -2.9673917e-02\n",
              "1381.5097982979241            ——— ...  3.0533469e-03 -1.5633952e-02\n",
              "1381.5111871661225            ——— ...  1.3605391e-02 -2.5300540e-02\n",
              "1381.5125760342053            ——— ...  3.2073301e-03 -1.8903004e-02"
            ],
            "text/html": [
              "<div><i>TessLightCurve length=18300 LABEL=&quot;TIC 307210830&quot; SECTOR=2 AUTHOR=SPOC FLUX_ORIGIN=pdcsap_flux</i>\n",
              "<table id=\"table140320757608224\" class=\"table-striped table-bordered table-condensed\">\n",
              "<thead><tr><th>time</th><th>flux</th><th>flux_err</th><th>timecorr</th><th>cadenceno</th><th>centroid_col</th><th>centroid_row</th><th>sap_flux</th><th>sap_flux_err</th><th>sap_bkg</th><th>sap_bkg_err</th><th>pdcsap_flux</th><th>pdcsap_flux_err</th><th>quality</th><th>psf_centr1</th><th>psf_centr1_err</th><th>psf_centr2</th><th>psf_centr2_err</th><th>mom_centr1</th><th>mom_centr1_err</th><th>mom_centr2</th><th>mom_centr2_err</th><th>pos_corr1</th><th>pos_corr2</th></tr></thead>\n",
              "<thead><tr><th></th><th>electron / s</th><th>electron / s</th><th>d</th><th></th><th>pix</th><th>pix</th><th>electron / s</th><th>electron / s</th><th>electron / s</th><th>electron / s</th><th>electron / s</th><th>electron / s</th><th></th><th>pix</th><th>pix</th><th>pix</th><th>pix</th><th>pix</th><th>pix</th><th>pix</th><th>pix</th><th>pix</th><th>pix</th></tr></thead>\n",
              "<thead><tr><th>Time</th><th>float32</th><th>float32</th><th>float32</th><th>int32</th><th>float64</th><th>float64</th><th>float32</th><th>float32</th><th>float32</th><th>float32</th><th>float32</th><th>float32</th><th>int32</th><th>float64</th><th>float32</th><th>float64</th><th>float32</th><th>float64</th><th>float32</th><th>float64</th><th>float32</th><th>float32</th><th>float32</th></tr></thead>\n",
              "<tr><td>1354.1074113410245</td><td>2.4635420e+04</td><td>1.8856627e+01</td><td>-8.0586493e-04</td><td>91190</td><td>664.04462</td><td>338.97644</td><td>2.3127123e+04</td><td>1.7658133e+01</td><td>1.8465968e+03</td><td>5.2003989e+00</td><td>2.4635420e+04</td><td>1.8856627e+01</td><td>0</td><td>———</td><td>———</td><td>———</td><td>———</td><td>664.04462</td><td>6.2346959e-04</td><td>338.97644</td><td>6.9568102e-04</td><td>3.1294446e-02</td><td>1.5483069e-01</td></tr>\n",
              "<tr><td>1354.1088002024744</td><td>2.4656008e+04</td><td>1.8861403e+01</td><td>-8.0589182e-04</td><td>91191</td><td>664.05609</td><td>338.96900</td><td>2.3150639e+04</td><td>1.7662607e+01</td><td>1.8428802e+03</td><td>5.1911125e+00</td><td>2.4656008e+04</td><td>1.8861403e+01</td><td>0</td><td>———</td><td>———</td><td>———</td><td>———</td><td>664.05609</td><td>6.2315754e-04</td><td>338.96900</td><td>6.9629494e-04</td><td>4.3172963e-02</td><td>1.4587776e-01</td></tr>\n",
              "<tr><td>1354.110189063866</td><td>2.4635619e+04</td><td>1.8864876e+01</td><td>-8.0591877e-04</td><td>91192</td><td>664.07351</td><td>338.95814</td><td>2.3137189e+04</td><td>1.7665859e+01</td><td>1.8525369e+03</td><td>5.2004828e+00</td><td>2.4635619e+04</td><td>1.8864876e+01</td><td>0</td><td>———</td><td>———</td><td>———</td><td>———</td><td>664.07351</td><td>6.2400498e-04</td><td>338.95814</td><td>6.9669099e-04</td><td>6.0803384e-02</td><td>1.3428329e-01</td></tr>\n",
              "<tr><td>1354.1129667867635</td><td>2.4621027e+04</td><td>1.8853863e+01</td><td>-8.0597255e-04</td><td>91194</td><td>664.05132</td><td>338.94885</td><td>2.3098303e+04</td><td>1.7655546e+01</td><td>1.8542960e+03</td><td>5.2071209e+00</td><td>2.4621027e+04</td><td>1.8853863e+01</td><td>0</td><td>———</td><td>———</td><td>———</td><td>———</td><td>664.05132</td><td>6.2639196e-04</td><td>338.94885</td><td>6.9927127e-04</td><td>3.7734102e-02</td><td>1.2694269e-01</td></tr>\n",
              "<tr><td>1354.1143556482134</td><td>2.4617400e+04</td><td>1.8859161e+01</td><td>-8.0599944e-04</td><td>91195</td><td>664.09017</td><td>338.97538</td><td>2.3127893e+04</td><td>1.7660507e+01</td><td>1.8433275e+03</td><td>5.1999226e+00</td><td>2.4617400e+04</td><td>1.8859161e+01</td><td>0</td><td>———</td><td>———</td><td>———</td><td>———</td><td>664.09017</td><td>6.2417402e-04</td><td>338.97538</td><td>6.9604575e-04</td><td>7.8965843e-02</td><td>1.5301819e-01</td></tr>\n",
              "<tr><td>1354.1157445097215</td><td>2.4630531e+04</td><td>1.8860582e+01</td><td>-8.0602628e-04</td><td>91196</td><td>664.08357</td><td>338.96449</td><td>2.3136076e+04</td><td>1.7661839e+01</td><td>1.8441443e+03</td><td>5.1992383e+00</td><td>2.4630531e+04</td><td>1.8860582e+01</td><td>0</td><td>———</td><td>———</td><td>———</td><td>———</td><td>664.08357</td><td>6.2411965e-04</td><td>338.96449</td><td>6.9649977e-04</td><td>7.2042428e-02</td><td>1.4030553e-01</td></tr>\n",
              "<tr><td>1354.117133371171</td><td>2.4625502e+04</td><td>1.8855038e+01</td><td>-8.0605317e-04</td><td>91197</td><td>664.08138</td><td>338.96244</td><td>2.3130492e+04</td><td>1.7656647e+01</td><td>1.8393002e+03</td><td>5.1891294e+00</td><td>2.4625502e+04</td><td>1.8855038e+01</td><td>0</td><td>———</td><td>———</td><td>———</td><td>———</td><td>664.08138</td><td>6.2480610e-04</td><td>338.96244</td><td>6.9642899e-04</td><td>6.8586096e-02</td><td>1.3917884e-01</td></tr>\n",
              "<tr><td>1354.118522232678</td><td>2.4619252e+04</td><td>1.8856379e+01</td><td>-8.0608000e-04</td><td>91198</td><td>664.07300</td><td>338.95776</td><td>2.3123014e+04</td><td>1.7657902e+01</td><td>1.8428878e+03</td><td>5.1969514e+00</td><td>2.4619252e+04</td><td>1.8856379e+01</td><td>0</td><td>———</td><td>———</td><td>———</td><td>———</td><td>664.07300</td><td>6.2365801e-04</td><td>338.95776</td><td>6.9719343e-04</td><td>6.0448773e-02</td><td>1.3230386e-01</td></tr>\n",
              "<tr><td>1354.1199110941275</td><td>2.4591127e+04</td><td>1.8846928e+01</td><td>-8.0610689e-04</td><td>91199</td><td>664.07806</td><td>338.96029</td><td>2.3098383e+04</td><td>1.7649052e+01</td><td>1.8459741e+03</td><td>5.1905088e+00</td><td>2.4591127e+04</td><td>1.8846928e+01</td><td>0</td><td>———</td><td>———</td><td>———</td><td>———</td><td>664.07806</td><td>6.2481815e-04</td><td>338.96029</td><td>6.9739192e-04</td><td>6.4667158e-02</td><td>1.3584568e-01</td></tr>\n",
              "<tr><td>...</td><td>...</td><td>...</td><td>...</td><td>...</td><td>...</td><td>...</td><td>...</td><td>...</td><td>...</td><td>...</td><td>...</td><td>...</td><td>...</td><td>...</td><td>...</td><td>...</td><td>...</td><td>...</td><td>...</td><td>...</td><td>...</td><td>...</td><td>...</td></tr>\n",
              "<tr><td>1381.5000762208806</td><td>———</td><td>———</td><td>-1.1857160e-03</td><td>110913</td><td>664.02023</td><td>338.82238</td><td>2.3102398e+04</td><td>1.8364481e+01</td><td>3.0264915e+03</td><td>6.2652044e+00</td><td>———</td><td>———</td><td>1000000000000000</td><td>———</td><td>———</td><td>———</td><td>———</td><td>664.02023</td><td>6.5423414e-04</td><td>338.82238</td><td>7.4187893e-04</td><td>5.3329854e-03</td><td>-1.7557999e-02</td></tr>\n",
              "<tr><td>1381.5014650890794</td><td>———</td><td>———</td><td>-1.1857362e-03</td><td>110914</td><td>664.02570</td><td>338.81828</td><td>2.3131156e+04</td><td>1.8370392e+01</td><td>3.0202869e+03</td><td>6.2575917e+00</td><td>———</td><td>———</td><td>1000000000000000</td><td>———</td><td>———</td><td>———</td><td>———</td><td>664.02570</td><td>6.5429986e-04</td><td>338.81828</td><td>7.4093667e-04</td><td>1.0951885e-02</td><td>-1.8822383e-02</td></tr>\n",
              "<tr><td>1381.5028539571613</td><td>———</td><td>———</td><td>-1.1857564e-03</td><td>110915</td><td>664.02563</td><td>338.82131</td><td>2.3093904e+04</td><td>1.8351555e+01</td><td>3.0234182e+03</td><td>6.2496614e+00</td><td>———</td><td>———</td><td>1000000000000000</td><td>———</td><td>———</td><td>———</td><td>———</td><td>664.02563</td><td>6.5500144e-04</td><td>338.82131</td><td>7.4103329e-04</td><td>9.7870119e-03</td><td>-1.7654052e-02</td></tr>\n",
              "<tr><td>1381.50424282536</td><td>———</td><td>———</td><td>-1.1857765e-03</td><td>110916</td><td>664.01844</td><td>338.82636</td><td>2.3070465e+04</td><td>1.8338472e+01</td><td>3.0037410e+03</td><td>6.2505035e+00</td><td>———</td><td>———</td><td>1000000000000000</td><td>———</td><td>———</td><td>———</td><td>———</td><td>664.01844</td><td>6.5486954e-04</td><td>338.82636</td><td>7.4021460e-04</td><td>2.8580690e-03</td><td>-1.0282305e-02</td></tr>\n",
              "<tr><td>1381.5056316934429</td><td>———</td><td>———</td><td>-1.1857968e-03</td><td>110917</td><td>664.02351</td><td>338.81538</td><td>2.3084883e+04</td><td>1.8339640e+01</td><td>3.0044412e+03</td><td>6.2367158e+00</td><td>———</td><td>———</td><td>1000000000000000</td><td>———</td><td>———</td><td>———</td><td>———</td><td>664.02351</td><td>6.5468432e-04</td><td>338.81538</td><td>7.4014551e-04</td><td>8.9326696e-03</td><td>-2.2021463e-02</td></tr>\n",
              "<tr><td>1381.507020561642</td><td>———</td><td>———</td><td>-1.1858169e-03</td><td>110918</td><td>664.02287</td><td>338.81223</td><td>2.3056941e+04</td><td>1.8327822e+01</td><td>3.0007908e+03</td><td>6.2351022e+00</td><td>———</td><td>———</td><td>1000000000000000</td><td>———</td><td>———</td><td>———</td><td>———</td><td>664.02287</td><td>6.5470359e-04</td><td>338.81223</td><td>7.4105512e-04</td><td>7.0573296e-03</td><td>-2.6359776e-02</td></tr>\n",
              "<tr><td>1381.5084094298413</td><td>———</td><td>———</td><td>-1.1858371e-03</td><td>110919</td><td>664.02458</td><td>338.81035</td><td>2.3082803e+04</td><td>1.8332623e+01</td><td>2.9834062e+03</td><td>6.2297935e+00</td><td>———</td><td>———</td><td>1000000000000000</td><td>———</td><td>———</td><td>———</td><td>———</td><td>664.02458</td><td>6.5470277e-04</td><td>338.81035</td><td>7.4060517e-04</td><td>9.5733264e-03</td><td>-2.9673917e-02</td></tr>\n",
              "<tr><td>1381.5097982979241</td><td>———</td><td>———</td><td>-1.1858573e-03</td><td>110920</td><td>664.01752</td><td>338.82169</td><td>2.3091609e+04</td><td>1.8332087e+01</td><td>2.9773435e+03</td><td>6.2250428e+00</td><td>———</td><td>———</td><td>1000000000000000</td><td>———</td><td>———</td><td>———</td><td>———</td><td>664.01752</td><td>6.5375940e-04</td><td>338.82169</td><td>7.3996367e-04</td><td>3.0533469e-03</td><td>-1.5633952e-02</td></tr>\n",
              "<tr><td>1381.5111871661225</td><td>———</td><td>———</td><td>-1.1858775e-03</td><td>110921</td><td>664.02862</td><td>338.81318</td><td>2.3086258e+04</td><td>1.8320450e+01</td><td>2.9649575e+03</td><td>6.2088137e+00</td><td>———</td><td>———</td><td>1000000000000000</td><td>———</td><td>———</td><td>———</td><td>———</td><td>664.02862</td><td>6.5425027e-04</td><td>338.81318</td><td>7.3958829e-04</td><td>1.3605391e-02</td><td>-2.5300540e-02</td></tr>\n",
              "<tr><td>1381.5125760342053</td><td>———</td><td>———</td><td>-1.1858977e-03</td><td>110922</td><td>664.01887</td><td>338.81982</td><td>2.3105682e+04</td><td>1.8324867e+01</td><td>2.9604985e+03</td><td>6.2097011e+00</td><td>———</td><td>———</td><td>1000000000000000</td><td>———</td><td>———</td><td>———</td><td>———</td><td>664.01887</td><td>6.5310486e-04</td><td>338.81982</td><td>7.3841790e-04</td><td>3.2073301e-03</td><td>-1.8903004e-02</td></tr>\n",
              "</table></div>"
            ]
          },
          "metadata": {},
          "execution_count": 14
        }
      ],
      "source": [
        "lcf[0]"
      ]
    },
    {
      "cell_type": "markdown",
      "metadata": {
        "id": "THV5Spy4tmJw"
      },
      "source": [
        "In this table, you are given the time and the flux for your object of interest.\n",
        "There does however seem to be three entries for flux: flux, sap_flux, and pdcsap_flux.\n",
        "By default the flux = pdcsap_flux, but what do these entries mean?\n",
        "\n",
        "- **Simple Aperture Photometry (SAP)**:  The SAP light curve is calculated by summing together the brightness of pixels that fall within an aperture set by the *TESS* mission. This is often referred to as the *optimal aperture*, but in spite of its name, it can sometimes be improved upon! Because the SAP light curve is a sum of the brightness in chosen pixels, it is still subject to systematic artifacts of the mission.\n",
        "\n",
        "- **Pre-search Data Conditioning SAP flux (PDCSAP) flux**: SAP flux from which long term trends have been removed using so-called Co-trending Basis Vectors (CBVs). PDCSAP flux is usually cleaner data than the SAP flux and will have fewer systematic trends.\n",
        "\n",
        "\n",
        "You can switch between fluxes using the following commands,\n",
        "\n",
        "    pdcsap = lcf[0].pdcsap_flux\n",
        "    \n",
        "    sapflux = lcf[0].sap_flux\n",
        "\n",
        "Let's now plot both the pdcsap and sap light curves and see what they look like."
      ]
    },
    {
      "cell_type": "code",
      "execution_count": null,
      "metadata": {
        "id": "9CgaAhtvtmJw"
      },
      "outputs": [],
      "source": [
        "ax = lcf[0].plot(column='sap_flux', normalize=True, label=\"SAP\");\n",
        "lcf[0].plot(ax=ax, column='pdcsap_flux', normalize=True, label=\"PDCSAP\");"
      ]
    },
    {
      "cell_type": "markdown",
      "metadata": {
        "id": "rOOAcEIytmJw"
      },
      "source": [
        "There are some big differences between these two light curves, specifically the dips in the SAP light curve and its overall gradent. These differences are caused by scattered light and other noise issues. For more information refer to [these tutorials](https://docs.lightkurve.org/tutorials/index.html#removing-instrumental-noise). For now, let's think about how we can manipulate the light curves.\n",
        "\n",
        "#### 2.2.1 Manipulating a light curve:\n",
        "\n",
        "There are a set of useful functions in *Lightkurve* which you can use to work with the data.\n",
        "These include:\n",
        "\n",
        "- [flatten()](https://docs.lightkurve.org/reference/api/lightkurve.LightCurve.flatten.html?highlight=flatten#lightkurve.LightCurve.flatten): Remove long term trends using a Savitzky–Golay filter\n",
        "- [remove_outliers()](https://docs.lightkurve.org/reference/api/lightkurve.LightCurve.remove_outliers.html?highlight=remove_outliers): Remove outliers using simple sigma clipping\n",
        "- [remove_nans()](https://docs.lightkurve.org/reference/api/lightkurve.LightCurve.remove_nans.html?highlight=remove_nans): Remove infinite or NaN values (these can occur during thruster firings)\n",
        "- [fold()](https://docs.lightkurve.org/reference/api/lightkurve.LightCurve.fold.html?highlight=fold): Fold the data at a particular period\n",
        "- [bin()](https://docs.lightkurve.org/reference/api/lightkurve.LightCurve.bin.html?highlight=bin): Reduce the time resolution of the array, taking the average value in each bin.\n",
        "\n",
        "We can use these simply on a light curve object. For this tutorial lets stick with the PDCSAP flux."
      ]
    },
    {
      "cell_type": "code",
      "execution_count": null,
      "metadata": {
        "id": "fsVIrjYytmJw"
      },
      "outputs": [],
      "source": [
        "ax = lcf[0].plot()\n",
        "ax.set_title(\"PDCSAP light curve of  L 98-59\")"
      ]
    },
    {
      "cell_type": "markdown",
      "metadata": {
        "id": "rvc_AI5StmJw"
      },
      "source": [
        "#### Flattening"
      ]
    },
    {
      "cell_type": "code",
      "execution_count": null,
      "metadata": {
        "id": "c-q-aucktmJw"
      },
      "outputs": [],
      "source": [
        "flat_lc = lcf[0].flatten(window_length=401)\n",
        "flat_lc.plot();"
      ]
    },
    {
      "cell_type": "markdown",
      "metadata": {
        "id": "gbd8x9MstmJw"
      },
      "source": [
        "#### Folding the light curve\n",
        "From the [L 98-59 System](https://arxiv.org/pdf/1903.08017.pdf) paper, we know that planet c has a period of 3.690621 days. We can use the `fold()` function to find the transit in our data as shown below."
      ]
    },
    {
      "cell_type": "code",
      "execution_count": null,
      "metadata": {
        "id": "fss1ByvDtmJw"
      },
      "outputs": [],
      "source": [
        "folded_lc = flat_lc.fold(period=3.690621)\n",
        "folded_lc.plot();"
      ]
    },
    {
      "cell_type": "markdown",
      "metadata": {
        "id": "_Dht5LWstmJw"
      },
      "source": [
        "#### Binning the light curve\n",
        "Often, to see a trend, it can be beneficial to bin the data, this can be achieved via the `bin()` function."
      ]
    },
    {
      "cell_type": "code",
      "execution_count": null,
      "metadata": {
        "scrolled": false,
        "id": "X7vKyr0dtmJx"
      },
      "outputs": [],
      "source": [
        "binned_lc = folded_lc.bin(time_bin_size=0.01)\n",
        "binned_lc.plot();"
      ]
    },
    {
      "cell_type": "markdown",
      "metadata": {
        "id": "EjpL0hyNtmJx"
      },
      "source": [
        "Great, we can now see our transit very clearly! Note that we can achieve the same plot from our data using one line of code instead of several, see below.\n",
        "\n",
        "`lcf[0].flatten(window_length=401).fold(period=3.690621).bin(time_bin_size=0.01).plot();`"
      ]
    },
    {
      "cell_type": "markdown",
      "metadata": {
        "id": "URVdNL_2tmJx"
      },
      "source": [
        "#### Interact with your light curve\n",
        "\n",
        "There is also an interactive tool for light curves called `.interact_bls`. Box Least Squares (BLS), is a method for identifying transit signals in a light curve.\n",
        "\n",
        "The `.interact_bls` method allows you to identify periodic transit signals in light curves by manually selecting the period and duration of the signal."
      ]
    },
    {
      "cell_type": "code",
      "execution_count": null,
      "metadata": {
        "scrolled": false,
        "id": "pwXLNNhxtmJx"
      },
      "outputs": [],
      "source": [
        "lcf[0].interact_bls()"
      ]
    },
    {
      "cell_type": "markdown",
      "metadata": {
        "id": "K-dyhhpytmJx"
      },
      "source": [
        "The light curve in the top right panel is phase-folded with the highest power period. When you zoom in on a region of period space in the BLS periodogram, it will automatically update the phase plot with the new period-at-max-power. Changing the duration using the slider in the bottom left will also update the BLS periodogram and phase-folded light curve. Finally, the parameters of the BLS model can be found in the bottom right panel.\n",
        "\n",
        "What if your object is not a target of interest but simply observed within the full framed images? You can still extract the data and create a 30-min or 10-min cadenced light curve."
      ]
    },
    {
      "cell_type": "markdown",
      "metadata": {
        "id": "4Bzheak2tmJx"
      },
      "source": [
        "### 2.3 Creating a light curve using FFI data:\n",
        "\n",
        "In our previous FFI search, we found that *L 98-59* was observed in Sector 2 with a 30-min cadence. This data is stored as the 2nd argument of the *search_ffi* array.\n",
        "\n",
        "To create the light curve from the FFI data, we must first download the relevant images. Note that we do not want the entirety of the Sector 2 FFI, only a small region surrounding our object of interest. We can specify the size of the region we want to cut out using the commands below; in this case we want a 10x10 pixel region."
      ]
    },
    {
      "cell_type": "code",
      "execution_count": null,
      "metadata": {
        "id": "W4TCNo6ctmJx"
      },
      "outputs": [],
      "source": [
        "ffi_data = search_ffi[1].download(cutout_size=10)"
      ]
    },
    {
      "cell_type": "markdown",
      "metadata": {
        "id": "jvbktlC8tmJx"
      },
      "source": [
        "Let's now see what this cut out looks like and also check that our object is at the center of it."
      ]
    },
    {
      "cell_type": "code",
      "execution_count": null,
      "metadata": {
        "id": "wVTJ2UH4tmJx"
      },
      "outputs": [],
      "source": [
        "ffi_data.plot()"
      ]
    },
    {
      "cell_type": "markdown",
      "metadata": {
        "id": "5l00BJA3tmJy"
      },
      "source": [
        "The above figure indicates the pixels on the CCD camera, with which *L 98-59* was observed. The color indicates the amount of flux in each pixel, in electrons per second. The y-axis shows the pixel row, and the x-axis shows the pixel column. The title tells us the *TESS* Input Catalogue ([TIC](https://tess.mit.edu/science/tess-input-catalogue/)) identification number of the target, and the observing cadence of this image. By default, `plot()` shows the first observation cadence in the Sector.\n",
        "\n",
        "It looks like our star is isolated, so we can extract a light-curve by simply summing up all the pixel values in each image. To do this, we need to first define an **aperture mask**.\n",
        "\n",
        "Many decisions go into the choice of aperture mask, including the significant blending of the large *TESS* pixels. In this tutorial, we are going to define an aperture by defining a median flux value and only selecting pixels at a certain sigma above that threshold.\n",
        "\n",
        "In most situations, a threshold mask will be the best choice for custom aperture photometry, as it doesn’t involve trial and error beyond finding the best sigma value. You can define a threshold mask using the following code:"
      ]
    },
    {
      "cell_type": "code",
      "execution_count": null,
      "metadata": {
        "id": "XkXE38EdtmJy"
      },
      "outputs": [],
      "source": [
        "target_mask = ffi_data.create_threshold_mask(threshold=15, reference_pixel='center')\n",
        "n_target_pixels = target_mask.sum()\n",
        "n_target_pixels"
      ]
    },
    {
      "cell_type": "markdown",
      "metadata": {
        "id": "WFra9fpotmJy"
      },
      "source": [
        "This indicates that there are 9 pixels which are above our threshold and in our mask. We can now check to make sure that our target is covered by this mask using plot."
      ]
    },
    {
      "cell_type": "code",
      "execution_count": null,
      "metadata": {
        "id": "T6NMeQQ2tmJy"
      },
      "outputs": [],
      "source": [
        "ffi_data.plot(aperture_mask=target_mask, mask_color='r');"
      ]
    },
    {
      "cell_type": "markdown",
      "metadata": {
        "id": "jv1ThiD-tmJy"
      },
      "source": [
        "Nice! We see our target mask centered on the 9 brightest pixels in the center of the image. Let’s see what the light curve looks like. Note that this light curve will be uncorrected for any anomalies or noise, and that the flux is therefore based upon “Simple Aperture Photometry” (SAP).\n",
        "\n",
        "To create our light curve we will pass our **aperture_mask** to the [`to_lightcurve`](https://docs.lightkurve.org/reference/api/lightkurve.KeplerTargetPixelFile.to_lightcurve.html?highlight=to_lightcurve) function."
      ]
    },
    {
      "cell_type": "code",
      "execution_count": null,
      "metadata": {
        "id": "9pM_bOKgtmJy"
      },
      "outputs": [],
      "source": [
        "ffi_lc = ffi_data.to_lightcurve(aperture_mask=target_mask)"
      ]
    },
    {
      "cell_type": "markdown",
      "metadata": {
        "id": "hvc8uZwitmJy"
      },
      "source": [
        "Once again, we can examine the light curve data as a table, but note this time that there is only one flux value and that as default this is the SAP flux."
      ]
    },
    {
      "cell_type": "code",
      "execution_count": null,
      "metadata": {
        "id": "pUSf6q79tmJy"
      },
      "outputs": [],
      "source": [
        "ffi_lc"
      ]
    },
    {
      "cell_type": "markdown",
      "metadata": {
        "id": "RCxuCL5OtmJy"
      },
      "source": [
        "Let's now plot this."
      ]
    },
    {
      "cell_type": "code",
      "execution_count": null,
      "metadata": {
        "id": "s2N3bTpKtmJy"
      },
      "outputs": [],
      "source": [
        "ffi_lc.plot(label=\"SAP FFI\")"
      ]
    },
    {
      "cell_type": "markdown",
      "metadata": {
        "id": "BoxnedlctmJy"
      },
      "source": [
        "Looking at the above light curve, we can see two dominant peaks and observe that the flux in the aperture is dominated by what is known as scattered light. We can tell this because *TESS* orbits Earth twice in each sector, thus patterns which appear twice within a sector are typically related to *TESS’* orbit (such as the scattered light effect).\n",
        "\n",
        "We will discuss this issue in more detail below."
      ]
    },
    {
      "cell_type": "markdown",
      "metadata": {
        "id": "QEX9AKjBtmJz"
      },
      "source": [
        "## 3. How to analyze and assess various data anomalies and how you might visualize them\n",
        "\n",
        "Lets take a look at the SAP light curves derived from our FFI data and the PDCSAP light curve derived from our Light Curve File.\n"
      ]
    },
    {
      "cell_type": "code",
      "execution_count": null,
      "metadata": {
        "id": "9m6Jq0j6tmJz"
      },
      "outputs": [],
      "source": [
        "ax = lcf[0].plot(column='pdcsap_flux', normalize=True, label=\"PDCSAP\");\n",
        "ffi_lc.plot(ax=ax, normalize=True, label=\"SAP FFI\")"
      ]
    },
    {
      "cell_type": "markdown",
      "metadata": {
        "id": "vY6biCjNtmJz"
      },
      "source": [
        "Looking at the figure above, you can see that the SAP light curve has a long-term change in brightness that has been removed in the PDCSAP light curve, while keeping the transits at the same depth. For most inspections, a PDCSAP light curve is what you want to use, but when looking at astronomical phenomena that aren't planets (e.g. long-term variability), the SAP flux may be preferred.\n",
        "\n",
        "The primary source of noise removed from the SAP light curve is that of scattered light. Each of TESS's cameras has a lens hood to reduce the scattered light from the Earth and the Moon. Due to TESS's wide field of view and the physical restrictions of the Sun shade, the lens hood is not 100% efficient. The effect of the scattered light on the CCD's can be seen in this [video](https://www.youtube.com/watch?v=SP4QSF9G6FA)."
      ]
    },
    {
      "cell_type": "markdown",
      "metadata": {
        "id": "co4XdvGetmJz"
      },
      "source": [
        "### Interactive inspection:\n",
        "\n",
        "By interactively inspecting the area around your object of interest, you can see when scattered light comes into play, and also how it effects the light curve. To do this, we use the `interact()` function."
      ]
    },
    {
      "cell_type": "code",
      "execution_count": null,
      "metadata": {
        "id": "w_8iGFvqtmJz"
      },
      "outputs": [],
      "source": [
        "ffi_data.interact()"
      ]
    },
    {
      "cell_type": "markdown",
      "metadata": {
        "id": "I2pIh8MTtmJz"
      },
      "source": [
        "You can move the large bottom left slider to change the location of the vertical red bar, which indicates which cadence is being shown in the TPF postage stamp image. The slider beneath the TPF postage stamp image controls the screen stretch, which defaults to logarithmic scaling initialized to 1% and 95% lower and upper limits respectively.\n",
        "\n",
        "You can move your cursor over individual data points to show hover-over tooltips indicating additional information about that datum. Currently, the tooltips list the cadence, time, flux, and quality flags. The tools on the right hand side of the plots enable zooming and pixel selection.\n",
        "\n",
        "Interaction modes:\n",
        "\n",
        "- Clicking on a single pixel shows the time series light curve of that pixel alone.\n",
        "- Shift-clicking on multiple pixels shows the light curve using that pixel mask.\n",
        "- Shift-clicking on an already selected pixel will deselect that pixel.\n",
        "- Clicking and dragging a box will make a rectangular aperture mask — individual pixels can be deselected from this mask by shift-clicking (box deselecting does not work).\n",
        "- The screen stretch high and low limits can be changed independently by clicking and dragging each end, or simultaneously by clicking and dragging in the middle.\n",
        "- The cadence slider updates the postage stamp image at the position of the vertical red bar in the light curve.\n",
        "- Clicking on a position in the light curve automatically seeks to that cadence number.\n",
        "- The left and right arrows can be clicked to increment the cadence number by one.\n",
        "- The interact() tool works for *TESS* data and *Kepler/K2*.\n",
        "\n",
        "This tool can also be used to see how crowded the field of your sources is and if anything else unusual happened during observation."
      ]
    },
    {
      "cell_type": "markdown",
      "metadata": {
        "id": "bvYDVNL_tmJz"
      },
      "source": [
        "### Interact Sky:\n",
        "\n",
        "*Lightkurve* has an additional tool to interactively inspect target pixel files — `.interact_sky`. This method brings up a single frame of the target pixel file with targets identified by Gaia marked by red circles. The size of the circle scales with the magnitude of the target, where brighter sources are larger and fainter sources are smaller. Using your cursor, you can hover over the red circles to display useful information from Gaia, including its Gaia ID, G band magnitude, and coordinates."
      ]
    },
    {
      "cell_type": "code",
      "execution_count": null,
      "metadata": {
        "id": "_jLkDYejtmJz"
      },
      "outputs": [],
      "source": [
        "ffi_data.interact_sky()"
      ]
    },
    {
      "cell_type": "markdown",
      "metadata": {
        "id": "cJ9hbB47tmJz"
      },
      "source": [
        "This tool is useful for crowded sources."
      ]
    },
    {
      "cell_type": "markdown",
      "metadata": {
        "id": "gfQzyfD0tmJz"
      },
      "source": [
        "### Cadence Quality Flags:\n",
        "\n",
        "The *TESS* pipeline populates a series of quality flags to indicate when a cadence may have been taken during an anomalous event.  These flags are available in the Light Curve Files, the Target Pixel Files, and a subset are available for the FFIs.\n",
        "\n",
        "### Aperture Mask Image Flags:\n",
        "\n",
        "The Light Curve Files and Target Pixel Files contain an image in the **APERTURE FITS** extension that describes how each pixel was used in the processing.\n",
        "\n",
        "Tables of these flags can be found [here](https://outerspace.stsci.edu/display/TESS/2.0+-+Data+Product+Overview#id-2.0DataProductOverview-Table:CadenceQualityFlags), where a description of each flag is provided."
      ]
    },
    {
      "cell_type": "markdown",
      "metadata": {
        "id": "sQJpVSD-tmJ0"
      },
      "source": [
        "## Additional Resources\n",
        "\n",
        "In this tutorial, we have covered the basics of how to obtain, reduce and analyze *TESS* data using *Lightkurve*. We have, however, only skimmed the surface of what *Lightkurve* can do and how to investigate the data. For more detailed tutorials as well as other useful tools, please visit the following pages.\n",
        "\n",
        "- [*Lightkurve Tutorials page*](https://docs.lightkurve.org/tutorials/index.html): A set of 21 tutorials dealing with Kepler/K2 and TESS data\n",
        "- [TESS GI data products page](https://heasarc.gsfc.nasa.gov/docs/tess/data-analysis-tools.html): A set of 7 TESS specific tutorials.\n",
        "- [STScI Kepler K3 notebooks](https://github.com/spacetelescope/notebooks/tree/master/notebooks/MAST/Kepler): A set of notebooks produced by a collaboration between NumFocus, MAST, *Lightkurve*, and TESS GI office. They make use of python astronomical data packages to demonstrate how to analyze time series data from these NASA missions. New tools are presented here and techniques for the advanced user.\n"
      ]
    }
  ],
  "metadata": {
    "kernelspec": {
      "display_name": "Python 3",
      "language": "python",
      "name": "python3"
    },
    "language_info": {
      "codemirror_mode": {
        "name": "ipython",
        "version": 3
      },
      "file_extension": ".py",
      "mimetype": "text/x-python",
      "name": "python",
      "nbconvert_exporter": "python",
      "pygments_lexer": "ipython3",
      "version": "3.7.7"
    },
    "colab": {
      "provenance": [],
      "include_colab_link": true
    }
  },
  "nbformat": 4,
  "nbformat_minor": 0
}