{
 "cells": [
  {
   "cell_type": "markdown",
   "metadata": {},
   "source": [
    "# There are several ways to answer this. Here is one way."
   ]
  },
  {
   "cell_type": "markdown",
   "metadata": {},
   "source": [
    "## Exercise 1: With Conditionals. Test to see if a number (a) is positive. If it is positive save it in a variable called is_pos"
   ]
  },
  {
   "cell_type": "code",
   "execution_count": 1,
   "metadata": {},
   "outputs": [],
   "source": [
    "a=2\n",
    "is_pos=True"
   ]
  },
  {
   "cell_type": "code",
   "execution_count": 2,
   "metadata": {},
   "outputs": [],
   "source": [
    "if(a>0):\n",
    "    is_pos=True\n",
    "else:\n",
    "    is_pos=False"
   ]
  },
  {
   "cell_type": "markdown",
   "metadata": {},
   "source": [
    "## Exercise 2: Make a list of numbers. Create a new list. Loop over the list and save the square of each of these numbers in the new list."
   ]
  },
  {
   "cell_type": "code",
   "execution_count": 3,
   "metadata": {},
   "outputs": [
    {
     "data": {
      "text/plain": [
       "[1, 4, 16]"
      ]
     },
     "execution_count": 3,
     "metadata": {},
     "output_type": "execute_result"
    }
   ],
   "source": [
    "l_1=[1,2,4]\n",
    "output=[1,4,16]\n",
    "#Write Code Here.\n",
    "out=[]\n",
    "for i in l_1:\n",
    "    out.append(i**2)\n",
    "out"
   ]
  },
  {
   "cell_type": "markdown",
   "metadata": {},
   "source": [
    "## Exercise 3: Write a function that takes three numbers as inputs and returns a*b+c. And then use this to calculate the value when the function takes 2,3,1 as an input. (The answer is 7)"
   ]
  },
  {
   "cell_type": "code",
   "execution_count": 4,
   "metadata": {},
   "outputs": [
    {
     "data": {
      "text/plain": [
       "7"
      ]
     },
     "execution_count": 4,
     "metadata": {},
     "output_type": "execute_result"
    }
   ],
   "source": [
    "#Write Code Here\n",
    "def exercise_3(a,b,c):\n",
    "    return a*b+c\n",
    "exercise_3(2,3,1)"
   ]
  },
  {
   "cell_type": "markdown",
   "metadata": {},
   "source": [
    "## Exercise 4: Create two lists. Add both of them together."
   ]
  },
  {
   "cell_type": "code",
   "execution_count": 5,
   "metadata": {},
   "outputs": [
    {
     "name": "stdout",
     "output_type": "stream",
     "text": [
      "the value of i is 0\n",
      "the element in the list is 5\n",
      "--------------\n",
      "the value of i is 1\n",
      "the element in the list is 2\n",
      "--------------\n",
      "the value of i is 2\n",
      "the element in the list is 7\n",
      "--------------\n"
     ]
    }
   ],
   "source": [
    "#Here is a hint\n",
    "list_1=[5,2,7]\n",
    "for i in range(len(list_1)):#Range makes a list sort of an object. And Len is the length of the list\n",
    "    print('the value of i is',i)\n",
    "    print('the element in the list is',list_1[i])\n",
    "    print('--------------')"
   ]
  },
  {
   "cell_type": "code",
   "execution_count": 6,
   "metadata": {},
   "outputs": [
    {
     "data": {
      "text/plain": [
       "[3, 5, 7]"
      ]
     },
     "execution_count": 6,
     "metadata": {},
     "output_type": "execute_result"
    }
   ],
   "source": [
    "#Write Code Here\n",
    "l_1=[1,2,3]\n",
    "l_2=[2,3,4]\n",
    "l_3=[0,0,0]\n",
    "for i in range(len(l_1)):\n",
    "    l_3[i]=l_1[i]+l_2[i]\n",
    "l_3"
   ]
  },
  {
   "cell_type": "markdown",
   "metadata": {},
   "source": [
    "## Exercise 5: Write a function to convert from celsius to fahrenheit and vice versa depending on the input is_fahrenheit"
   ]
  },
  {
   "cell_type": "code",
   "execution_count": 7,
   "metadata": {},
   "outputs": [],
   "source": [
    "F_in=32\n",
    "C_in=0\n",
    "C_out=(5/9)*(F_in-32) #Formula for converting from Fahrenheit to Centigrade\n",
    "F_out=9*C_in/5+32     #Formula for converting from Centigrade to Fahrenheit"
   ]
  },
  {
   "cell_type": "code",
   "execution_count": 8,
   "metadata": {},
   "outputs": [],
   "source": [
    "def convert_temp(input_temp,is_fahrenheit):\n",
    "    #Write Function Here\n",
    "    if(is_fahrenheit==True):\n",
    "        return (5/9)*(input_temp-32)\n",
    "    else:\n",
    "        return 9*input_temp/5+32"
   ]
  },
  {
   "cell_type": "code",
   "execution_count": 9,
   "metadata": {},
   "outputs": [
    {
     "data": {
      "text/plain": [
       "0.0"
      ]
     },
     "execution_count": 9,
     "metadata": {},
     "output_type": "execute_result"
    }
   ],
   "source": [
    "convert_temp(F_in,is_fahrenheit=True)"
   ]
  },
  {
   "cell_type": "code",
   "execution_count": 10,
   "metadata": {},
   "outputs": [
    {
     "data": {
      "text/plain": [
       "32.0"
      ]
     },
     "execution_count": 10,
     "metadata": {},
     "output_type": "execute_result"
    }
   ],
   "source": [
    "convert_temp(C_in,is_fahrenheit=False)"
   ]
  },
  {
   "cell_type": "markdown",
   "metadata": {},
   "source": [
    "## For a comprehensive set of programs: follow:\n",
    "https://www.programiz.com/python-programming/examples"
   ]
  },
  {
   "cell_type": "code",
   "execution_count": null,
   "metadata": {},
   "outputs": [],
   "source": []
  },
  {
   "cell_type": "code",
   "execution_count": null,
   "metadata": {},
   "outputs": [],
   "source": []
  },
  {
   "cell_type": "code",
   "execution_count": null,
   "metadata": {},
   "outputs": [],
   "source": []
  },
  {
   "cell_type": "code",
   "execution_count": null,
   "metadata": {},
   "outputs": [],
   "source": []
  },
  {
   "cell_type": "code",
   "execution_count": null,
   "metadata": {},
   "outputs": [],
   "source": []
  },
  {
   "cell_type": "code",
   "execution_count": null,
   "metadata": {},
   "outputs": [],
   "source": []
  }
 ],
 "metadata": {
  "kernelspec": {
   "display_name": "Python 3",
   "language": "python",
   "name": "python3"
  },
  "language_info": {
   "codemirror_mode": {
    "name": "ipython",
    "version": 3
   },
   "file_extension": ".py",
   "mimetype": "text/x-python",
   "name": "python",
   "nbconvert_exporter": "python",
   "pygments_lexer": "ipython3",
   "version": "3.7.3"
  }
 },
 "nbformat": 4,
 "nbformat_minor": 2
}
