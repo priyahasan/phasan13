{
  "cells": [
    {
      "cell_type": "markdown",
      "id": "56f503f9",
      "metadata": {
        "id": "56f503f9"
      },
      "source": [
        "# TP1: Day1"
      ]
    },
    {
      "cell_type": "markdown",
      "id": "239bca60",
      "metadata": {
        "id": "239bca60"
      },
      "source": [
        "\n",
        "![python1.jpeg](attachment:python1.jpeg)\n"
      ]
    },
    {
      "cell_type": "markdown",
      "id": "111796aa",
      "metadata": {
        "id": "111796aa"
      },
      "source": [
        "# Introduction to Python and Jupyter Notebooks"
      ]
    },
    {
      "cell_type": "markdown",
      "id": "642b125a",
      "metadata": {
        "id": "642b125a"
      },
      "source": [
        "# 1. Why program? Why Python?"
      ]
    },
    {
      "cell_type": "markdown",
      "id": "545e49c7",
      "metadata": {
        "id": "545e49c7"
      },
      "source": [
        "Programming while using scientific data is important as tasks can be done in an organised form, available to be repeated, reprogrammed and tailored for use. There are and have been many programming languages, but the advantages of using python are many. It is a simple, versatile, open source free language being used widely and hence a large number of libraries,  code and community support are available. Also high quality graphics can be easily created.  "
      ]
    },
    {
      "cell_type": "markdown",
      "id": "4244980c",
      "metadata": {
        "id": "4244980c"
      },
      "source": [
        "Python is an interpreted high-level general-purpose programming language. Its design philosophy emphasizes code readability with its use of significant indentation. Its language constructs as well as its object-oriented approach aim to help programmers write clear, logical code for small and large-scale projects.\n",
        "First appeared: February 20, 1991; 30 years ago\n",
        "Designed by: Guido van Rossum\n",
        "OS: Windows, Linux/UNIX, macOS and more\n"
      ]
    },
    {
      "cell_type": "markdown",
      "id": "9a0741ff",
      "metadata": {
        "id": "9a0741ff"
      },
      "source": [
        "The Jupyter Notebook (formerly IPython Notebooks) is a popular web-based interactive environment that was first started from the IPython project and is currently maintained by the nonprofit organization Project Jupyter. It’s a convenient tool to create and share documents that contain codes, equations, texts, and visualizations. A Jupyter Notebook can be easily converted to HTML, LaTeX, PDF, Markdown, Python, and other open standard formats"
      ]
    },
    {
      "cell_type": "markdown",
      "id": "1b0fef15",
      "metadata": {
        "id": "1b0fef15"
      },
      "source": [
        "# 2. Installing Python - Anaconda Distribution"
      ]
    },
    {
      "cell_type": "code",
      "execution_count": null,
      "id": "73419f57",
      "metadata": {
        "id": "73419f57",
        "outputId": "30303be9-4f58-41a3-843c-1356a7af1b6f"
      },
      "outputs": [
        {
          "data": {
            "text/html": [
              "<div style=\"text-align:center;\">\n",
              "<iframe src=\"https://docs.conda.io/projects/conda/en/latest/user-guide/install/\" width=\"960\" height=\"540\"></iframe>\n",
              "</div>\n"
            ],
            "text/plain": [
              "<IPython.core.display.HTML object>"
            ]
          },
          "metadata": {},
          "output_type": "display_data"
        }
      ],
      "source": [
        "%%html\n",
        "<div style=\"text-align:center;\">\n",
        "<iframe src=\"https://docs.conda.io/projects/conda/en/latest/user-guide/install/\" width=\"960\" height=\"540\"></iframe>\n",
        "</div>"
      ]
    },
    {
      "cell_type": "markdown",
      "id": "ed88af67",
      "metadata": {
        "id": "ed88af67"
      },
      "source": [
        "# 3. Getting Started with Basic Python Commands, Syntax"
      ]
    },
    {
      "cell_type": "markdown",
      "id": "4ee0607b",
      "metadata": {
        "id": "4ee0607b"
      },
      "source": [
        "## Here it is"
      ]
    },
    {
      "cell_type": "markdown",
      "id": "71a50ad3",
      "metadata": {
        "id": "71a50ad3"
      },
      "source": [
        "## Simple Calculations"
      ]
    },
    {
      "cell_type": "code",
      "execution_count": null,
      "id": "cd75c918",
      "metadata": {
        "id": "cd75c918",
        "outputId": "8bcc8746-5941-4a5f-a72c-a4c3c9693b17"
      },
      "outputs": [
        {
          "name": "stdout",
          "output_type": "stream",
          "text": [
            "8\n"
          ]
        }
      ],
      "source": [
        "a=2\n",
        "b=6\n"
      ]
    },
    {
      "cell_type": "code",
      "execution_count": null,
      "id": "5e7a7f0a",
      "metadata": {
        "id": "5e7a7f0a",
        "outputId": "cc9c6aa1-21df-42d0-a6e2-fce7f9351386"
      },
      "outputs": [
        {
          "name": "stdout",
          "output_type": "stream",
          "text": [
            "11\n"
          ]
        }
      ],
      "source": [
        "c=a+b\n",
        "print(c)"
      ]
    },
    {
      "cell_type": "code",
      "execution_count": null,
      "id": "eedbea72",
      "metadata": {
        "id": "eedbea72",
        "outputId": "6a913708-85a6-48cf-8382-cf5ce3eec5c1"
      },
      "outputs": [
        {
          "data": {
            "text/plain": [
              "13"
            ]
          },
          "execution_count": 4,
          "metadata": {},
          "output_type": "execute_result"
        }
      ],
      "source": [
        "a=7\n",
        "c=a+b\n",
        "b=4\n",
        "c"
      ]
    },
    {
      "cell_type": "code",
      "execution_count": null,
      "id": "47f61133",
      "metadata": {
        "id": "47f61133",
        "outputId": "61766760-8728-4698-bee8-0277586239af"
      },
      "outputs": [
        {
          "name": "stdout",
          "output_type": "stream",
          "text": [
            "8\n"
          ]
        }
      ],
      "source": [
        "c=2\n",
        "d=4\n",
        "e=c*d\n",
        "print(e)"
      ]
    },
    {
      "cell_type": "code",
      "execution_count": null,
      "id": "af28da95",
      "metadata": {
        "id": "af28da95",
        "outputId": "fd32ab23-d49c-47c1-f0a0-b23a58870227"
      },
      "outputs": [
        {
          "name": "stdout",
          "output_type": "stream",
          "text": [
            "64\n"
          ]
        }
      ],
      "source": [
        "f=e**2\n",
        "print(f)"
      ]
    },
    {
      "cell_type": "code",
      "execution_count": null,
      "id": "98748b03",
      "metadata": {
        "id": "98748b03",
        "outputId": "d997529f-03d6-48eb-96be-cae048858d8f"
      },
      "outputs": [
        {
          "data": {
            "text/plain": [
              "64"
            ]
          },
          "execution_count": 10,
          "metadata": {},
          "output_type": "execute_result"
        }
      ],
      "source": [
        "f"
      ]
    },
    {
      "cell_type": "code",
      "execution_count": null,
      "id": "6d1205a7",
      "metadata": {
        "id": "6d1205a7",
        "outputId": "ea9e80ed-42bc-4884-c5da-0e3e3730ad73"
      },
      "outputs": [
        {
          "name": "stdout",
          "output_type": "stream",
          "text": [
            "2\n"
          ]
        }
      ],
      "source": [
        "print(a)"
      ]
    },
    {
      "cell_type": "code",
      "execution_count": null,
      "id": "bf36c185",
      "metadata": {
        "id": "bf36c185",
        "outputId": "990bb302-9bfc-4421-93a2-7541c943cb77"
      },
      "outputs": [
        {
          "data": {
            "text/plain": [
              "2"
            ]
          },
          "execution_count": 6,
          "metadata": {},
          "output_type": "execute_result"
        }
      ],
      "source": [
        "a"
      ]
    },
    {
      "cell_type": "code",
      "execution_count": null,
      "id": "e6c28d9a",
      "metadata": {
        "id": "e6c28d9a",
        "outputId": "281f6270-184a-4880-f9d6-4fb2c9833d8c"
      },
      "outputs": [
        {
          "data": {
            "text/plain": [
              "4"
            ]
          },
          "execution_count": 7,
          "metadata": {},
          "output_type": "execute_result"
        }
      ],
      "source": [
        "d"
      ]
    },
    {
      "cell_type": "code",
      "execution_count": null,
      "id": "4dcc22c8",
      "metadata": {
        "id": "4dcc22c8",
        "outputId": "4681a12e-a566-4d1e-8163-7c675b2a4d07"
      },
      "outputs": [
        {
          "name": "stdout",
          "output_type": "stream",
          "text": [
            "Sum=  10\n",
            "Difference=  4\n",
            "Division=  2.3333333333333335\n",
            "Multiplication=  21\n"
          ]
        }
      ],
      "source": [
        "a=7\n",
        "b=3\n",
        "print('Sum= ', a+b)\n",
        "print('Difference= ', a-b)\n",
        "print('Division= ', a/b)\n",
        "print('Multiplication= ',a*b)"
      ]
    },
    {
      "cell_type": "code",
      "execution_count": null,
      "id": "62c73d62",
      "metadata": {
        "id": "62c73d62",
        "outputId": "5f0d054b-5faf-481c-c6c8-b7f467b59be8"
      },
      "outputs": [
        {
          "name": "stdout",
          "output_type": "stream",
          "text": [
            "Remainder=  1\n"
          ]
        }
      ],
      "source": [
        "#This is a comment\n",
        "'''\n",
        "THis is also a comment\n",
        "These are ignored by Python; They are not executed\n",
        "'''\n",
        "\n",
        "#Calculating remainder here\n",
        "print('Remainder= ', a%b)\n"
      ]
    },
    {
      "cell_type": "markdown",
      "id": "9cfd2797",
      "metadata": {
        "id": "9cfd2797"
      },
      "source": [
        "## Data Types"
      ]
    },
    {
      "cell_type": "code",
      "execution_count": null,
      "id": "c7133319",
      "metadata": {
        "id": "c7133319"
      },
      "outputs": [],
      "source": [
        "y=2+7j"
      ]
    },
    {
      "cell_type": "code",
      "execution_count": null,
      "id": "e1a62b0a",
      "metadata": {
        "id": "e1a62b0a",
        "outputId": "8a1b91e6-f690-42e9-ad0a-b625bb4d5773"
      },
      "outputs": [
        {
          "data": {
            "text/plain": [
              "complex"
            ]
          },
          "execution_count": 18,
          "metadata": {},
          "output_type": "execute_result"
        }
      ],
      "source": [
        "type(y)"
      ]
    },
    {
      "cell_type": "code",
      "execution_count": null,
      "id": "28343649",
      "metadata": {
        "id": "28343649"
      },
      "outputs": [],
      "source": [
        "x=1.05"
      ]
    },
    {
      "cell_type": "code",
      "execution_count": null,
      "id": "0c78701b",
      "metadata": {
        "id": "0c78701b",
        "outputId": "6da0e016-aae3-4616-8313-e02274cdcc20"
      },
      "outputs": [
        {
          "data": {
            "text/plain": [
              "1.05"
            ]
          },
          "execution_count": 15,
          "metadata": {},
          "output_type": "execute_result"
        }
      ],
      "source": [
        "x"
      ]
    },
    {
      "cell_type": "code",
      "execution_count": null,
      "id": "9dfee935",
      "metadata": {
        "id": "9dfee935"
      },
      "outputs": [],
      "source": [
        "# A string is a sequence of one or more characters (letters, numbers, symbols) that can be either a constant or a variable.\n",
        "st=\"This is a string\" #single, double quotes, immutable"
      ]
    },
    {
      "cell_type": "code",
      "execution_count": null,
      "id": "c8aa9510",
      "metadata": {
        "id": "c8aa9510",
        "outputId": "be99ba04-729c-480e-a113-21388446b309"
      },
      "outputs": [
        {
          "data": {
            "text/plain": [
              "'This is a string'"
            ]
          },
          "execution_count": 21,
          "metadata": {},
          "output_type": "execute_result"
        }
      ],
      "source": [
        "st"
      ]
    },
    {
      "cell_type": "code",
      "execution_count": null,
      "id": "e5cc5ba0",
      "metadata": {
        "id": "e5cc5ba0",
        "outputId": "f22c33e7-67de-4b41-829c-32ce1d204ffa"
      },
      "outputs": [
        {
          "name": "stdout",
          "output_type": "stream",
          "text": [
            "This is a stringThis is a stringThis is a stringThis is a stringThis is a stringThis is a stringThis is a stringThis is a stringThis is a string\n"
          ]
        }
      ],
      "source": [
        "print(st * 9)"
      ]
    },
    {
      "cell_type": "code",
      "execution_count": null,
      "id": "796c5c86",
      "metadata": {
        "id": "796c5c86",
        "outputId": "1365af72-c318-485e-d946-84eb5667e704"
      },
      "outputs": [
        {
          "name": "stdout",
          "output_type": "stream",
          "text": [
            "THIS IS A STRING\n"
          ]
        }
      ],
      "source": [
        "print(st.upper())"
      ]
    },
    {
      "cell_type": "code",
      "execution_count": null,
      "id": "e0c1eed0",
      "metadata": {
        "id": "e0c1eed0"
      },
      "outputs": [],
      "source": [
        "st2=\"\"\"Hi\"\"\""
      ]
    },
    {
      "cell_type": "code",
      "execution_count": null,
      "id": "c61596e6",
      "metadata": {
        "id": "c61596e6",
        "outputId": "2b94177a-f7bf-4469-c4d9-124e87d0e6cc"
      },
      "outputs": [
        {
          "data": {
            "text/plain": [
              "'This is a stringHi'"
            ]
          },
          "execution_count": 25,
          "metadata": {},
          "output_type": "execute_result"
        }
      ],
      "source": [
        "st3=st+st2\n",
        "st3"
      ]
    },
    {
      "cell_type": "code",
      "execution_count": null,
      "id": "0989e1d5",
      "metadata": {
        "id": "0989e1d5",
        "outputId": "1522a567-f84d-4c4d-cbab-4280d62aca6f"
      },
      "outputs": [
        {
          "name": "stdout",
          "output_type": "stream",
          "text": [
            "Hi This is a string\n"
          ]
        }
      ],
      "source": [
        "print(st2 + \" \" + st)"
      ]
    },
    {
      "cell_type": "code",
      "execution_count": null,
      "id": "d9ab4a53",
      "metadata": {
        "id": "d9ab4a53"
      },
      "outputs": [],
      "source": [
        "list1=[1,2,3,4,5]\n",
        "# A list is a mutable, or changeable, ordered sequence of elements. Each element or value that is inside of a list is called an item. Just as strings are\n",
        "\n",
        "#defined as characters between quotes, lists are defined by having values between square brackets [ ]."
      ]
    },
    {
      "cell_type": "code",
      "execution_count": null,
      "id": "f8bd789f",
      "metadata": {
        "id": "f8bd789f",
        "outputId": "9dff256f-748b-43ca-8693-d3622af3fea2"
      },
      "outputs": [
        {
          "name": "stdout",
          "output_type": "stream",
          "text": [
            "Hi! What’s your name? Priya\n",
            "Nice to meet you Priya!\n",
            "How old are you 49\n",
            "So, you are already 49 years old, Priya!\n"
          ]
        }
      ],
      "source": [
        "name = input('Hi! What’s your name? ')\n",
        "print('Nice to meet you ' + name + '!')\n",
        "age = input('How old are you ')\n",
        "print('So, you are already ' + str(age) + ' years old, '\n",
        "+ name + '!')"
      ]
    },
    {
      "cell_type": "code",
      "execution_count": null,
      "id": "54a97645",
      "metadata": {
        "id": "54a97645",
        "outputId": "01f0c381-e04a-4e29-90ca-d19cc950a792"
      },
      "outputs": [
        {
          "name": "stdout",
          "output_type": "stream",
          "text": [
            "16\n"
          ]
        }
      ],
      "source": [
        "print(len(st))"
      ]
    },
    {
      "cell_type": "code",
      "execution_count": null,
      "id": "686ec004",
      "metadata": {
        "id": "686ec004",
        "outputId": "fa878960-8cc0-4de8-f3d4-623146a8065c"
      },
      "outputs": [
        {
          "name": "stdout",
          "output_type": "stream",
          "text": [
            "N e h a   h a s   a   b a l l o o n .\n"
          ]
        }
      ],
      "source": [
        "# str.join(), str.split(), and str.replace()\n",
        "balloon = \"Neha has a balloon.\"\n",
        "print(\" \".join(balloon))"
      ]
    },
    {
      "cell_type": "code",
      "execution_count": null,
      "id": "79e16388",
      "metadata": {
        "id": "79e16388",
        "outputId": "8038b2b1-6ba4-4a39-d3d9-dfbe14cdb696"
      },
      "outputs": [
        {
          "name": "stdout",
          "output_type": "stream",
          "text": [
            ".noollab a sah aheN\n"
          ]
        }
      ],
      "source": [
        "print(\"\".join(reversed(balloon)))"
      ]
    },
    {
      "cell_type": "code",
      "execution_count": null,
      "id": "6a372c09",
      "metadata": {
        "id": "6a372c09",
        "outputId": "f065a5a6-4aa2-45dc-cde3-dc1e097ffa95"
      },
      "outputs": [
        {
          "name": "stdout",
          "output_type": "stream",
          "text": [
            "A\n"
          ]
        }
      ],
      "source": [
        "#Index\n",
        "ss = \"Women in Astronomy!\"\n",
        "print(ss[9])"
      ]
    },
    {
      "cell_type": "code",
      "execution_count": null,
      "id": "4aeb79a4",
      "metadata": {
        "id": "4aeb79a4",
        "outputId": "bad766b5-4a49-4d99-c662-d5a4b5d40e59"
      },
      "outputs": [
        {
          "name": "stdout",
          "output_type": "stream",
          "text": [
            "m\n"
          ]
        }
      ],
      "source": [
        "print(ss[-3])"
      ]
    },
    {
      "cell_type": "code",
      "execution_count": null,
      "id": "d55907e4",
      "metadata": {
        "id": "d55907e4",
        "outputId": "6d42848d-b857-475b-d7a9-60ee1f9b7ecc"
      },
      "outputs": [
        {
          "name": "stdout",
          "output_type": "stream",
          "text": [
            "in As\n"
          ]
        }
      ],
      "source": [
        "# Slicing Strings\n",
        "print(ss[6:11])\n"
      ]
    },
    {
      "cell_type": "code",
      "execution_count": null,
      "id": "29b9cb23",
      "metadata": {
        "id": "29b9cb23",
        "outputId": "932cc10b-5d2f-4968-92ed-e085692bd1cf"
      },
      "outputs": [
        {
          "name": "stdout",
          "output_type": "stream",
          "text": [
            "Wn \n"
          ]
        }
      ],
      "source": [
        "print(ss[0:12:4])# stride of 4"
      ]
    },
    {
      "cell_type": "code",
      "execution_count": null,
      "id": "8359262f",
      "metadata": {
        "id": "8359262f",
        "outputId": "8c13b92a-7fc8-4b17-ffa7-d835d67ca5d1"
      },
      "outputs": [
        {
          "name": "stdout",
          "output_type": "stream",
          "text": [
            "!ymonortsA ni nemoW\n"
          ]
        }
      ],
      "source": [
        "#print the original string in reverse order if we set the stride to -1:\n",
        "print(ss[::-1])"
      ]
    },
    {
      "cell_type": "code",
      "execution_count": null,
      "id": "58493f37",
      "metadata": {
        "id": "58493f37",
        "outputId": "8704e566-5480-4c20-ac44-e8ac375bfd5d"
      },
      "outputs": [
        {
          "name": "stdout",
          "output_type": "stream",
          "text": [
            "19\n"
          ]
        }
      ],
      "source": [
        "print(len(ss))"
      ]
    },
    {
      "cell_type": "code",
      "execution_count": null,
      "id": "97dde675",
      "metadata": {
        "id": "97dde675"
      },
      "outputs": [],
      "source": [
        "list2=[[2,1],[3,4], 2, \"test\", 3.4]"
      ]
    },
    {
      "cell_type": "code",
      "execution_count": null,
      "id": "a3584416",
      "metadata": {
        "id": "a3584416",
        "outputId": "3514f8d5-e470-4c30-db20-a559ba7bbaa9"
      },
      "outputs": [
        {
          "data": {
            "text/plain": [
              "[[2, 1], [3, 4], 2, 'test', 3.4]"
            ]
          },
          "execution_count": 30,
          "metadata": {},
          "output_type": "execute_result"
        }
      ],
      "source": [
        "list2"
      ]
    },
    {
      "cell_type": "code",
      "execution_count": null,
      "id": "a5ce63f3",
      "metadata": {
        "id": "a5ce63f3",
        "outputId": "0803aa09-aa5a-4368-9b1d-e40c7f0ba89d"
      },
      "outputs": [
        {
          "data": {
            "text/plain": [
              "'test'"
            ]
          },
          "execution_count": 31,
          "metadata": {},
          "output_type": "execute_result"
        }
      ],
      "source": [
        "list2[3]"
      ]
    },
    {
      "cell_type": "code",
      "execution_count": null,
      "id": "08773794",
      "metadata": {
        "id": "08773794",
        "outputId": "52564d45-caf6-410d-f1fd-16b3a7ba6cbf"
      },
      "outputs": [
        {
          "data": {
            "text/plain": [
              "[3, 4]"
            ]
          },
          "execution_count": 24,
          "metadata": {},
          "output_type": "execute_result"
        }
      ],
      "source": [
        "list2[1]"
      ]
    },
    {
      "cell_type": "code",
      "execution_count": null,
      "id": "f533ee81",
      "metadata": {
        "id": "f533ee81",
        "outputId": "62aa04ea-381a-404e-fbdf-bf699a76b7ab"
      },
      "outputs": [
        {
          "data": {
            "text/plain": [
              "3.4"
            ]
          },
          "execution_count": 25,
          "metadata": {},
          "output_type": "execute_result"
        }
      ],
      "source": [
        "list2[4]"
      ]
    },
    {
      "cell_type": "code",
      "execution_count": null,
      "id": "c08e3c36",
      "metadata": {
        "id": "c08e3c36",
        "outputId": "b3adb62b-b6a2-49a1-b7ce-0465748ee92a"
      },
      "outputs": [
        {
          "data": {
            "text/plain": [
              "int"
            ]
          },
          "execution_count": 26,
          "metadata": {},
          "output_type": "execute_result"
        }
      ],
      "source": [
        "type(a)"
      ]
    },
    {
      "cell_type": "code",
      "execution_count": null,
      "id": "ec0e9fc6",
      "metadata": {
        "id": "ec0e9fc6",
        "outputId": "a569bde7-4b1b-455e-fa86-87b85b3dd500"
      },
      "outputs": [
        {
          "data": {
            "text/plain": [
              "list"
            ]
          },
          "execution_count": 28,
          "metadata": {},
          "output_type": "execute_result"
        }
      ],
      "source": [
        "type(list1)"
      ]
    },
    {
      "cell_type": "code",
      "execution_count": null,
      "id": "64e0698b",
      "metadata": {
        "id": "64e0698b",
        "outputId": "5b51fca3-c73f-49e9-836e-55ff16536b9e"
      },
      "outputs": [
        {
          "data": {
            "text/plain": [
              "str"
            ]
          },
          "execution_count": 29,
          "metadata": {},
          "output_type": "execute_result"
        }
      ],
      "source": [
        "type(st)"
      ]
    },
    {
      "cell_type": "code",
      "execution_count": null,
      "id": "e4bc760b",
      "metadata": {
        "id": "e4bc760b",
        "outputId": "f2174b6e-5010-44af-e71a-354b116a843d"
      },
      "outputs": [
        {
          "data": {
            "text/plain": [
              "float"
            ]
          },
          "execution_count": 30,
          "metadata": {},
          "output_type": "execute_result"
        }
      ],
      "source": [
        "type(list2[4])"
      ]
    },
    {
      "cell_type": "code",
      "execution_count": null,
      "id": "ee738b94",
      "metadata": {
        "id": "ee738b94",
        "outputId": "fc19550b-0a0e-4867-d46a-07fff04e917f"
      },
      "outputs": [
        {
          "data": {
            "text/plain": [
              "list"
            ]
          },
          "execution_count": 31,
          "metadata": {},
          "output_type": "execute_result"
        }
      ],
      "source": [
        "type(list1[1:3])"
      ]
    },
    {
      "cell_type": "code",
      "execution_count": null,
      "id": "e3c1bf4f",
      "metadata": {
        "id": "e3c1bf4f"
      },
      "outputs": [],
      "source": [
        "list1.append(6.8)"
      ]
    },
    {
      "cell_type": "code",
      "execution_count": null,
      "id": "0946936f",
      "metadata": {
        "id": "0946936f",
        "outputId": "2f3c92fa-167e-4161-9ecc-3cb19e012776"
      },
      "outputs": [
        {
          "data": {
            "text/plain": [
              "[1, 2, 3, 4, 5, 6.8]"
            ]
          },
          "execution_count": 34,
          "metadata": {},
          "output_type": "execute_result"
        }
      ],
      "source": [
        "list1"
      ]
    },
    {
      "cell_type": "code",
      "execution_count": null,
      "id": "fe148d21",
      "metadata": {
        "id": "fe148d21"
      },
      "outputs": [],
      "source": [
        "list1.reverse()"
      ]
    },
    {
      "cell_type": "code",
      "execution_count": null,
      "id": "2f67331e",
      "metadata": {
        "id": "2f67331e",
        "outputId": "64c4cdbc-caa3-44a4-9798-171ece46d014"
      },
      "outputs": [
        {
          "data": {
            "text/plain": [
              "[6.8, 5, 4, 3, 2, 1]"
            ]
          },
          "execution_count": 39,
          "metadata": {},
          "output_type": "execute_result"
        }
      ],
      "source": [
        "list1"
      ]
    },
    {
      "cell_type": "code",
      "execution_count": null,
      "id": "4b93575b",
      "metadata": {
        "id": "4b93575b"
      },
      "outputs": [],
      "source": [
        "# Tuples\n",
        "#A tuple is used for grouping data. It is an immutable, or unchangeable, ordered sequence of elements.\n",
        "#Tuples are very similar to lists, but they use parentheses ( ) instead of square brackets and because they are immutable their values cannot be modified.#"
      ]
    },
    {
      "cell_type": "code",
      "execution_count": null,
      "id": "bcee11bb",
      "metadata": {
        "id": "bcee11bb",
        "outputId": "71f4a9e7-4e3a-4891-b586-6cd7e2bb7aaa"
      },
      "outputs": [
        {
          "name": "stdout",
          "output_type": "stream",
          "text": [
            "('blue coral', 'staghorn coral', 'pillar coral')\n"
          ]
        }
      ],
      "source": [
        "coral = ('blue coral', 'staghorn coral', 'pillar coral')\n",
        "print(coral)"
      ]
    },
    {
      "cell_type": "code",
      "execution_count": null,
      "id": "cbb04c34",
      "metadata": {
        "id": "cbb04c34",
        "outputId": "76d815dd-09ae-41d7-eebf-4b70bba31225"
      },
      "outputs": [
        {
          "ename": "NameError",
          "evalue": "name 'list1' is not defined",
          "output_type": "error",
          "traceback": [
            "\u001b[0;31m---------------------------------------------------------------------------\u001b[0m",
            "\u001b[0;31mNameError\u001b[0m                                 Traceback (most recent call last)",
            "\u001b[0;32m<ipython-input-23-8540e52e7766>\u001b[0m in \u001b[0;36m<module>\u001b[0;34m\u001b[0m\n\u001b[0;32m----> 1\u001b[0;31m \u001b[0mlist1\u001b[0m\u001b[0;34m.\u001b[0m\u001b[0mappend\u001b[0m\u001b[0;34m(\u001b[0m\u001b[0;34m\"red coral\"\u001b[0m\u001b[0;34m)\u001b[0m\u001b[0;34m\u001b[0m\u001b[0;34m\u001b[0m\u001b[0m\n\u001b[0m",
            "\u001b[0;31mNameError\u001b[0m: name 'list1' is not defined"
          ]
        }
      ],
      "source": [
        "list1.append(\"red coral\")"
      ]
    },
    {
      "cell_type": "code",
      "execution_count": null,
      "id": "bf5fb7f8",
      "metadata": {
        "id": "bf5fb7f8"
      },
      "outputs": [],
      "source": [
        "# T h e dictionary is Python’s built-in mapping type. This means that dictionaries map keys to values and these key-value pairs are a useful way to store data in Python. A dictionary is constructed with curly braces on either side { }."
      ]
    },
    {
      "cell_type": "code",
      "execution_count": null,
      "id": "ce4d7767",
      "metadata": {
        "id": "ce4d7767",
        "outputId": "6207be0b-a4bb-431b-bf51-2a9255289922"
      },
      "outputs": [
        {
          "name": "stdout",
          "output_type": "stream",
          "text": [
            "{'name': 'Sammy', 'animal': 'shark', 'color': 'blue', 'location': 'ocean'}\n"
          ]
        }
      ],
      "source": [
        "sammy = {'name': 'Sammy', 'animal': 'shark', 'color':'blue',  'location': 'ocean'}\n",
        "print(sammy)"
      ]
    },
    {
      "cell_type": "code",
      "execution_count": null,
      "id": "f70538db",
      "metadata": {
        "id": "f70538db"
      },
      "outputs": [],
      "source": [
        "# The Boolean data type can be one of two values, either True or False. Booleans are used to represent the truth values that are associated with the logic branch of mathematics, which informs algorithms in computer science."
      ]
    },
    {
      "cell_type": "code",
      "execution_count": null,
      "id": "9006710e",
      "metadata": {
        "id": "9006710e",
        "outputId": "095d769a-47f0-4ba7-ff53-3f8bd25d58a5"
      },
      "outputs": [
        {
          "name": "stdout",
          "output_type": "stream",
          "text": [
            "False\n"
          ]
        }
      ],
      "source": [
        "bool= 50 > 200\n",
        "print(bool)\n",
        "\n",
        "\n",
        "\n",
        "\n",
        "\n"
      ]
    },
    {
      "cell_type": "code",
      "execution_count": null,
      "id": "fad0d1ba",
      "metadata": {
        "id": "fad0d1ba",
        "outputId": "c5853acd-88c6-4ddd-e210-f3e2b531da5f"
      },
      "outputs": [
        {
          "name": "stdout",
          "output_type": "stream",
          "text": [
            "False\n"
          ]
        }
      ],
      "source": [
        "bool2=100 > 200\n",
        "print(bool2)"
      ]
    },
    {
      "cell_type": "code",
      "execution_count": null,
      "id": "4992f977",
      "metadata": {
        "id": "4992f977",
        "outputId": "1b817f3b-2fff-4a86-cb2a-ea1e00cb6b26"
      },
      "outputs": [
        {
          "name": "stdout",
          "output_type": "stream",
          "text": [
            "True\n",
            "False\n"
          ]
        }
      ],
      "source": [
        "number = \"5\"\n",
        "letters = \"abcdef\"\n",
        "print(number.isnumeric())\n",
        "print(letters.isnumeric())"
      ]
    },
    {
      "cell_type": "markdown",
      "id": "26ebe3c0",
      "metadata": {
        "id": "26ebe3c0"
      },
      "source": [
        "## Convert Data Types"
      ]
    },
    {
      "cell_type": "code",
      "execution_count": null,
      "id": "762175bf",
      "metadata": {
        "id": "762175bf"
      },
      "outputs": [],
      "source": [
        "a=57.0\n"
      ]
    },
    {
      "cell_type": "code",
      "execution_count": null,
      "id": "c1f07ad4",
      "metadata": {
        "id": "c1f07ad4",
        "outputId": "7e50dfc0-2877-48ed-dbff-2a56e095837c"
      },
      "outputs": [
        {
          "data": {
            "text/plain": [
              "float"
            ]
          },
          "execution_count": 41,
          "metadata": {},
          "output_type": "execute_result"
        }
      ],
      "source": [
        "type(a)"
      ]
    },
    {
      "cell_type": "code",
      "execution_count": null,
      "id": "1b401f4c",
      "metadata": {
        "id": "1b401f4c"
      },
      "outputs": [],
      "source": [
        "a=float(57)\n"
      ]
    },
    {
      "cell_type": "code",
      "execution_count": null,
      "id": "dbbb331e",
      "metadata": {
        "id": "dbbb331e",
        "outputId": "3e6b6576-7cad-4f7c-8061-ba3fbb6cca38"
      },
      "outputs": [
        {
          "data": {
            "text/plain": [
              "390"
            ]
          },
          "execution_count": 42,
          "metadata": {},
          "output_type": "execute_result"
        }
      ],
      "source": [
        "int(390.8)"
      ]
    },
    {
      "cell_type": "code",
      "execution_count": null,
      "id": "18973654",
      "metadata": {
        "id": "18973654",
        "outputId": "c85253ca-777f-4b5c-d505-c8d2dc1e7814"
      },
      "outputs": [
        {
          "name": "stdout",
          "output_type": "stream",
          "text": [
            "2.5\n"
          ]
        }
      ],
      "source": [
        "a=5/2\n",
        "print(a)"
      ]
    },
    {
      "cell_type": "code",
      "execution_count": null,
      "id": "9d317652",
      "metadata": {
        "id": "9d317652"
      },
      "outputs": [],
      "source": [
        "# In Python 2, since you were dealing with two integers, you would receive an integer back as your answer, instead: 5 / 2 = 2"
      ]
    },
    {
      "cell_type": "code",
      "execution_count": null,
      "id": "8f0ad418",
      "metadata": {
        "id": "8f0ad418",
        "outputId": "118899f0-7a9d-48fb-b9a2-6b09e5a5e3c1"
      },
      "outputs": [
        {
          "data": {
            "text/plain": [
              "'12'"
            ]
          },
          "execution_count": 43,
          "metadata": {},
          "output_type": "execute_result"
        }
      ],
      "source": [
        "str(12)"
      ]
    },
    {
      "cell_type": "code",
      "execution_count": null,
      "id": "07e7b44d",
      "metadata": {
        "id": "07e7b44d",
        "outputId": "b82a11f5-3023-481c-d1f1-2dc7b4095ebf"
      },
      "outputs": [
        {
          "name": "stdout",
          "output_type": "stream",
          "text": [
            "58\n"
          ]
        }
      ],
      "source": [
        "lines_yesterday = \"50\"\n",
        "lines_today = \"108\"\n",
        "lines_more = int(lines_today) - int(lines_yesterday)\n",
        "print(lines_more)"
      ]
    },
    {
      "cell_type": "code",
      "execution_count": null,
      "id": "b348a86f",
      "metadata": {
        "id": "b348a86f",
        "outputId": "d12fba51-2657-4b30-8071-7c2f93872b73"
      },
      "outputs": [
        {
          "name": "stdout",
          "output_type": "stream",
          "text": [
            "5569.83\n"
          ]
        }
      ],
      "source": [
        "total_points = \"5524.53\"\n",
        "new_points = \"45.30\"\n",
        "new_total_points = float(total_points) + float(new_points)\n",
        "print(new_total_points)"
      ]
    },
    {
      "cell_type": "markdown",
      "id": "8cf1ce19",
      "metadata": {
        "id": "8cf1ce19"
      },
      "source": [
        "##### Converting to Tuples and Lists: list() and tuple()  In Python: - a list is a mutable ordered sequence of elements that is contained within square brackets [ ]. - a tuple is an immutable ordered sequence of elements contained within parentheses ( )"
      ]
    },
    {
      "cell_type": "code",
      "execution_count": null,
      "id": "87990550",
      "metadata": {
        "id": "87990550",
        "outputId": "0868ec65-4908-4b49-e4bf-84126c0782f7"
      },
      "outputs": [
        {
          "name": "stdout",
          "output_type": "stream",
          "text": [
            "('pull request', 'open source', 'repository', 'branch')\n"
          ]
        }
      ],
      "source": [
        "print(tuple(['pull request', 'open source','repository', 'branch']))"
      ]
    },
    {
      "cell_type": "code",
      "execution_count": null,
      "id": "30d4d1d4",
      "metadata": {
        "id": "30d4d1d4",
        "outputId": "be8d2a52-a053-4173-d3d5-a0ad8802f8f4"
      },
      "outputs": [
        {
          "name": "stdout",
          "output_type": "stream",
          "text": [
            "('shark', 'cuttlefish', 'squid', 'mantis shrimp')\n"
          ]
        }
      ],
      "source": [
        "sea_creatures = ['shark', 'cuttlefish', 'squid','mantis shrimp']\n",
        "print(tuple(sea_creatures))"
      ]
    },
    {
      "cell_type": "code",
      "execution_count": null,
      "id": "b3e1d4a9",
      "metadata": {
        "id": "b3e1d4a9",
        "outputId": "8e761c2c-084e-4490-837c-9b419f99ac1b"
      },
      "outputs": [
        {
          "ename": "TypeError",
          "evalue": "'int' object is not iterable",
          "output_type": "error",
          "traceback": [
            "\u001b[0;31m---------------------------------------------------------------------------\u001b[0m",
            "\u001b[0;31mTypeError\u001b[0m                                 Traceback (most recent call last)",
            "\u001b[0;32m<ipython-input-152-d9755d9ac6c7>\u001b[0m in \u001b[0;36m<module>\u001b[0;34m\u001b[0m\n\u001b[1;32m      1\u001b[0m \u001b[0;31m##### Because we can iterate through strings, we can convert them to tuples with thetuple() method. With data types that are not iterable, however, like integers and floats, we will receive a type error:\u001b[0m\u001b[0;34m\u001b[0m\u001b[0;34m\u001b[0m\u001b[0;34m\u001b[0m\u001b[0m\n\u001b[1;32m      2\u001b[0m \u001b[0;34m\u001b[0m\u001b[0m\n\u001b[0;32m----> 3\u001b[0;31m \u001b[0mprint\u001b[0m\u001b[0;34m(\u001b[0m\u001b[0mtuple\u001b[0m\u001b[0;34m(\u001b[0m\u001b[0;36m5000\u001b[0m\u001b[0;34m)\u001b[0m\u001b[0;34m)\u001b[0m\u001b[0;34m\u001b[0m\u001b[0;34m\u001b[0m\u001b[0m\n\u001b[0m",
            "\u001b[0;31mTypeError\u001b[0m: 'int' object is not iterable"
          ]
        }
      ],
      "source": [
        "##### Because we can iterate through strings, we can convert them to tuples with thetuple() method. With data types that are not iterable, however, like integers and floats, we will receive a type error:\n",
        "\n",
        "print(tuple(5000))\n"
      ]
    },
    {
      "cell_type": "code",
      "execution_count": null,
      "id": "f2d28630",
      "metadata": {
        "id": "f2d28630",
        "outputId": "5867b2aa-dc17-4322-be39-b20adc49f10a"
      },
      "outputs": [
        {
          "name": "stdout",
          "output_type": "stream",
          "text": [
            "['blue coral', 'staghorn coral', 'pillar coral']\n"
          ]
        }
      ],
      "source": [
        "print(list(('blue coral', 'staghorn coral', 'pillar coral')))"
      ]
    },
    {
      "cell_type": "code",
      "execution_count": null,
      "id": "2c7c2869",
      "metadata": {
        "id": "2c7c2869",
        "outputId": "44684cb5-6912-4fe8-c085-f9d28199704c"
      },
      "outputs": [
        {
          "name": "stdout",
          "output_type": "stream",
          "text": [
            "['s', 'h', 'a', 'r', 'k']\n"
          ]
        }
      ],
      "source": [
        "#Just like tuples, strings can be converted to lists:\n",
        "print(list('shark'))"
      ]
    },
    {
      "cell_type": "code",
      "execution_count": null,
      "id": "5140dee6",
      "metadata": {
        "id": "5140dee6"
      },
      "outputs": [],
      "source": [
        "my_string = 'Hello, World!'\n",
        "my_flt = 45.06\n",
        "my_bool = 5 > 9 #A Boolean value will return either\n",
        "True or False\n",
        "my_list = ['item_1', 'item_2', 'item_3', 'item_4']\n",
        "my_tuple = ('one', 'two', 'three')\n",
        "my_dict = {'letter': 'g', 'number': 'seven', 'symbol':'&'}"
      ]
    },
    {
      "cell_type": "markdown",
      "id": "e28de57b",
      "metadata": {
        "id": "e28de57b"
      },
      "source": [
        "## Variables"
      ]
    },
    {
      "cell_type": "markdown",
      "id": "2a02b4c2",
      "metadata": {
        "id": "2a02b4c2"
      },
      "source": [
        "Variable names must only be one word (as in no spaces)\\\n",
        "Variable names must be made up of only letters, numbers, and underscore (_)\\\n",
        "Variable names cannot begin with a number\n",
        "\n",
        "Chk these:\\\n",
        "my_int int4 MY_INT another_int valid\\\n",
        "my-int 4int $MY_INT another int invalid\\\n",
        "Hyphens are not permitted Cannot begin with a number Cannot use symbols other than _ Cannot be more than one word\\\n",
        "\n",
        "Global and Local Variables"
      ]
    },
    {
      "cell_type": "markdown",
      "id": "6a183b00",
      "metadata": {
        "id": "6a183b00"
      },
      "source": [
        "## Conditionals"
      ]
    },
    {
      "cell_type": "code",
      "execution_count": null,
      "id": "3979b738",
      "metadata": {
        "id": "3979b738"
      },
      "outputs": [],
      "source": [
        "a=5"
      ]
    },
    {
      "cell_type": "code",
      "execution_count": null,
      "id": "b93b2aed",
      "metadata": {
        "id": "b93b2aed",
        "outputId": "3e820d89-0d4d-4284-8de8-c3866e8c20cb"
      },
      "outputs": [
        {
          "name": "stdout",
          "output_type": "stream",
          "text": [
            "5\n"
          ]
        }
      ],
      "source": [
        "x=15\n",
        "if x < 10:\n",
        "    y=x\n",
        "    print(2*y)\n",
        "print(y)"
      ]
    },
    {
      "cell_type": "code",
      "execution_count": null,
      "id": "7b23cd75",
      "metadata": {
        "id": "7b23cd75",
        "outputId": "ae229581-b36a-4d01-bfd2-7e9c81bc0eed"
      },
      "outputs": [
        {
          "name": "stdout",
          "output_type": "stream",
          "text": [
            "a is greater than 2\n"
          ]
        }
      ],
      "source": [
        "if(a>2):\n",
        "    print('a is greater than 2')\n",
        "else:\n",
        "    print('a is not greater than 2')"
      ]
    },
    {
      "cell_type": "code",
      "execution_count": null,
      "id": "6902e6a1",
      "metadata": {
        "id": "6902e6a1",
        "outputId": "917e3fa1-901c-4ebb-e5f7-cd68b1d03849"
      },
      "outputs": [
        {
          "name": "stdout",
          "output_type": "stream",
          "text": [
            "a is greater than 2\n",
            "a is not greater than 2\n"
          ]
        }
      ],
      "source": [
        "if(a>2):\n",
        "    print('a is greater than 2')\n",
        "print('a is not greater than 2')"
      ]
    },
    {
      "cell_type": "code",
      "execution_count": null,
      "id": "254435bd",
      "metadata": {
        "id": "254435bd"
      },
      "outputs": [],
      "source": [
        "should_multiply=False"
      ]
    },
    {
      "cell_type": "code",
      "execution_count": null,
      "id": "b5ec5216",
      "metadata": {
        "id": "b5ec5216"
      },
      "outputs": [],
      "source": [
        "b=2"
      ]
    },
    {
      "cell_type": "code",
      "execution_count": null,
      "id": "3562c909",
      "metadata": {
        "id": "3562c909"
      },
      "outputs": [],
      "source": [
        "if(should_multiply == True):\n",
        "    c=a*b\n",
        "else:\n",
        "    c=a+b"
      ]
    },
    {
      "cell_type": "code",
      "execution_count": null,
      "id": "04683335",
      "metadata": {
        "id": "04683335",
        "outputId": "c110f628-549d-48da-9681-cc0f90e319cd"
      },
      "outputs": [
        {
          "data": {
            "text/plain": [
              "7"
            ]
          },
          "execution_count": 52,
          "metadata": {},
          "output_type": "execute_result"
        }
      ],
      "source": [
        "c"
      ]
    },
    {
      "cell_type": "code",
      "execution_count": null,
      "id": "3354fa3c",
      "metadata": {
        "id": "3354fa3c",
        "outputId": "32ce0d1d-e1e3-4a8f-f660-fc1ec9866a7a"
      },
      "outputs": [
        {
          "name": "stdout",
          "output_type": "stream",
          "text": [
            "(8.0, 63.5)\n"
          ]
        }
      ],
      "source": [
        "a = 985.5\n",
        "b = 115.25\n",
        "print(divmod(a,b))\n",
        "#8.0 is the floor quotient of 985.5 divided by 115.25, and 63.5 is the remainder"
      ]
    },
    {
      "cell_type": "markdown",
      "id": "852d362d",
      "metadata": {
        "id": "852d362d"
      },
      "source": [
        "## Loops"
      ]
    },
    {
      "cell_type": "code",
      "execution_count": null,
      "id": "9d485ae7",
      "metadata": {
        "id": "9d485ae7",
        "outputId": "06e99049-de4e-491b-b44b-608c515233d1"
      },
      "outputs": [
        {
          "name": "stdout",
          "output_type": "stream",
          "text": [
            "3 9 27\n",
            "6 36 216\n",
            "9 81 729\n",
            "12 144 1728\n"
          ]
        }
      ],
      "source": [
        "for i in range(3,13,3):\n",
        "    print(i, i*i, i*i*i)\n"
      ]
    },
    {
      "cell_type": "code",
      "execution_count": null,
      "id": "bc79f265",
      "metadata": {
        "id": "bc79f265",
        "outputId": "1e95d081-3fc8-4514-e9a4-4293714b45bb"
      },
      "outputs": [
        {
          "name": "stdout",
          "output_type": "stream",
          "text": [
            "  3    9    27\n",
            "  4   16    64\n",
            "  5   25   125\n",
            "  6   36   216\n",
            "  7   49   343\n",
            "  8   64   512\n",
            "  9   81   729\n",
            " 10  100  1000\n",
            " 11  121  1331\n",
            " 12  144  1728\n"
          ]
        }
      ],
      "source": [
        "for i in range(3,13):\n",
        "    print(\"{:3d} {:4d} {:5d}\".format(i, i*i, i*i*i))"
      ]
    },
    {
      "cell_type": "code",
      "execution_count": null,
      "id": "7553c12d",
      "metadata": {
        "id": "7553c12d",
        "outputId": "1a7a68ae-e4d7-4d1a-b21d-7ac6a5555cb4"
      },
      "outputs": [
        {
          "name": "stdout",
          "output_type": "stream",
          "text": [
            "7.8\n",
            "6\n",
            "5\n",
            "4\n",
            "3\n",
            "2\n",
            ".\n"
          ]
        }
      ],
      "source": [
        "for i in list1:\n",
        "    print(i+1)\n",
        "print('.')"
      ]
    },
    {
      "cell_type": "code",
      "execution_count": null,
      "id": "b719e54e",
      "metadata": {
        "id": "b719e54e"
      },
      "outputs": [],
      "source": [
        "list1"
      ]
    },
    {
      "cell_type": "code",
      "execution_count": null,
      "id": "b054cf55",
      "metadata": {
        "id": "b054cf55"
      },
      "outputs": [],
      "source": [
        "new_list=[]\n",
        "for i in list1:\n",
        "    new_list.append(i+1)\n",
        "\n",
        "\n",
        "\n",
        "\n",
        "\n",
        "\n",
        ""
      ]
    },
    {
      "cell_type": "code",
      "execution_count": 1,
      "id": "c0891a0f",
      "metadata": {
        "id": "c0891a0f",
        "outputId": "b7951198-d217-4d7f-ea86-963ac3af0e22",
        "colab": {
          "base_uri": "https://localhost:8080/",
          "height": 144
        }
      },
      "outputs": [
        {
          "output_type": "error",
          "ename": "NameError",
          "evalue": "name 'list1' is not defined",
          "traceback": [
            "\u001b[0;31m---------------------------------------------------------------------------\u001b[0m",
            "\u001b[0;31mNameError\u001b[0m                                 Traceback (most recent call last)",
            "\u001b[0;32m<ipython-input-1-32e3a55f6bef>\u001b[0m in \u001b[0;36m<cell line: 1>\u001b[0;34m()\u001b[0m\n\u001b[0;32m----> 1\u001b[0;31m \u001b[0mlist1\u001b[0m\u001b[0;34m\u001b[0m\u001b[0;34m\u001b[0m\u001b[0m\n\u001b[0m",
            "\u001b[0;31mNameError\u001b[0m: name 'list1' is not defined"
          ]
        }
      ],
      "source": [
        "list1"
      ]
    },
    {
      "cell_type": "code",
      "source": [],
      "metadata": {
        "id": "dNoLniYnGTIN"
      },
      "id": "dNoLniYnGTIN",
      "execution_count": null,
      "outputs": []
    },
    {
      "cell_type": "markdown",
      "source": [
        "**In Python, when to use a Dictionary, List or Set?**\n",
        "\n",
        "\n",
        "A list keeps order, dict and set don't: when you care about order, therefore, you must use list (if your choice of containers is limited to these three, of course ;-) ).\n",
        "\n",
        "dict associates each key with a value, while list and set just contain values: very different use cases, obviously.\n",
        "\n",
        "set requires items to be hashable, list doesn't: if you have non-hashable items, therefore, you cannot use set and must instead use list.\n",
        "\n",
        "set forbids duplicates, list does not: also a crucial distinction. (A \"multiset\", which maps duplicates into a different count for items present more than once, can be found in collections.Counter -- you could build one as a dict, if for some weird reason you couldn't import collections, or, in pre-2.7 Python as a collections.defaultdict(int), using the items as keys and the associated value as the count).\n",
        "\n",
        "Checking for membership of a value in a set (or dict, for keys) is blazingly fast (taking about a constant, short time), while in a list it takes time proportional to the list's length in the average and worst cases. So, if you have hashable items, don't care either way about order or duplicates, and want speedy membership checking, set is better than list."
      ],
      "metadata": {
        "id": "nYKSknaVGUMX"
      },
      "id": "nYKSknaVGUMX"
    },
    {
      "cell_type": "markdown",
      "id": "11011d1b",
      "metadata": {
        "id": "11011d1b"
      },
      "source": [
        "## Formating"
      ]
    },
    {
      "cell_type": "code",
      "execution_count": null,
      "id": "82dedaa8",
      "metadata": {
        "id": "82dedaa8",
        "outputId": "03bb8bfc-42ac-4439-87d7-4c1f38b10d8a"
      },
      "outputs": [
        {
          "name": "stdout",
          "output_type": "stream",
          "text": [
            "Rupa has 5 balloons.\n"
          ]
        }
      ],
      "source": [
        "print(\"Rupa has {} balloons.\".format(5))\n"
      ]
    },
    {
      "cell_type": "code",
      "execution_count": null,
      "id": "246bbc61",
      "metadata": {
        "id": "246bbc61",
        "outputId": "49f49cab-21a2-4b23-fad8-bd68003abcab"
      },
      "outputs": [
        {
          "name": "stdout",
          "output_type": "stream",
          "text": [
            "Sammy loves open source.\n"
          ]
        }
      ],
      "source": [
        "open_string = \"Sammy loves {}.\"\n",
        "print(open_string.format(\"open source\"))"
      ]
    },
    {
      "cell_type": "code",
      "execution_count": null,
      "id": "9640a8b3",
      "metadata": {
        "id": "9640a8b3",
        "outputId": "e9ac18dc-9f0c-4c93-db9d-d273dac21675"
      },
      "outputs": [
        {
          "name": "stdout",
          "output_type": "stream",
          "text": [
            "Sammy ate 75.765 percent of a pizza!\n"
          ]
        }
      ],
      "source": [
        "#Eva ate 75.765367% of the pizza\n",
        "print(\"Sammy ate {0:.3f} percent of a pizza!\".format(75.765367))\n"
      ]
    },
    {
      "cell_type": "code",
      "execution_count": null,
      "id": "0cdba16b",
      "metadata": {
        "id": "0cdba16b",
        "outputId": "a4397bc7-509c-4ecc-d77f-a69e026a16cc"
      },
      "outputs": [
        {
          "name": "stdout",
          "output_type": "stream",
          "text": [
            "Sammy ate 75.8 percent of a pizza!\n"
          ]
        }
      ],
      "source": [
        "print(\"Sammy ate {0:.1f} percent of a pizza!\".format(75.765367))#try others"
      ]
    },
    {
      "cell_type": "code",
      "execution_count": null,
      "id": "fb75bac8",
      "metadata": {
        "id": "fb75bac8",
        "outputId": "c8894538-34ae-4b9f-d59a-51751c6070b9"
      },
      "outputs": [
        {
          "name": "stdout",
          "output_type": "stream",
          "text": [
            "Sammy ate 76 percent of a pizza!\n"
          ]
        }
      ],
      "source": [
        "print(\"Sammy ate {0:.0f} percent of a pizza!\".format(75.765367))\n",
        "#This will not convert your float to an integer, but instead limit the number of places shown after the decimal point."
      ]
    },
    {
      "cell_type": "markdown",
      "id": "ea16b902",
      "metadata": {
        "id": "ea16b902"
      },
      "source": [
        "## Functions"
      ]
    },
    {
      "cell_type": "code",
      "execution_count": null,
      "id": "14218b40",
      "metadata": {
        "id": "14218b40"
      },
      "outputs": [],
      "source": [
        "def strange_function(a):\n",
        "    a=a*2\n",
        "    a=a-7\n",
        "    a=a/5\n",
        "    return a"
      ]
    },
    {
      "cell_type": "code",
      "execution_count": null,
      "id": "0c4da076",
      "metadata": {
        "id": "0c4da076",
        "outputId": "f20ca924-2b48-4fad-bf27-f81d8fbbfb73"
      },
      "outputs": [
        {
          "data": {
            "text/plain": [
              "1.4"
            ]
          },
          "execution_count": 54,
          "metadata": {},
          "output_type": "execute_result"
        }
      ],
      "source": [
        "strange_function(7)"
      ]
    },
    {
      "cell_type": "code",
      "execution_count": null,
      "id": "c169d6f5",
      "metadata": {
        "id": "c169d6f5"
      },
      "outputs": [],
      "source": [
        "def raise_to_the_power_n_plus_1(a,n):\n",
        "    return a**(n+1)"
      ]
    },
    {
      "cell_type": "code",
      "execution_count": null,
      "id": "bda58562",
      "metadata": {
        "id": "bda58562",
        "outputId": "0475c6e8-0e1f-4d80-d56b-2885c3eab81b"
      },
      "outputs": [
        {
          "data": {
            "text/plain": [
              "16"
            ]
          },
          "execution_count": 63,
          "metadata": {},
          "output_type": "execute_result"
        }
      ],
      "source": [
        "raise_to_the_power_n_plus_1(2,3)"
      ]
    },
    {
      "cell_type": "code",
      "execution_count": null,
      "id": "02724b39",
      "metadata": {
        "id": "02724b39",
        "outputId": "2835accf-d77e-43d5-923d-b4fe5eacd6f9"
      },
      "outputs": [
        {
          "data": {
            "text/plain": [
              "0.42857142857142855"
            ]
          },
          "execution_count": 55,
          "metadata": {},
          "output_type": "execute_result"
        }
      ],
      "source": [
        "3/7"
      ]
    },
    {
      "cell_type": "code",
      "execution_count": null,
      "id": "525e5054",
      "metadata": {
        "id": "525e5054",
        "outputId": "f2a5c61a-9b14-48e2-caf2-f24c9cdf966e"
      },
      "outputs": [
        {
          "data": {
            "text/plain": [
              "4"
            ]
          },
          "execution_count": 57,
          "metadata": {},
          "output_type": "execute_result"
        }
      ],
      "source": [
        "30//7"
      ]
    },
    {
      "cell_type": "code",
      "execution_count": null,
      "id": "8d427457",
      "metadata": {
        "id": "8d427457",
        "outputId": "fc2f2c40-b71f-45c8-d42e-db7d031a65f1"
      },
      "outputs": [
        {
          "data": {
            "text/plain": [
              "2"
            ]
          },
          "execution_count": 58,
          "metadata": {},
          "output_type": "execute_result"
        }
      ],
      "source": [
        "30%7"
      ]
    },
    {
      "cell_type": "code",
      "execution_count": null,
      "id": "5300e511",
      "metadata": {
        "id": "5300e511",
        "outputId": "dcc2feeb-403c-426d-dcdc-62f2e50f6240"
      },
      "outputs": [
        {
          "data": {
            "text/plain": [
              "75523888028456582905686407397080706737842745397722578903685079119573590677247716791548277767024877706163004673457763412350925318285922004371103391099639043328560210195294048615967272923319894584979117287139554418802103515449314089178159002335215386724689816862920844376838429881524523550783368777377832714213228942572841761481713187871800371759180074020767635276565265598296537717768471029593507744873578140562133319706133810727912516482165494664571092270454806921342767415054436720740158552986638898591128629532623342309009580967683585551199994338803490045143215618540452280059200512690136449665578523980604412956005240817749892227769182812322994123026160154592048314750379460428593084944038866261542293547011054796669743923248386150451641451022849880363197770837628919616273367262189932507715198415917395800393576321346019832548166885842512852031475737182380552745492056054124066634382596191754756651100350982315001017451560572635190229758514355722660858100988464914007415611334596049627791816400290440998432378720867696596933080555182937719396416272869248842865710452494916828970750177774107214645482599735260009765625"
            ]
          },
          "execution_count": 60,
          "metadata": {},
          "output_type": "execute_result"
        }
      ],
      "source": [
        "45**678"
      ]
    },
    {
      "cell_type": "code",
      "execution_count": null,
      "id": "0e70a383",
      "metadata": {
        "id": "0e70a383",
        "outputId": "00b18385-3d34-4e6f-c8a9-24d51baa235a"
      },
      "outputs": [
        {
          "data": {
            "text/plain": [
              "0.5253219888177297"
            ]
          },
          "execution_count": 63,
          "metadata": {},
          "output_type": "execute_result"
        }
      ],
      "source": [
        "from math import *\n",
        "cos(45)"
      ]
    },
    {
      "cell_type": "code",
      "execution_count": null,
      "id": "a83bc3b8",
      "metadata": {
        "id": "a83bc3b8"
      },
      "outputs": [],
      "source": []
    },
    {
      "cell_type": "markdown",
      "id": "75b923ef",
      "metadata": {
        "id": "75b923ef"
      },
      "source": [
        "## Python Libraries"
      ]
    },
    {
      "cell_type": "code",
      "execution_count": null,
      "id": "3b70918c",
      "metadata": {
        "id": "3b70918c"
      },
      "outputs": [],
      "source": []
    },
    {
      "cell_type": "markdown",
      "id": "91cd2333",
      "metadata": {
        "id": "91cd2333"
      },
      "source": [
        "Python has an abundance of additional libraries to augument the base framework. You can think of libraries as collections of functions that can be accessed to complete certain programming tasks\n",
        "\n",
        "Today, we will focus on the following libraries:\n",
        "\n",
        "Numpy is a library for working with arrays of data\n",
        "Scipy is a library of techniques for numerical and scientific computing\n",
        "Matplotlib is a library for making graphs\n",
        "Seaborn is a higher-level interface to Matplotlib that can be used simplify many tasks"
      ]
    },
    {
      "cell_type": "markdown",
      "id": "4d7e7ab8",
      "metadata": {
        "id": "4d7e7ab8"
      },
      "source": [
        "Importing Libraries\n",
        "When using Python, you must always begin your script by importing the libraries that you will be using.\n",
        "\n",
        "Below, we import the numpy and matplotlib libraries and give them abbreviated names:"
      ]
    },
    {
      "cell_type": "code",
      "execution_count": null,
      "id": "d9f4f20e",
      "metadata": {
        "id": "d9f4f20e"
      },
      "outputs": [],
      "source": [
        "import numpy as np"
      ]
    },
    {
      "cell_type": "code",
      "execution_count": null,
      "id": "418bef03",
      "metadata": {
        "id": "418bef03",
        "outputId": "fcc4fc62-a562-4a4c-e499-c45128186781"
      },
      "outputs": [
        {
          "data": {
            "text/plain": [
              "0.5253219888177297"
            ]
          },
          "execution_count": 67,
          "metadata": {},
          "output_type": "execute_result"
        }
      ],
      "source": [
        "np.cos(45)"
      ]
    },
    {
      "cell_type": "code",
      "execution_count": null,
      "id": "cb9bcad7",
      "metadata": {
        "id": "cb9bcad7"
      },
      "outputs": [],
      "source": [
        "x=np.linspace(0,50)"
      ]
    },
    {
      "cell_type": "code",
      "execution_count": null,
      "id": "b8bf6687",
      "metadata": {
        "id": "b8bf6687"
      },
      "outputs": [],
      "source": [
        "y=np.sin(x)"
      ]
    },
    {
      "cell_type": "code",
      "execution_count": null,
      "id": "cbbb59bb",
      "metadata": {
        "id": "cbbb59bb",
        "outputId": "6aac2866-a2d4-4987-a99c-076482f8f236"
      },
      "outputs": [
        {
          "data": {
            "text/plain": [
              "array([ 0.        ,  1.02040816,  2.04081633,  3.06122449,  4.08163265,\n",
              "        5.10204082,  6.12244898,  7.14285714,  8.16326531,  9.18367347,\n",
              "       10.20408163, 11.2244898 , 12.24489796, 13.26530612, 14.28571429,\n",
              "       15.30612245, 16.32653061, 17.34693878, 18.36734694, 19.3877551 ,\n",
              "       20.40816327, 21.42857143, 22.44897959, 23.46938776, 24.48979592,\n",
              "       25.51020408, 26.53061224, 27.55102041, 28.57142857, 29.59183673,\n",
              "       30.6122449 , 31.63265306, 32.65306122, 33.67346939, 34.69387755,\n",
              "       35.71428571, 36.73469388, 37.75510204, 38.7755102 , 39.79591837,\n",
              "       40.81632653, 41.83673469, 42.85714286, 43.87755102, 44.89795918,\n",
              "       45.91836735, 46.93877551, 47.95918367, 48.97959184, 50.        ])"
            ]
          },
          "execution_count": 74,
          "metadata": {},
          "output_type": "execute_result"
        }
      ],
      "source": [
        "x"
      ]
    },
    {
      "cell_type": "code",
      "execution_count": null,
      "id": "474fb9d7",
      "metadata": {
        "id": "474fb9d7",
        "outputId": "2588ad42-fbd8-44d3-bbea-bc6a5087d1fb"
      },
      "outputs": [
        {
          "data": {
            "text/plain": [
              "array([ 0.        ,  0.85232157,  0.89155923,  0.08028167, -0.80758169,\n",
              "       -0.92504137, -0.16004509,  0.75762842,  0.95255185,  0.23877532,\n",
              "       -0.70278422, -0.97391306, -0.31596412,  0.64340315,  0.98898712,\n",
              "        0.39111319, -0.57986856, -0.9976767 , -0.4637374 ,  0.51259058,\n",
              "        0.99992572,  0.53336793, -0.44200354, -0.99571964, -0.59955527,\n",
              "        0.36856312,  0.98508564,  0.66187214, -0.29274341, -0.96809235,\n",
              "       -0.71991625,  0.21503388,  0.94484948,  0.77331289, -0.13593619,\n",
              "       -0.91550706, -0.82171736,  0.05596095,  0.88025454,  0.86481718,\n",
              "        0.02437555, -0.83931947, -0.90233411, -0.10455469,  0.79296611,\n",
              "        0.93402597,  0.18405888, -0.74149372, -0.95968816, -0.26237485])"
            ]
          },
          "execution_count": 75,
          "metadata": {},
          "output_type": "execute_result"
        }
      ],
      "source": [
        "y"
      ]
    },
    {
      "cell_type": "code",
      "execution_count": null,
      "id": "297bc19d",
      "metadata": {
        "id": "297bc19d"
      },
      "outputs": [],
      "source": [
        "import      matplotlib.pyplot as plt"
      ]
    },
    {
      "cell_type": "code",
      "execution_count": null,
      "id": "573c2a8d",
      "metadata": {
        "id": "573c2a8d"
      },
      "outputs": [],
      "source": []
    },
    {
      "cell_type": "code",
      "execution_count": null,
      "id": "a58e7695",
      "metadata": {
        "id": "a58e7695",
        "outputId": "3041397a-16d2-4650-e31d-f1e9febc0b0e"
      },
      "outputs": [
        {
          "data": {
            "text/plain": [
              "[<matplotlib.lines.Line2D at 0x7ffc89414d30>]"
            ]
          },
          "execution_count": 77,
          "metadata": {},
          "output_type": "execute_result"
        },
        {
          "data": {
            "image/png": "[encoded data removed]",
            "text/plain": [
              "<Figure size 432x288 with 1 Axes>"
            ]
          },
          "metadata": {
            "needs_background": "light"
          },
          "output_type": "display_data"
        }
      ],
      "source": [
        "plt.plot(x      ,y)"
      ]
    },
    {
      "cell_type": "code",
      "execution_count": null,
      "id": "55449c62",
      "metadata": {
        "id": "55449c62"
      },
      "outputs": [],
      "source": [
        "plt.plot(y,z)"
      ]
    },
    {
      "cell_type": "code",
      "execution_count": null,
      "id": "a5ae3672",
      "metadata": {
        "id": "a5ae3672"
      },
      "outputs": [],
      "source": [
        "import numpy as np\n",
        "from scipy import stats\n",
        "import matplotlib.pyplot as plt\n",
        "import seaborn as sns"
      ]
    },
    {
      "cell_type": "markdown",
      "id": "f2725450",
      "metadata": {
        "id": "f2725450"
      },
      "source": [
        "After importing a library, its functions can then be called from your code by prepending the library name to the function name"
      ]
    },
    {
      "cell_type": "markdown",
      "id": "139452bd",
      "metadata": {
        "id": "139452bd"
      },
      "source": [
        "### Numpy"
      ]
    },
    {
      "cell_type": "markdown",
      "id": "488f0f10",
      "metadata": {
        "id": "488f0f10"
      },
      "source": [
        "NumPy is the fundamental package for scientific computing with Python. Lets focus on the numpy array object"
      ]
    },
    {
      "cell_type": "code",
      "execution_count": null,
      "id": "1ec5217b",
      "metadata": {
        "id": "1ec5217b"
      },
      "outputs": [],
      "source": [
        "import numpy as np"
      ]
    },
    {
      "cell_type": "code",
      "execution_count": null,
      "id": "ba95fb9e",
      "metadata": {
        "id": "ba95fb9e"
      },
      "outputs": [],
      "source": []
    },
    {
      "cell_type": "code",
      "execution_count": null,
      "id": "8dbff299",
      "metadata": {
        "id": "8dbff299"
      },
      "outputs": [],
      "source": []
    },
    {
      "cell_type": "code",
      "execution_count": null,
      "id": "df33d504",
      "metadata": {
        "id": "df33d504"
      },
      "outputs": [],
      "source": []
    },
    {
      "cell_type": "code",
      "execution_count": null,
      "id": "2f17662e",
      "metadata": {
        "id": "2f17662e"
      },
      "outputs": [],
      "source": []
    },
    {
      "cell_type": "code",
      "execution_count": null,
      "id": "6d7ec190",
      "metadata": {
        "id": "6d7ec190"
      },
      "outputs": [],
      "source": []
    },
    {
      "cell_type": "code",
      "execution_count": null,
      "id": "a07226e9",
      "metadata": {
        "id": "a07226e9",
        "outputId": "0d5e6ff8-221c-474a-a7b1-be91c1b50810"
      },
      "outputs": [
        {
          "name": "stdout",
          "output_type": "stream",
          "text": [
            "[1 2 3]\n",
            "<class 'numpy.ndarray'>\n",
            "(3,)\n",
            "1\n",
            "3\n"
          ]
        }
      ],
      "source": [
        "## make a 3x1 numpy array\n",
        "a = np.array([1, 2, 3])\n",
        "\n",
        "## print it out\n",
        "print(a)\n",
        "\n",
        "## print object type\n",
        "print(type(a))\n",
        "\n",
        "## print shape\n",
        "print(a.shape)\n",
        "\n",
        "## print some values\n",
        "print(a[0])\n",
        "print(a[2])"
      ]
    },
    {
      "cell_type": "code",
      "execution_count": null,
      "id": "acc451b1",
      "metadata": {
        "id": "acc451b1",
        "outputId": "07b36045-b653-48eb-8554-36fc68825d6d"
      },
      "outputs": [
        {
          "name": "stdout",
          "output_type": "stream",
          "text": [
            "[[1 2]\n",
            " [3 4]]\n",
            "(2, 2)\n",
            "1\n",
            "3\n"
          ]
        }
      ],
      "source": [
        "## make a 2x2 numpy array\n",
        "b = np.array([[1, 2], [3, 4]])\n",
        "\n",
        "## print it out\n",
        "print(b)\n",
        "\n",
        "## print out shape\n",
        "print(b.shape)\n",
        "\n",
        "## print row 1, column 1\n",
        "print(b[0,0])\n",
        "\n",
        "## print row 2, column 1\n",
        "print(b[1, 0])"
      ]
    },
    {
      "cell_type": "code",
      "execution_count": null,
      "id": "d8bbe217",
      "metadata": {
        "id": "d8bbe217",
        "outputId": "99558c52-d2b3-40e0-9de3-86842f87f714"
      },
      "outputs": [
        {
          "name": "stdout",
          "output_type": "stream",
          "text": [
            "[[0. 0. 0.]\n",
            " [0. 0. 0.]]\n",
            "(2, 3)\n"
          ]
        }
      ],
      "source": [
        "## make a 2x3 zero array\n",
        "c = np.zeros((2,3))\n",
        "\n",
        "## print out c\n",
        "print(c)\n",
        "\n",
        "## print out shape\n",
        "print(c.shape)"
      ]
    },
    {
      "cell_type": "code",
      "execution_count": null,
      "id": "7ab14203",
      "metadata": {
        "id": "7ab14203",
        "outputId": "34bd88ea-1e58-4c81-e620-dd41dcb7d652"
      },
      "outputs": [
        {
          "name": "stdout",
          "output_type": "stream",
          "text": [
            "[[1. 1.]\n",
            " [1. 1.]\n",
            " [1. 1.]\n",
            " [1. 1.]\n",
            " [1. 1.]]\n",
            "1.0\n",
            "[[1. 1.]\n",
            " [1. 1.]\n",
            " [1. 1.]\n",
            " [1. 1.]\n",
            " [1. 1.]]\n",
            "[[2. 2.]\n",
            " [2. 2.]\n",
            " [2. 2.]\n",
            " [2. 2.]\n",
            " [2. 2.]]\n",
            "[[2. 2.]\n",
            " [2. 2.]\n",
            " [2. 2.]\n",
            " [2. 2.]\n",
            " [2. 2.]]\n"
          ]
        }
      ],
      "source": [
        "## make a 5x2 array of ones\n",
        "d =  np.ones((5,2))\n",
        "\n",
        "## print out d\n",
        "print(d)\n",
        "\n",
        "## print out row 3, column 2\n",
        "print(d[2, 1])\n",
        "\n",
        "## create a pointer to d called e\n",
        "e = d\n",
        "\n",
        "## print out e\n",
        "print(e)\n",
        "\n",
        "## multiple e by 2 and print out\n",
        "e *= 2\n",
        "print(e)\n",
        "\n",
        "## print out d\n",
        "print(d)"
      ]
    },
    {
      "cell_type": "code",
      "execution_count": null,
      "id": "033e87c4",
      "metadata": {
        "id": "033e87c4",
        "outputId": "95438f9f-a1f2-4431-b966-5f644fe56b58"
      },
      "outputs": [
        {
          "name": "stdout",
          "output_type": "stream",
          "text": [
            "[[0.94731965 0.75740258 0.23480936 0.07817122]\n",
            " [0.9368705  0.77930744 0.71685484 0.77278887]\n",
            " [0.52614154 0.50436324 0.8602808  0.68053652]\n",
            " [0.75935376 0.27598976 0.83836054 0.59477663]\n",
            " [0.19403425 0.92622571 0.99260722 0.45863511]\n",
            " [0.68565258 0.16830131 0.48016686 0.51513822]\n",
            " [0.69082511 0.0249256  0.29207353 0.90935494]]\n"
          ]
        },
        {
          "data": {
            "text/plain": [
              "0.5929024181778201"
            ]
          },
          "execution_count": 72,
          "metadata": {},
          "output_type": "execute_result"
        }
      ],
      "source": [
        "## create a 7x4 random array\n",
        "f = np.random.random((7,4))\n",
        "\n",
        "## print out f\n",
        "print(f)\n",
        "\n",
        "## find the mean of f\n",
        "np.mean(f)"
      ]
    },
    {
      "cell_type": "code",
      "execution_count": null,
      "id": "a4d02572",
      "metadata": {
        "id": "a4d02572",
        "outputId": "c80caf75-2801-490d-81ab-2351bea7f0ec"
      },
      "outputs": [
        {
          "name": "stdout",
          "output_type": "stream",
          "text": [
            "[[ 1  2  3  4]\n",
            " [ 5  6  7  8]\n",
            " [ 9 10 11 12]]\n",
            "[[2 3]\n",
            " [6 7]]\n"
          ]
        }
      ],
      "source": [
        "## make a 3x4 array\n",
        "g = np.array([[1, 2, 3, 4], [5, 6, 7, 8], [9, 10, 11, 12]])\n",
        "\n",
        "## print out g\n",
        "print(g)\n",
        "\n",
        "## Slice array to make a 2x2 sub-array called h\n",
        "h = g[:2, 1:3]\n",
        "\n",
        "## print h\n",
        "print(h)"
      ]
    },
    {
      "cell_type": "markdown",
      "id": "3a2a17c1",
      "metadata": {
        "id": "3a2a17c1"
      },
      "source": [
        "## Array Math"
      ]
    },
    {
      "cell_type": "code",
      "execution_count": null,
      "id": "c832560e",
      "metadata": {
        "id": "c832560e",
        "outputId": "2b0b17f3-f1da-49f1-9831-ed446280f0d5"
      },
      "outputs": [
        {
          "name": "stdout",
          "output_type": "stream",
          "text": [
            "[[ 6  8]\n",
            " [10 12]]\n",
            "[[ 6  8]\n",
            " [10 12]]\n",
            "[[-4 -4]\n",
            " [-4 -4]]\n",
            "[[-4 -4]\n",
            " [-4 -4]]\n",
            "[[ 5 12]\n",
            " [21 32]]\n",
            "[[ 5 12]\n",
            " [21 32]]\n",
            "[[0.2        0.33333333]\n",
            " [0.42857143 0.5       ]]\n",
            "[[0.2        0.33333333]\n",
            " [0.42857143 0.5       ]]\n",
            "[[1.         1.41421356]\n",
            " [1.73205081 2.        ]]\n"
          ]
        }
      ],
      "source": [
        "x = np.array([[1,2],[3,4]])\n",
        "y = np.array([[5,6], [7,8]])\n",
        "\n",
        "## Add x and y\n",
        "print(x+y)\n",
        "print(np.add(x,y))\n",
        "\n",
        "## Subtract x and y\n",
        "print(x-y)\n",
        "print(np.subtract(x,y))\n",
        "\n",
        "## elementwise product of x and y\n",
        "print(x*y)\n",
        "print(np.multiply(x,y))\n",
        "\n",
        "## elementwise division of x and y\n",
        "print(x / y)\n",
        "print(np.divide(x,y))\n",
        "\n",
        "## elementwise square root of x\n",
        "print(np.sqrt(x))"
      ]
    },
    {
      "cell_type": "code",
      "execution_count": null,
      "id": "b287b4ab",
      "metadata": {
        "id": "b287b4ab",
        "outputId": "63a22b48-cd2d-44f1-8ede-d9cc7700a0a8"
      },
      "outputs": [
        {
          "name": "stdout",
          "output_type": "stream",
          "text": [
            "10\n",
            "[4 6]\n",
            "[3 7]\n"
          ]
        }
      ],
      "source": [
        "## Compute sum of all elements in x\n",
        "print(np.sum(x))\n",
        "\n",
        "## Compute sum of each column.\n",
        "## axis = 0 will collaspe the rows\n",
        "print(np.sum(x, axis = 0))\n",
        "\n",
        "## Compute sume of each row\n",
        "## axis = 1 will collaspe the columns\n",
        "print(np.sum(x, axis = 1))\n"
      ]
    },
    {
      "cell_type": "code",
      "execution_count": null,
      "id": "b2113465",
      "metadata": {
        "id": "b2113465",
        "outputId": "ea7a7e24-56a5-4e57-fd0a-40232f2c3cf5"
      },
      "outputs": [
        {
          "name": "stdout",
          "output_type": "stream",
          "text": [
            "2.5\n",
            "[2. 3.]\n",
            "[1.5 3.5]\n"
          ]
        }
      ],
      "source": [
        "## Compute mean of all elements in x\n",
        "print(np.mean(x))\n",
        "\n",
        "## Compute mean of each column of x\n",
        "print(np.mean(x, axis = 0))\n",
        "\n",
        "## Compute mean of each row of x\n",
        "print(np.mean(x, axis = 1))"
      ]
    },
    {
      "cell_type": "markdown",
      "source": [
        "**What is a NumPy Array?**\n",
        "\n",
        "NumPy array is a multi-dimensional data structure that is the core of scientific computing in Python.\n",
        "\n",
        "All values in an array are homogenous (of the same data type).\n",
        "\n",
        "They offer automatic vectorization and broadcasting.\n",
        "\n",
        "They provide efficient memory management, ufuncs(universal functions), support various data types, and are flexible with Indexing and slicing.\n",
        "\n",
        "Dimensions in Arrays\n",
        "NumPy arrays can have multiple dimensions, allowing users to store data in multilayered structures.\n",
        "\n",
        "Dimensionalities of array:\n",
        "\n",
        "Name\tExample\n",
        "0D (zero-dimensional)\tScalar – A single element\n",
        "1D (one-dimensional)\tVector- A list of integers.\n",
        "2D (two-dimensional)\tMatrix- A spreadsheet of data\n",
        "3D (three-dimensional)\tTensor- Storing a color image\n"
      ],
      "metadata": {
        "id": "8TsppvlhI96T"
      },
      "id": "8TsppvlhI96T"
    },
    {
      "cell_type": "markdown",
      "id": "6d4ab878",
      "metadata": {
        "id": "6d4ab878"
      },
      "source": [
        "## SciPy"
      ]
    },
    {
      "cell_type": "markdown",
      "id": "75889263",
      "metadata": {
        "id": "75889263"
      },
      "source": [
        "Numpy provides a high-performance multidimensional array and basic tools to compute with and manipulate these arrays. SciPy builds on this, and provides a large number of functions that operate on numpy arrays and are useful for different types of scientific and engineering applications.\n",
        "\n",
        "We will primariyl be using the SciPy.Stats sub-library.\n",
        "\n",
        "The SciPy.Stats module contains a large number of probability distributions as well as a growing library of statistical functions such as:\n",
        "\n",
        "Continuous and Discrete Distributions (i.e Normal, Uniform, Binomial, etc.)\n",
        "\n",
        "Descriptive Statistcs\n",
        "\n",
        "Statistical Tests (i.e T-Test)"
      ]
    },
    {
      "cell_type": "code",
      "execution_count": null,
      "id": "75672d71",
      "metadata": {
        "id": "75672d71",
        "outputId": "8841e573-369a-45ff-fd46-ce8c63995f6b"
      },
      "outputs": [
        {
          "name": "stdout",
          "output_type": "stream",
          "text": [
            "[-0.6989956   0.91447914  0.07713996  1.06318955 -1.31078092 -1.02873904\n",
            " -1.8025391  -1.19387455  0.00582719 -0.12703904]\n"
          ]
        }
      ],
      "source": [
        "## Print Normal Random Variables\n",
        "print(stats.norm.rvs(size = 10))"
      ]
    },
    {
      "cell_type": "code",
      "execution_count": null,
      "id": "c275c718",
      "metadata": {
        "id": "c275c718",
        "outputId": "00fc79bd-1237-4986-da8f-79f4b276395c"
      },
      "outputs": [
        {
          "name": "stdout",
          "output_type": "stream",
          "text": [
            "[9.86587645e-10 1.34989803e-03 2.27501319e-02 1.58655254e-01\n",
            " 5.00000000e-01 8.41344746e-01 9.77249868e-01 9.98650102e-01\n",
            " 9.99999999e-01]\n"
          ]
        }
      ],
      "source": [
        "## Computer the Normal CDF of certain values\n",
        "print(stats.norm.cdf(np.array([-6, -3, -2, -1, 0, 1, 2, 3, 6])))"
      ]
    },
    {
      "cell_type": "markdown",
      "id": "f066df73",
      "metadata": {
        "id": "f066df73"
      },
      "source": [
        "## Google Colab and JupyterLab"
      ]
    },
    {
      "cell_type": "markdown",
      "id": "ca9dd058",
      "metadata": {
        "id": "ca9dd058"
      },
      "source": [
        "We can also make use of Jupyter Notebooks on the Cloud without installing anything on our local computers. For this, we can use the Google Colab or JupyterLab, which are both free services (upto certain computation and storage limits). We can also store our files for processing on these platforms. You will need a Google account to access and save our notebooks in Colab. We can also check out their guides for Google Colab to learn more about it.\n",
        "\n",
        "Google Colaboratory\n",
        "\n",
        "Jupyter Labs is a similar solution provided by Project Jupyter.\n",
        "\n",
        "Project Jupyter"
      ]
    },
    {
      "cell_type": "code",
      "execution_count": null,
      "id": "44ea19a5",
      "metadata": {
        "id": "44ea19a5"
      },
      "outputs": [],
      "source": []
    }
  ],
  "metadata": {
    "kernelspec": {
      "display_name": "Python 3",
      "language": "python",
      "name": "python3"
    },
    "language_info": {
      "codemirror_mode": {
        "name": "ipython",
        "version": 3
      },
      "file_extension": ".py",
      "mimetype": "text/x-python",
      "name": "python",
      "nbconvert_exporter": "python",
      "pygments_lexer": "ipython3",
      "version": "3.8.10"
    },
    "colab": {
      "provenance": []
    }
  },
  "nbformat": 4,
  "nbformat_minor": 5
}