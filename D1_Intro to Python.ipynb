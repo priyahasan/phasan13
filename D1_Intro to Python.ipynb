{
 "cells": [
  {
   "cell_type": "markdown",
   "id": "56f503f9",
   "metadata": {},
   "source": [
    "# TP1: Day1"
   ]
  },
  {
   "attachments": {
    "python1.jpeg": {
     "image/jpeg": "[encoded data removed]"
    }
   },
   "cell_type": "markdown",
   "id": "239bca60",
   "metadata": {},
   "source": [
    "\n",
    "![python1.jpeg](attachment:python1.jpeg)\n"
   ]
  },
  {
   "cell_type": "markdown",
   "id": "111796aa",
   "metadata": {},
   "source": [
    "# Introduction to Python and Jupyter Notebooks"
   ]
  },
  {
   "cell_type": "markdown",
   "id": "642b125a",
   "metadata": {},
   "source": [
    "# 1. Why program? Why Python?"
   ]
  },
  {
   "cell_type": "markdown",
   "id": "545e49c7",
   "metadata": {},
   "source": [
    "Programming while using scientific data is important as tasks can be done in an organised form, available to be repeated, reprogrammed and tailored for use. There are and have been many programming languages, but the advantages of using python are many. It is a simple, versatile, open source free language being used widely and hence a large number of libraries,  code and community support are available. Also high quality graphics can be easily created.  "
   ]
  },
  {
   "cell_type": "markdown",
   "id": "4244980c",
   "metadata": {},
   "source": [
    "Python is an interpreted high-level general-purpose programming language. Its design philosophy emphasizes code readability with its use of significant indentation. Its language constructs as well as its object-oriented approach aim to help programmers write clear, logical code for small and large-scale projects. \n",
    "First appeared: February 20, 1991; 30 years ago\n",
    "Designed by: Guido van Rossum\n",
    "OS: Windows, Linux/UNIX, macOS and more\n"
   ]
  },
  {
   "cell_type": "markdown",
   "id": "9a0741ff",
   "metadata": {},
   "source": [
    "The Jupyter Notebook (formerly IPython Notebooks) is a popular web-based interactive environment that was first started from the IPython project and is currently maintained by the nonprofit organization Project Jupyter. It’s a convenient tool to create and share documents that contain codes, equations, texts, and visualizations. A Jupyter Notebook can be easily converted to HTML, LaTeX, PDF, Markdown, Python, and other open standard formats"
   ]
  },
  {
   "cell_type": "markdown",
   "id": "1b0fef15",
   "metadata": {},
   "source": [
    "# 2. Installing Python - Anaconda Distribution"
   ]
  },
  {
   "cell_type": "code",
   "execution_count": 1,
   "id": "73419f57",
   "metadata": {},
   "outputs": [
    {
     "data": {
      "text/html": [
       "<div style=\"text-align:center;\">\n",
       "<iframe src=\"https://docs.conda.io/projects/conda/en/latest/user-guide/install/\" width=\"960\" height=\"540\"></iframe>\n",
       "</div>\n"
      ],
      "text/plain": [
       "<IPython.core.display.HTML object>"
      ]
     },
     "metadata": {},
     "output_type": "display_data"
    }
   ],
   "source": [
    "%%html\n",
    "<div style=\"text-align:center;\">\n",
    "<iframe src=\"https://docs.conda.io/projects/conda/en/latest/user-guide/install/\" width=\"960\" height=\"540\"></iframe>\n",
    "</div>"
   ]
  },
  {
   "cell_type": "markdown",
   "id": "ed88af67",
   "metadata": {},
   "source": [
    "# 3. Getting Started with Basic Python Commands, Syntax"
   ]
  },
  {
   "cell_type": "markdown",
   "id": "4ee0607b",
   "metadata": {},
   "source": [
    "## Here it is"
   ]
  },
  {
   "cell_type": "markdown",
   "id": "71a50ad3",
   "metadata": {},
   "source": [
    "## Simple Calculations"
   ]
  },
  {
   "cell_type": "code",
   "execution_count": 2,
   "id": "cd75c918",
   "metadata": {},
   "outputs": [
    {
     "name": "stdout",
     "output_type": "stream",
     "text": [
      "8\n"
     ]
    }
   ],
   "source": [
    "a=2\n",
    "b=6\n"
   ]
  },
  {
   "cell_type": "code",
   "execution_count": 5,
   "id": "5e7a7f0a",
   "metadata": {},
   "outputs": [
    {
     "name": "stdout",
     "output_type": "stream",
     "text": [
      "11\n"
     ]
    }
   ],
   "source": [
    "c=a+b\n",
    "print(c)"
   ]
  },
  {
   "cell_type": "code",
   "execution_count": 4,
   "id": "eedbea72",
   "metadata": {},
   "outputs": [
    {
     "data": {
      "text/plain": [
       "13"
      ]
     },
     "execution_count": 4,
     "metadata": {},
     "output_type": "execute_result"
    }
   ],
   "source": [
    "a=7\n",
    "c=a+b\n",
    "b=4\n",
    "c"
   ]
  },
  {
   "cell_type": "code",
   "execution_count": 8,
   "id": "47f61133",
   "metadata": {},
   "outputs": [
    {
     "name": "stdout",
     "output_type": "stream",
     "text": [
      "8\n"
     ]
    }
   ],
   "source": [
    "c=2\n",
    "d=4\n",
    "e=c*d\n",
    "print(e)"
   ]
  },
  {
   "cell_type": "code",
   "execution_count": 9,
   "id": "af28da95",
   "metadata": {},
   "outputs": [
    {
     "name": "stdout",
     "output_type": "stream",
     "text": [
      "64\n"
     ]
    }
   ],
   "source": [
    "f=e**2\n",
    "print(f)"
   ]
  },
  {
   "cell_type": "code",
   "execution_count": 10,
   "id": "98748b03",
   "metadata": {},
   "outputs": [
    {
     "data": {
      "text/plain": [
       "64"
      ]
     },
     "execution_count": 10,
     "metadata": {},
     "output_type": "execute_result"
    }
   ],
   "source": [
    "f"
   ]
  },
  {
   "cell_type": "code",
   "execution_count": 5,
   "id": "6d1205a7",
   "metadata": {},
   "outputs": [
    {
     "name": "stdout",
     "output_type": "stream",
     "text": [
      "2\n"
     ]
    }
   ],
   "source": [
    "print(a)"
   ]
  },
  {
   "cell_type": "code",
   "execution_count": 6,
   "id": "bf36c185",
   "metadata": {},
   "outputs": [
    {
     "data": {
      "text/plain": [
       "2"
      ]
     },
     "execution_count": 6,
     "metadata": {},
     "output_type": "execute_result"
    }
   ],
   "source": [
    "a"
   ]
  },
  {
   "cell_type": "code",
   "execution_count": 7,
   "id": "e6c28d9a",
   "metadata": {},
   "outputs": [
    {
     "data": {
      "text/plain": [
       "4"
      ]
     },
     "execution_count": 7,
     "metadata": {},
     "output_type": "execute_result"
    }
   ],
   "source": [
    "d"
   ]
  },
  {
   "cell_type": "code",
   "execution_count": 8,
   "id": "4dcc22c8",
   "metadata": {},
   "outputs": [
    {
     "name": "stdout",
     "output_type": "stream",
     "text": [
      "Sum=  10\n",
      "Difference=  4\n",
      "Division=  2.3333333333333335\n",
      "Multiplication=  21\n"
     ]
    }
   ],
   "source": [
    "a=7\n",
    "b=3\n",
    "print('Sum= ', a+b)\n",
    "print('Difference= ', a-b)\n",
    "print('Division= ', a/b)\n",
    "print('Multiplication= ',a*b)"
   ]
  },
  {
   "cell_type": "code",
   "execution_count": 9,
   "id": "62c73d62",
   "metadata": {},
   "outputs": [
    {
     "name": "stdout",
     "output_type": "stream",
     "text": [
      "Remainder=  1\n"
     ]
    }
   ],
   "source": [
    "#This is a comment\n",
    "'''\n",
    "THis is also a comment\n",
    "These are ignored by Python; They are not executed\n",
    "'''\n",
    "\n",
    "#Calculating remainder here\n",
    "print('Remainder= ', a%b)\n"
   ]
  },
  {
   "cell_type": "markdown",
   "id": "9cfd2797",
   "metadata": {},
   "source": [
    "## Data Types"
   ]
  },
  {
   "cell_type": "code",
   "execution_count": 17,
   "id": "c7133319",
   "metadata": {},
   "outputs": [],
   "source": [
    "y=2+7j"
   ]
  },
  {
   "cell_type": "code",
   "execution_count": 18,
   "id": "e1a62b0a",
   "metadata": {},
   "outputs": [
    {
     "data": {
      "text/plain": [
       "complex"
      ]
     },
     "execution_count": 18,
     "metadata": {},
     "output_type": "execute_result"
    }
   ],
   "source": [
    "type(y)"
   ]
  },
  {
   "cell_type": "code",
   "execution_count": 19,
   "id": "28343649",
   "metadata": {},
   "outputs": [],
   "source": [
    "x=1.05"
   ]
  },
  {
   "cell_type": "code",
   "execution_count": 15,
   "id": "0c78701b",
   "metadata": {},
   "outputs": [
    {
     "data": {
      "text/plain": [
       "1.05"
      ]
     },
     "execution_count": 15,
     "metadata": {},
     "output_type": "execute_result"
    }
   ],
   "source": [
    "x"
   ]
  },
  {
   "cell_type": "code",
   "execution_count": 20,
   "id": "9dfee935",
   "metadata": {},
   "outputs": [],
   "source": [
    "# A string is a sequence of one or more characters (letters, numbers, symbols) that can be either a constant or a variable.\n",
    "st=\"This is a string\" #single, double quotes, immutable"
   ]
  },
  {
   "cell_type": "code",
   "execution_count": 21,
   "id": "c8aa9510",
   "metadata": {},
   "outputs": [
    {
     "data": {
      "text/plain": [
       "'This is a string'"
      ]
     },
     "execution_count": 21,
     "metadata": {},
     "output_type": "execute_result"
    }
   ],
   "source": [
    "st"
   ]
  },
  {
   "cell_type": "code",
   "execution_count": 22,
   "id": "e5cc5ba0",
   "metadata": {},
   "outputs": [
    {
     "name": "stdout",
     "output_type": "stream",
     "text": [
      "This is a stringThis is a stringThis is a stringThis is a stringThis is a stringThis is a stringThis is a stringThis is a stringThis is a string\n"
     ]
    }
   ],
   "source": [
    "print(st * 9)"
   ]
  },
  {
   "cell_type": "code",
   "execution_count": 23,
   "id": "796c5c86",
   "metadata": {},
   "outputs": [
    {
     "name": "stdout",
     "output_type": "stream",
     "text": [
      "THIS IS A STRING\n"
     ]
    }
   ],
   "source": [
    "print(st.upper())"
   ]
  },
  {
   "cell_type": "code",
   "execution_count": 24,
   "id": "e0c1eed0",
   "metadata": {},
   "outputs": [],
   "source": [
    "st2=\"\"\"Hi\"\"\""
   ]
  },
  {
   "cell_type": "code",
   "execution_count": 25,
   "id": "c61596e6",
   "metadata": {},
   "outputs": [
    {
     "data": {
      "text/plain": [
       "'This is a stringHi'"
      ]
     },
     "execution_count": 25,
     "metadata": {},
     "output_type": "execute_result"
    }
   ],
   "source": [
    "st3=st+st2\n",
    "st3"
   ]
  },
  {
   "cell_type": "code",
   "execution_count": 120,
   "id": "0989e1d5",
   "metadata": {},
   "outputs": [
    {
     "name": "stdout",
     "output_type": "stream",
     "text": [
      "Hi This is a string\n"
     ]
    }
   ],
   "source": [
    "print(st2 + \" \" + st)"
   ]
  },
  {
   "cell_type": "code",
   "execution_count": 26,
   "id": "d9ab4a53",
   "metadata": {},
   "outputs": [],
   "source": [
    "list1=[1,2,3,4,5] \n",
    "# A list is a mutable, or changeable, ordered sequence of elements. Each element or value that is inside of a list is called an item. Just as strings are\n",
    " \n",
    "#defined as characters between quotes, lists are defined by having values between square brackets [ ]."
   ]
  },
  {
   "cell_type": "code",
   "execution_count": 81,
   "id": "f8bd789f",
   "metadata": {},
   "outputs": [
    {
     "name": "stdout",
     "output_type": "stream",
     "text": [
      "Hi! What’s your name? Priya\n",
      "Nice to meet you Priya!\n",
      "How old are you 49\n",
      "So, you are already 49 years old, Priya!\n"
     ]
    }
   ],
   "source": [
    "name = input('Hi! What’s your name? ')\n",
    "print('Nice to meet you ' + name + '!')\n",
    "age = input('How old are you ')\n",
    "print('So, you are already ' + str(age) + ' years old, '\n",
    "+ name + '!')"
   ]
  },
  {
   "cell_type": "code",
   "execution_count": 124,
   "id": "54a97645",
   "metadata": {},
   "outputs": [
    {
     "name": "stdout",
     "output_type": "stream",
     "text": [
      "16\n"
     ]
    }
   ],
   "source": [
    "print(len(st))"
   ]
  },
  {
   "cell_type": "code",
   "execution_count": 126,
   "id": "686ec004",
   "metadata": {},
   "outputs": [
    {
     "name": "stdout",
     "output_type": "stream",
     "text": [
      "N e h a   h a s   a   b a l l o o n .\n"
     ]
    }
   ],
   "source": [
    "# str.join(), str.split(), and str.replace()\n",
    "balloon = \"Neha has a balloon.\"\n",
    "print(\" \".join(balloon))"
   ]
  },
  {
   "cell_type": "code",
   "execution_count": 127,
   "id": "79e16388",
   "metadata": {},
   "outputs": [
    {
     "name": "stdout",
     "output_type": "stream",
     "text": [
      ".noollab a sah aheN\n"
     ]
    }
   ],
   "source": [
    "print(\"\".join(reversed(balloon)))"
   ]
  },
  {
   "cell_type": "code",
   "execution_count": 132,
   "id": "6a372c09",
   "metadata": {},
   "outputs": [
    {
     "name": "stdout",
     "output_type": "stream",
     "text": [
      "A\n"
     ]
    }
   ],
   "source": [
    "#Index\n",
    "ss = \"Women in Astronomy!\"\n",
    "print(ss[9])"
   ]
  },
  {
   "cell_type": "code",
   "execution_count": 133,
   "id": "4aeb79a4",
   "metadata": {},
   "outputs": [
    {
     "name": "stdout",
     "output_type": "stream",
     "text": [
      "m\n"
     ]
    }
   ],
   "source": [
    "print(ss[-3])"
   ]
  },
  {
   "cell_type": "code",
   "execution_count": 134,
   "id": "d55907e4",
   "metadata": {},
   "outputs": [
    {
     "name": "stdout",
     "output_type": "stream",
     "text": [
      "in As\n"
     ]
    }
   ],
   "source": [
    "# Slicing Strings\n",
    "print(ss[6:11])\n"
   ]
  },
  {
   "cell_type": "code",
   "execution_count": 136,
   "id": "29b9cb23",
   "metadata": {},
   "outputs": [
    {
     "name": "stdout",
     "output_type": "stream",
     "text": [
      "Wn \n"
     ]
    }
   ],
   "source": [
    "print(ss[0:12:4])# stride of 4"
   ]
  },
  {
   "cell_type": "code",
   "execution_count": 137,
   "id": "8359262f",
   "metadata": {},
   "outputs": [
    {
     "name": "stdout",
     "output_type": "stream",
     "text": [
      "!ymonortsA ni nemoW\n"
     ]
    }
   ],
   "source": [
    "#print the original string in reverse order if we set the stride to -1:\n",
    "print(ss[::-1])"
   ]
  },
  {
   "cell_type": "code",
   "execution_count": 138,
   "id": "58493f37",
   "metadata": {},
   "outputs": [
    {
     "name": "stdout",
     "output_type": "stream",
     "text": [
      "19\n"
     ]
    }
   ],
   "source": [
    "print(len(ss))"
   ]
  },
  {
   "cell_type": "code",
   "execution_count": 29,
   "id": "97dde675",
   "metadata": {},
   "outputs": [],
   "source": [
    "list2=[[2,1],[3,4], 2, \"test\", 3.4]"
   ]
  },
  {
   "cell_type": "code",
   "execution_count": 30,
   "id": "a3584416",
   "metadata": {},
   "outputs": [
    {
     "data": {
      "text/plain": [
       "[[2, 1], [3, 4], 2, 'test', 3.4]"
      ]
     },
     "execution_count": 30,
     "metadata": {},
     "output_type": "execute_result"
    }
   ],
   "source": [
    "list2"
   ]
  },
  {
   "cell_type": "code",
   "execution_count": 31,
   "id": "a5ce63f3",
   "metadata": {},
   "outputs": [
    {
     "data": {
      "text/plain": [
       "'test'"
      ]
     },
     "execution_count": 31,
     "metadata": {},
     "output_type": "execute_result"
    }
   ],
   "source": [
    "list2[3]"
   ]
  },
  {
   "cell_type": "code",
   "execution_count": 24,
   "id": "08773794",
   "metadata": {},
   "outputs": [
    {
     "data": {
      "text/plain": [
       "[3, 4]"
      ]
     },
     "execution_count": 24,
     "metadata": {},
     "output_type": "execute_result"
    }
   ],
   "source": [
    "list2[1]"
   ]
  },
  {
   "cell_type": "code",
   "execution_count": 25,
   "id": "f533ee81",
   "metadata": {},
   "outputs": [
    {
     "data": {
      "text/plain": [
       "3.4"
      ]
     },
     "execution_count": 25,
     "metadata": {},
     "output_type": "execute_result"
    }
   ],
   "source": [
    "list2[4]"
   ]
  },
  {
   "cell_type": "code",
   "execution_count": 26,
   "id": "c08e3c36",
   "metadata": {},
   "outputs": [
    {
     "data": {
      "text/plain": [
       "int"
      ]
     },
     "execution_count": 26,
     "metadata": {},
     "output_type": "execute_result"
    }
   ],
   "source": [
    "type(a)"
   ]
  },
  {
   "cell_type": "code",
   "execution_count": 28,
   "id": "ec0e9fc6",
   "metadata": {},
   "outputs": [
    {
     "data": {
      "text/plain": [
       "list"
      ]
     },
     "execution_count": 28,
     "metadata": {},
     "output_type": "execute_result"
    }
   ],
   "source": [
    "type(list1)"
   ]
  },
  {
   "cell_type": "code",
   "execution_count": 29,
   "id": "64e0698b",
   "metadata": {},
   "outputs": [
    {
     "data": {
      "text/plain": [
       "str"
      ]
     },
     "execution_count": 29,
     "metadata": {},
     "output_type": "execute_result"
    }
   ],
   "source": [
    "type(st)"
   ]
  },
  {
   "cell_type": "code",
   "execution_count": 30,
   "id": "e4bc760b",
   "metadata": {},
   "outputs": [
    {
     "data": {
      "text/plain": [
       "float"
      ]
     },
     "execution_count": 30,
     "metadata": {},
     "output_type": "execute_result"
    }
   ],
   "source": [
    "type(list2[4])"
   ]
  },
  {
   "cell_type": "code",
   "execution_count": 31,
   "id": "ee738b94",
   "metadata": {},
   "outputs": [
    {
     "data": {
      "text/plain": [
       "list"
      ]
     },
     "execution_count": 31,
     "metadata": {},
     "output_type": "execute_result"
    }
   ],
   "source": [
    "type(list1[1:3])"
   ]
  },
  {
   "cell_type": "code",
   "execution_count": 33,
   "id": "e3c1bf4f",
   "metadata": {},
   "outputs": [],
   "source": [
    "list1.append(6.8)"
   ]
  },
  {
   "cell_type": "code",
   "execution_count": 34,
   "id": "0946936f",
   "metadata": {},
   "outputs": [
    {
     "data": {
      "text/plain": [
       "[1, 2, 3, 4, 5, 6.8]"
      ]
     },
     "execution_count": 34,
     "metadata": {},
     "output_type": "execute_result"
    }
   ],
   "source": [
    "list1"
   ]
  },
  {
   "cell_type": "code",
   "execution_count": 32,
   "id": "fe148d21",
   "metadata": {},
   "outputs": [],
   "source": [
    "list1.reverse()"
   ]
  },
  {
   "cell_type": "code",
   "execution_count": 39,
   "id": "2f67331e",
   "metadata": {},
   "outputs": [
    {
     "data": {
      "text/plain": [
       "[6.8, 5, 4, 3, 2, 1]"
      ]
     },
     "execution_count": 39,
     "metadata": {},
     "output_type": "execute_result"
    }
   ],
   "source": [
    "list1"
   ]
  },
  {
   "cell_type": "code",
   "execution_count": 100,
   "id": "4b93575b",
   "metadata": {},
   "outputs": [],
   "source": [
    "# Tuples\n",
    "#A tuple is used for grouping data. It is an immutable, or unchangeable, ordered sequence of elements.\n",
    "#Tuples are very similar to lists, but they use parentheses ( ) instead of square brackets and because they are immutable their values cannot be modified.#"
   ]
  },
  {
   "cell_type": "code",
   "execution_count": 102,
   "id": "bcee11bb",
   "metadata": {},
   "outputs": [
    {
     "name": "stdout",
     "output_type": "stream",
     "text": [
      "('blue coral', 'staghorn coral', 'pillar coral')\n"
     ]
    }
   ],
   "source": [
    "coral = ('blue coral', 'staghorn coral', 'pillar coral')\n",
    "print(coral)"
   ]
  },
  {
   "cell_type": "code",
   "execution_count": 23,
   "id": "cbb04c34",
   "metadata": {},
   "outputs": [
    {
     "ename": "NameError",
     "evalue": "name 'list1' is not defined",
     "output_type": "error",
     "traceback": [
      "\u001b[0;31m---------------------------------------------------------------------------\u001b[0m",
      "\u001b[0;31mNameError\u001b[0m                                 Traceback (most recent call last)",
      "\u001b[0;32m<ipython-input-23-8540e52e7766>\u001b[0m in \u001b[0;36m<module>\u001b[0;34m\u001b[0m\n\u001b[0;32m----> 1\u001b[0;31m \u001b[0mlist1\u001b[0m\u001b[0;34m.\u001b[0m\u001b[0mappend\u001b[0m\u001b[0;34m(\u001b[0m\u001b[0;34m\"red coral\"\u001b[0m\u001b[0;34m)\u001b[0m\u001b[0;34m\u001b[0m\u001b[0;34m\u001b[0m\u001b[0m\n\u001b[0m",
      "\u001b[0;31mNameError\u001b[0m: name 'list1' is not defined"
     ]
    }
   ],
   "source": [
    "list1.append(\"red coral\")"
   ]
  },
  {
   "cell_type": "code",
   "execution_count": 103,
   "id": "bf5fb7f8",
   "metadata": {},
   "outputs": [],
   "source": [
    "# T h e dictionary is Python’s built-in mapping type. This means that dictionaries map keys to values and these key-value pairs are a useful way to store data in Python. A dictionary is constructed with curly braces on either side { }."
   ]
  },
  {
   "cell_type": "code",
   "execution_count": 104,
   "id": "ce4d7767",
   "metadata": {},
   "outputs": [
    {
     "name": "stdout",
     "output_type": "stream",
     "text": [
      "{'name': 'Sammy', 'animal': 'shark', 'color': 'blue', 'location': 'ocean'}\n"
     ]
    }
   ],
   "source": [
    "sammy = {'name': 'Sammy', 'animal': 'shark', 'color':'blue',  'location': 'ocean'}\n",
    "print(sammy)"
   ]
  },
  {
   "cell_type": "code",
   "execution_count": 93,
   "id": "f70538db",
   "metadata": {},
   "outputs": [],
   "source": [
    "# The Boolean data type can be one of two values, either True or False. Booleans are used to represent the truth values that are associated with the logic branch of mathematics, which informs algorithms in computer science."
   ]
  },
  {
   "cell_type": "code",
   "execution_count": 34,
   "id": "9006710e",
   "metadata": {},
   "outputs": [
    {
     "name": "stdout",
     "output_type": "stream",
     "text": [
      "False\n"
     ]
    }
   ],
   "source": [
    "bool= 50 > 200\n",
    "print(bool)\n",
    "\n",
    "\n",
    "\n",
    "\n",
    "\n"
   ]
  },
  {
   "cell_type": "code",
   "execution_count": 98,
   "id": "fad0d1ba",
   "metadata": {},
   "outputs": [
    {
     "name": "stdout",
     "output_type": "stream",
     "text": [
      "False\n"
     ]
    }
   ],
   "source": [
    "bool2=100 > 200\n",
    "print(bool2)"
   ]
  },
  {
   "cell_type": "code",
   "execution_count": 121,
   "id": "4992f977",
   "metadata": {},
   "outputs": [
    {
     "name": "stdout",
     "output_type": "stream",
     "text": [
      "True\n",
      "False\n"
     ]
    }
   ],
   "source": [
    "number = \"5\"\n",
    "letters = \"abcdef\"\n",
    "print(number.isnumeric())\n",
    "print(letters.isnumeric())"
   ]
  },
  {
   "cell_type": "markdown",
   "id": "26ebe3c0",
   "metadata": {},
   "source": [
    "## Convert Data Types"
   ]
  },
  {
   "cell_type": "code",
   "execution_count": 38,
   "id": "762175bf",
   "metadata": {},
   "outputs": [],
   "source": [
    "a=57.0\n"
   ]
  },
  {
   "cell_type": "code",
   "execution_count": 41,
   "id": "c1f07ad4",
   "metadata": {},
   "outputs": [
    {
     "data": {
      "text/plain": [
       "float"
      ]
     },
     "execution_count": 41,
     "metadata": {},
     "output_type": "execute_result"
    }
   ],
   "source": [
    "type(a)"
   ]
  },
  {
   "cell_type": "code",
   "execution_count": 40,
   "id": "1b401f4c",
   "metadata": {},
   "outputs": [],
   "source": [
    "a=float(57)\n"
   ]
  },
  {
   "cell_type": "code",
   "execution_count": 42,
   "id": "dbbb331e",
   "metadata": {},
   "outputs": [
    {
     "data": {
      "text/plain": [
       "390"
      ]
     },
     "execution_count": 42,
     "metadata": {},
     "output_type": "execute_result"
    }
   ],
   "source": [
    "int(390.8)"
   ]
  },
  {
   "cell_type": "code",
   "execution_count": 142,
   "id": "18973654",
   "metadata": {},
   "outputs": [
    {
     "name": "stdout",
     "output_type": "stream",
     "text": [
      "2.5\n"
     ]
    }
   ],
   "source": [
    "a=5/2 \n",
    "print(a)"
   ]
  },
  {
   "cell_type": "code",
   "execution_count": 144,
   "id": "9d317652",
   "metadata": {},
   "outputs": [],
   "source": [
    "# In Python 2, since you were dealing with two integers, you would receive an integer back as your answer, instead: 5 / 2 = 2"
   ]
  },
  {
   "cell_type": "code",
   "execution_count": 43,
   "id": "8f0ad418",
   "metadata": {},
   "outputs": [
    {
     "data": {
      "text/plain": [
       "'12'"
      ]
     },
     "execution_count": 43,
     "metadata": {},
     "output_type": "execute_result"
    }
   ],
   "source": [
    "str(12)"
   ]
  },
  {
   "cell_type": "code",
   "execution_count": 146,
   "id": "07e7b44d",
   "metadata": {},
   "outputs": [
    {
     "name": "stdout",
     "output_type": "stream",
     "text": [
      "58\n"
     ]
    }
   ],
   "source": [
    "lines_yesterday = \"50\"\n",
    "lines_today = \"108\"\n",
    "lines_more = int(lines_today) - int(lines_yesterday)\n",
    "print(lines_more)"
   ]
  },
  {
   "cell_type": "code",
   "execution_count": 148,
   "id": "b348a86f",
   "metadata": {},
   "outputs": [
    {
     "name": "stdout",
     "output_type": "stream",
     "text": [
      "5569.83\n"
     ]
    }
   ],
   "source": [
    "total_points = \"5524.53\"\n",
    "new_points = \"45.30\"\n",
    "new_total_points = float(total_points) + float(new_points)\n",
    "print(new_total_points)"
   ]
  },
  {
   "cell_type": "markdown",
   "id": "8cf1ce19",
   "metadata": {},
   "source": [
    "##### Converting to Tuples and Lists: list() and tuple()  In Python: - a list is a mutable ordered sequence of elements that is contained within square brackets [ ]. - a tuple is an immutable ordered sequence of elements contained within parentheses ( )"
   ]
  },
  {
   "cell_type": "code",
   "execution_count": 149,
   "id": "87990550",
   "metadata": {},
   "outputs": [
    {
     "name": "stdout",
     "output_type": "stream",
     "text": [
      "('pull request', 'open source', 'repository', 'branch')\n"
     ]
    }
   ],
   "source": [
    "print(tuple(['pull request', 'open source','repository', 'branch']))"
   ]
  },
  {
   "cell_type": "code",
   "execution_count": 150,
   "id": "30d4d1d4",
   "metadata": {},
   "outputs": [
    {
     "name": "stdout",
     "output_type": "stream",
     "text": [
      "('shark', 'cuttlefish', 'squid', 'mantis shrimp')\n"
     ]
    }
   ],
   "source": [
    "sea_creatures = ['shark', 'cuttlefish', 'squid','mantis shrimp']\n",
    "print(tuple(sea_creatures))"
   ]
  },
  {
   "cell_type": "code",
   "execution_count": 152,
   "id": "b3e1d4a9",
   "metadata": {},
   "outputs": [
    {
     "ename": "TypeError",
     "evalue": "'int' object is not iterable",
     "output_type": "error",
     "traceback": [
      "\u001b[0;31m---------------------------------------------------------------------------\u001b[0m",
      "\u001b[0;31mTypeError\u001b[0m                                 Traceback (most recent call last)",
      "\u001b[0;32m<ipython-input-152-d9755d9ac6c7>\u001b[0m in \u001b[0;36m<module>\u001b[0;34m\u001b[0m\n\u001b[1;32m      1\u001b[0m \u001b[0;31m##### Because we can iterate through strings, we can convert them to tuples with thetuple() method. With data types that are not iterable, however, like integers and floats, we will receive a type error:\u001b[0m\u001b[0;34m\u001b[0m\u001b[0;34m\u001b[0m\u001b[0;34m\u001b[0m\u001b[0m\n\u001b[1;32m      2\u001b[0m \u001b[0;34m\u001b[0m\u001b[0m\n\u001b[0;32m----> 3\u001b[0;31m \u001b[0mprint\u001b[0m\u001b[0;34m(\u001b[0m\u001b[0mtuple\u001b[0m\u001b[0;34m(\u001b[0m\u001b[0;36m5000\u001b[0m\u001b[0;34m)\u001b[0m\u001b[0;34m)\u001b[0m\u001b[0;34m\u001b[0m\u001b[0;34m\u001b[0m\u001b[0m\n\u001b[0m",
      "\u001b[0;31mTypeError\u001b[0m: 'int' object is not iterable"
     ]
    }
   ],
   "source": [
    "##### Because we can iterate through strings, we can convert them to tuples with thetuple() method. With data types that are not iterable, however, like integers and floats, we will receive a type error:\n",
    "\n",
    "print(tuple(5000))\n"
   ]
  },
  {
   "cell_type": "code",
   "execution_count": 153,
   "id": "f2d28630",
   "metadata": {},
   "outputs": [
    {
     "name": "stdout",
     "output_type": "stream",
     "text": [
      "['blue coral', 'staghorn coral', 'pillar coral']\n"
     ]
    }
   ],
   "source": [
    "print(list(('blue coral', 'staghorn coral', 'pillar coral')))"
   ]
  },
  {
   "cell_type": "code",
   "execution_count": 154,
   "id": "2c7c2869",
   "metadata": {},
   "outputs": [
    {
     "name": "stdout",
     "output_type": "stream",
     "text": [
      "['s', 'h', 'a', 'r', 'k']\n"
     ]
    }
   ],
   "source": [
    "#Just like tuples, strings can be converted to lists:\n",
    "print(list('shark'))"
   ]
  },
  {
   "cell_type": "code",
   "execution_count": 155,
   "id": "5140dee6",
   "metadata": {},
   "outputs": [],
   "source": [
    "my_string = 'Hello, World!'\n",
    "my_flt = 45.06\n",
    "my_bool = 5 > 9 #A Boolean value will return either\n",
    "True or False\n",
    "my_list = ['item_1', 'item_2', 'item_3', 'item_4']\n",
    "my_tuple = ('one', 'two', 'three')\n",
    "my_dict = {'letter': 'g', 'number': 'seven', 'symbol':'&'}"
   ]
  },
  {
   "cell_type": "markdown",
   "id": "e28de57b",
   "metadata": {},
   "source": [
    "## Variables"
   ]
  },
  {
   "cell_type": "markdown",
   "id": "2a02b4c2",
   "metadata": {},
   "source": [
    "Variable names must only be one word (as in no spaces)\\\n",
    "Variable names must be made up of only letters, numbers, and underscore (_)\\\n",
    "Variable names cannot begin with a number\n",
    "\n",
    "Chk these:\\\n",
    "my_int int4 MY_INT another_int valid\\\n",
    "my-int 4int $MY_INT another int invalid\\\n",
    "Hyphens are not permitted Cannot begin with a number Cannot use symbols other than _ Cannot be more than one word\\\n",
    "\n",
    "Global and Local Variables"
   ]
  },
  {
   "cell_type": "markdown",
   "id": "6a183b00",
   "metadata": {},
   "source": [
    "## Conditionals"
   ]
  },
  {
   "cell_type": "code",
   "execution_count": 41,
   "id": "3979b738",
   "metadata": {},
   "outputs": [],
   "source": [
    "a=5"
   ]
  },
  {
   "cell_type": "code",
   "execution_count": 46,
   "id": "b93b2aed",
   "metadata": {},
   "outputs": [
    {
     "name": "stdout",
     "output_type": "stream",
     "text": [
      "5\n"
     ]
    }
   ],
   "source": [
    "x=15\n",
    "if x < 10:\n",
    "    y=x\n",
    "    print(2*y) \n",
    "print(y)"
   ]
  },
  {
   "cell_type": "code",
   "execution_count": 47,
   "id": "7b23cd75",
   "metadata": {},
   "outputs": [
    {
     "name": "stdout",
     "output_type": "stream",
     "text": [
      "a is greater than 2\n"
     ]
    }
   ],
   "source": [
    "if(a>2):\n",
    "    print('a is greater than 2')\n",
    "else:\n",
    "    print('a is not greater than 2')"
   ]
  },
  {
   "cell_type": "code",
   "execution_count": 48,
   "id": "6902e6a1",
   "metadata": {},
   "outputs": [
    {
     "name": "stdout",
     "output_type": "stream",
     "text": [
      "a is greater than 2\n",
      "a is not greater than 2\n"
     ]
    }
   ],
   "source": [
    "if(a>2):\n",
    "    print('a is greater than 2')\n",
    "print('a is not greater than 2')"
   ]
  },
  {
   "cell_type": "code",
   "execution_count": 50,
   "id": "254435bd",
   "metadata": {},
   "outputs": [],
   "source": [
    "should_multiply=False"
   ]
  },
  {
   "cell_type": "code",
   "execution_count": 44,
   "id": "b5ec5216",
   "metadata": {},
   "outputs": [],
   "source": [
    "b=2"
   ]
  },
  {
   "cell_type": "code",
   "execution_count": 51,
   "id": "3562c909",
   "metadata": {},
   "outputs": [],
   "source": [
    "if(should_multiply == True):\n",
    "    c=a*b\n",
    "else:\n",
    "    c=a+b"
   ]
  },
  {
   "cell_type": "code",
   "execution_count": 52,
   "id": "04683335",
   "metadata": {},
   "outputs": [
    {
     "data": {
      "text/plain": [
       "7"
      ]
     },
     "execution_count": 52,
     "metadata": {},
     "output_type": "execute_result"
    }
   ],
   "source": [
    "c"
   ]
  },
  {
   "cell_type": "code",
   "execution_count": 170,
   "id": "3354fa3c",
   "metadata": {},
   "outputs": [
    {
     "name": "stdout",
     "output_type": "stream",
     "text": [
      "(8.0, 63.5)\n"
     ]
    }
   ],
   "source": [
    "a = 985.5\n",
    "b = 115.25\n",
    "print(divmod(a,b))\n",
    "#8.0 is the floor quotient of 985.5 divided by 115.25, and 63.5 is the remainder"
   ]
  },
  {
   "cell_type": "markdown",
   "id": "852d362d",
   "metadata": {},
   "source": [
    "## Loops"
   ]
  },
  {
   "cell_type": "code",
   "execution_count": 51,
   "id": "9d485ae7",
   "metadata": {},
   "outputs": [
    {
     "name": "stdout",
     "output_type": "stream",
     "text": [
      "3 9 27\n",
      "6 36 216\n",
      "9 81 729\n",
      "12 144 1728\n"
     ]
    }
   ],
   "source": [
    "for i in range(3,13,3):\n",
    "    print(i, i*i, i*i*i)\n"
   ]
  },
  {
   "cell_type": "code",
   "execution_count": 168,
   "id": "bc79f265",
   "metadata": {},
   "outputs": [
    {
     "name": "stdout",
     "output_type": "stream",
     "text": [
      "  3    9    27\n",
      "  4   16    64\n",
      "  5   25   125\n",
      "  6   36   216\n",
      "  7   49   343\n",
      "  8   64   512\n",
      "  9   81   729\n",
      " 10  100  1000\n",
      " 11  121  1331\n",
      " 12  144  1728\n"
     ]
    }
   ],
   "source": [
    "for i in range(3,13):\n",
    "    print(\"{:3d} {:4d} {:5d}\".format(i, i*i, i*i*i))"
   ]
  },
  {
   "cell_type": "code",
   "execution_count": 53,
   "id": "7553c12d",
   "metadata": {},
   "outputs": [
    {
     "name": "stdout",
     "output_type": "stream",
     "text": [
      "7.8\n",
      "6\n",
      "5\n",
      "4\n",
      "3\n",
      "2\n",
      ".\n"
     ]
    }
   ],
   "source": [
    "for i in list1:\n",
    "    print(i+1)\n",
    "print('.')"
   ]
  },
  {
   "cell_type": "code",
   "execution_count": 54,
   "id": "b719e54e",
   "metadata": {},
   "outputs": [
    {
     "data": {
      "text/plain": [
       "[6.8, 5, 4, 3, 2, 1]"
      ]
     },
     "execution_count": 54,
     "metadata": {},
     "output_type": "execute_result"
    }
   ],
   "source": [
    "list1"
   ]
  },
  {
   "cell_type": "code",
   "execution_count": 57,
   "id": "b054cf55",
   "metadata": {},
   "outputs": [],
   "source": [
    "new_list=[]\n",
    "for i in list1:\n",
    "    new_list.append(i+1)\n",
    "    \n",
    "    \n",
    "    \n",
    "    \n",
    "    \n",
    "    \n",
    "    "
   ]
  },
  {
   "cell_type": "code",
   "execution_count": 58,
   "id": "c0891a0f",
   "metadata": {},
   "outputs": [
    {
     "data": {
      "text/plain": [
       "[6.8, 5, 4, 3, 2, 1]"
      ]
     },
     "execution_count": 58,
     "metadata": {},
     "output_type": "execute_result"
    }
   ],
   "source": [
    "list1"
   ]
  },
  {
   "cell_type": "markdown",
   "id": "11011d1b",
   "metadata": {},
   "source": [
    "## Formating"
   ]
  },
  {
   "cell_type": "code",
   "execution_count": 157,
   "id": "82dedaa8",
   "metadata": {},
   "outputs": [
    {
     "name": "stdout",
     "output_type": "stream",
     "text": [
      "Rupa has 5 balloons.\n"
     ]
    }
   ],
   "source": [
    "print(\"Rupa has {} balloons.\".format(5))\n"
   ]
  },
  {
   "cell_type": "code",
   "execution_count": 158,
   "id": "246bbc61",
   "metadata": {},
   "outputs": [
    {
     "name": "stdout",
     "output_type": "stream",
     "text": [
      "Sammy loves open source.\n"
     ]
    }
   ],
   "source": [
    "open_string = \"Sammy loves {}.\"\n",
    "print(open_string.format(\"open source\"))"
   ]
  },
  {
   "cell_type": "code",
   "execution_count": 160,
   "id": "9640a8b3",
   "metadata": {},
   "outputs": [
    {
     "name": "stdout",
     "output_type": "stream",
     "text": [
      "Sammy ate 75.765 percent of a pizza!\n"
     ]
    }
   ],
   "source": [
    "#Eva ate 75.765367% of the pizza\n",
    "print(\"Sammy ate {0:.3f} percent of a pizza!\".format(75.765367))\n"
   ]
  },
  {
   "cell_type": "code",
   "execution_count": 164,
   "id": "0cdba16b",
   "metadata": {},
   "outputs": [
    {
     "name": "stdout",
     "output_type": "stream",
     "text": [
      "Sammy ate 75.8 percent of a pizza!\n"
     ]
    }
   ],
   "source": [
    "print(\"Sammy ate {0:.1f} percent of a pizza!\".format(75.765367))#try others"
   ]
  },
  {
   "cell_type": "code",
   "execution_count": 166,
   "id": "fb75bac8",
   "metadata": {},
   "outputs": [
    {
     "name": "stdout",
     "output_type": "stream",
     "text": [
      "Sammy ate 76 percent of a pizza!\n"
     ]
    }
   ],
   "source": [
    "print(\"Sammy ate {0:.0f} percent of a pizza!\".format(75.765367))\n",
    "#This will not convert your float to an integer, but instead limit the number of places shown after the decimal point."
   ]
  },
  {
   "cell_type": "markdown",
   "id": "ea16b902",
   "metadata": {},
   "source": [
    "## Functions"
   ]
  },
  {
   "cell_type": "code",
   "execution_count": 52,
   "id": "14218b40",
   "metadata": {},
   "outputs": [],
   "source": [
    "def strange_function(a):\n",
    "    a=a*2\n",
    "    a=a-7\n",
    "    a=a/5\n",
    "    return a"
   ]
  },
  {
   "cell_type": "code",
   "execution_count": 54,
   "id": "0c4da076",
   "metadata": {},
   "outputs": [
    {
     "data": {
      "text/plain": [
       "1.4"
      ]
     },
     "execution_count": 54,
     "metadata": {},
     "output_type": "execute_result"
    }
   ],
   "source": [
    "strange_function(7)"
   ]
  },
  {
   "cell_type": "code",
   "execution_count": 62,
   "id": "c169d6f5",
   "metadata": {},
   "outputs": [],
   "source": [
    "def raise_to_the_power_n_plus_1(a,n):\n",
    "    return a**(n+1)"
   ]
  },
  {
   "cell_type": "code",
   "execution_count": 63,
   "id": "bda58562",
   "metadata": {},
   "outputs": [
    {
     "data": {
      "text/plain": [
       "16"
      ]
     },
     "execution_count": 63,
     "metadata": {},
     "output_type": "execute_result"
    }
   ],
   "source": [
    "raise_to_the_power_n_plus_1(2,3)"
   ]
  },
  {
   "cell_type": "code",
   "execution_count": 55,
   "id": "02724b39",
   "metadata": {},
   "outputs": [
    {
     "data": {
      "text/plain": [
       "0.42857142857142855"
      ]
     },
     "execution_count": 55,
     "metadata": {},
     "output_type": "execute_result"
    }
   ],
   "source": [
    "3/7"
   ]
  },
  {
   "cell_type": "code",
   "execution_count": 57,
   "id": "525e5054",
   "metadata": {},
   "outputs": [
    {
     "data": {
      "text/plain": [
       "4"
      ]
     },
     "execution_count": 57,
     "metadata": {},
     "output_type": "execute_result"
    }
   ],
   "source": [
    "30//7"
   ]
  },
  {
   "cell_type": "code",
   "execution_count": 58,
   "id": "8d427457",
   "metadata": {},
   "outputs": [
    {
     "data": {
      "text/plain": [
       "2"
      ]
     },
     "execution_count": 58,
     "metadata": {},
     "output_type": "execute_result"
    }
   ],
   "source": [
    "30%7"
   ]
  },
  {
   "cell_type": "code",
   "execution_count": 60,
   "id": "5300e511",
   "metadata": {},
   "outputs": [
    {
     "data": {
      "text/plain": [
       "75523888028456582905686407397080706737842745397722578903685079119573590677247716791548277767024877706163004673457763412350925318285922004371103391099639043328560210195294048615967272923319894584979117287139554418802103515449314089178159002335215386724689816862920844376838429881524523550783368777377832714213228942572841761481713187871800371759180074020767635276565265598296537717768471029593507744873578140562133319706133810727912516482165494664571092270454806921342767415054436720740158552986638898591128629532623342309009580967683585551199994338803490045143215618540452280059200512690136449665578523980604412956005240817749892227769182812322994123026160154592048314750379460428593084944038866261542293547011054796669743923248386150451641451022849880363197770837628919616273367262189932507715198415917395800393576321346019832548166885842512852031475737182380552745492056054124066634382596191754756651100350982315001017451560572635190229758514355722660858100988464914007415611334596049627791816400290440998432378720867696596933080555182937719396416272869248842865710452494916828970750177774107214645482599735260009765625"
      ]
     },
     "execution_count": 60,
     "metadata": {},
     "output_type": "execute_result"
    }
   ],
   "source": [
    "45**678"
   ]
  },
  {
   "cell_type": "code",
   "execution_count": 63,
   "id": "0e70a383",
   "metadata": {},
   "outputs": [
    {
     "data": {
      "text/plain": [
       "0.5253219888177297"
      ]
     },
     "execution_count": 63,
     "metadata": {},
     "output_type": "execute_result"
    }
   ],
   "source": [
    "from math import *\n",
    "cos(45)"
   ]
  },
  {
   "cell_type": "code",
   "execution_count": null,
   "id": "a83bc3b8",
   "metadata": {},
   "outputs": [],
   "source": []
  },
  {
   "cell_type": "markdown",
   "id": "75b923ef",
   "metadata": {},
   "source": [
    "## Python Libraries"
   ]
  },
  {
   "cell_type": "code",
   "execution_count": null,
   "id": "3b70918c",
   "metadata": {},
   "outputs": [],
   "source": []
  },
  {
   "cell_type": "markdown",
   "id": "91cd2333",
   "metadata": {},
   "source": [
    "Python has an abundance of additional libraries to augument the base framework. You can think of libraries as collections of functions that can be accessed to complete certain programming tasks\n",
    "\n",
    "Today, we will focus on the following libraries:\n",
    "\n",
    "Numpy is a library for working with arrays of data\n",
    "Scipy is a library of techniques for numerical and scientific computing\n",
    "Matplotlib is a library for making graphs\n",
    "Seaborn is a higher-level interface to Matplotlib that can be used simplify many tasks"
   ]
  },
  {
   "cell_type": "markdown",
   "id": "4d7e7ab8",
   "metadata": {},
   "source": [
    "Importing Libraries\n",
    "When using Python, you must always begin your script by importing the libraries that you will be using.\n",
    "\n",
    "Below, we import the numpy and matplotlib libraries and give them abbreviated names:"
   ]
  },
  {
   "cell_type": "code",
   "execution_count": 66,
   "id": "d9f4f20e",
   "metadata": {},
   "outputs": [],
   "source": [
    "import numpy as np"
   ]
  },
  {
   "cell_type": "code",
   "execution_count": 67,
   "id": "418bef03",
   "metadata": {},
   "outputs": [
    {
     "data": {
      "text/plain": [
       "0.5253219888177297"
      ]
     },
     "execution_count": 67,
     "metadata": {},
     "output_type": "execute_result"
    }
   ],
   "source": [
    "np.cos(45)"
   ]
  },
  {
   "cell_type": "code",
   "execution_count": 68,
   "id": "cb9bcad7",
   "metadata": {},
   "outputs": [],
   "source": [
    "x=np.linspace(0,50)"
   ]
  },
  {
   "cell_type": "code",
   "execution_count": 70,
   "id": "b8bf6687",
   "metadata": {},
   "outputs": [],
   "source": [
    "y=np.sin(x)"
   ]
  },
  {
   "cell_type": "code",
   "execution_count": 74,
   "id": "cbbb59bb",
   "metadata": {},
   "outputs": [
    {
     "data": {
      "text/plain": [
       "array([ 0.        ,  1.02040816,  2.04081633,  3.06122449,  4.08163265,\n",
       "        5.10204082,  6.12244898,  7.14285714,  8.16326531,  9.18367347,\n",
       "       10.20408163, 11.2244898 , 12.24489796, 13.26530612, 14.28571429,\n",
       "       15.30612245, 16.32653061, 17.34693878, 18.36734694, 19.3877551 ,\n",
       "       20.40816327, 21.42857143, 22.44897959, 23.46938776, 24.48979592,\n",
       "       25.51020408, 26.53061224, 27.55102041, 28.57142857, 29.59183673,\n",
       "       30.6122449 , 31.63265306, 32.65306122, 33.67346939, 34.69387755,\n",
       "       35.71428571, 36.73469388, 37.75510204, 38.7755102 , 39.79591837,\n",
       "       40.81632653, 41.83673469, 42.85714286, 43.87755102, 44.89795918,\n",
       "       45.91836735, 46.93877551, 47.95918367, 48.97959184, 50.        ])"
      ]
     },
     "execution_count": 74,
     "metadata": {},
     "output_type": "execute_result"
    }
   ],
   "source": [
    "x"
   ]
  },
  {
   "cell_type": "code",
   "execution_count": 75,
   "id": "474fb9d7",
   "metadata": {},
   "outputs": [
    {
     "data": {
      "text/plain": [
       "array([ 0.        ,  0.85232157,  0.89155923,  0.08028167, -0.80758169,\n",
       "       -0.92504137, -0.16004509,  0.75762842,  0.95255185,  0.23877532,\n",
       "       -0.70278422, -0.97391306, -0.31596412,  0.64340315,  0.98898712,\n",
       "        0.39111319, -0.57986856, -0.9976767 , -0.4637374 ,  0.51259058,\n",
       "        0.99992572,  0.53336793, -0.44200354, -0.99571964, -0.59955527,\n",
       "        0.36856312,  0.98508564,  0.66187214, -0.29274341, -0.96809235,\n",
       "       -0.71991625,  0.21503388,  0.94484948,  0.77331289, -0.13593619,\n",
       "       -0.91550706, -0.82171736,  0.05596095,  0.88025454,  0.86481718,\n",
       "        0.02437555, -0.83931947, -0.90233411, -0.10455469,  0.79296611,\n",
       "        0.93402597,  0.18405888, -0.74149372, -0.95968816, -0.26237485])"
      ]
     },
     "execution_count": 75,
     "metadata": {},
     "output_type": "execute_result"
    }
   ],
   "source": [
    "y"
   ]
  },
  {
   "cell_type": "code",
   "execution_count": 76,
   "id": "297bc19d",
   "metadata": {},
   "outputs": [],
   "source": [
    "import      matplotlib.pyplot as plt"
   ]
  },
  {
   "cell_type": "code",
   "execution_count": null,
   "id": "573c2a8d",
   "metadata": {},
   "outputs": [],
   "source": []
  },
  {
   "cell_type": "code",
   "execution_count": 77,
   "id": "a58e7695",
   "metadata": {},
   "outputs": [
    {
     "data": {
      "text/plain": [
       "[<matplotlib.lines.Line2D at 0x7ffc89414d30>]"
      ]
     },
     "execution_count": 77,
     "metadata": {},
     "output_type": "execute_result"
    },
    {
     "data": {
      "image/png": "[encoded data removed]",
      "text/plain": [
       "<Figure size 432x288 with 1 Axes>"
      ]
     },
     "metadata": {
      "needs_background": "light"
     },
     "output_type": "display_data"
    }
   ],
   "source": [
    "plt.plot(x      ,y)"
   ]
  },
  {
   "cell_type": "code",
   "execution_count": null,
   "id": "55449c62",
   "metadata": {},
   "outputs": [],
   "source": [
    "plt.plot(y,z)"
   ]
  },
  {
   "cell_type": "code",
   "execution_count": 67,
   "id": "a5ae3672",
   "metadata": {},
   "outputs": [],
   "source": [
    "import numpy as np\n",
    "from scipy import stats\n",
    "import matplotlib.pyplot as plt\n",
    "import seaborn as sns"
   ]
  },
  {
   "cell_type": "markdown",
   "id": "f2725450",
   "metadata": {},
   "source": [
    "After importing a library, its functions can then be called from your code by prepending the library name to the function name"
   ]
  },
  {
   "cell_type": "markdown",
   "id": "139452bd",
   "metadata": {},
   "source": [
    "### Numpy"
   ]
  },
  {
   "cell_type": "markdown",
   "id": "488f0f10",
   "metadata": {},
   "source": [
    "NumPy is the fundamental package for scientific computing with Python. Lets focus on the numpy array object"
   ]
  },
  {
   "cell_type": "code",
   "execution_count": 80,
   "id": "1ec5217b",
   "metadata": {},
   "outputs": [],
   "source": [
    "import numpy as np"
   ]
  },
  {
   "cell_type": "code",
   "execution_count": null,
   "id": "ba95fb9e",
   "metadata": {},
   "outputs": [],
   "source": []
  },
  {
   "cell_type": "code",
   "execution_count": null,
   "id": "8dbff299",
   "metadata": {},
   "outputs": [],
   "source": []
  },
  {
   "cell_type": "code",
   "execution_count": null,
   "id": "df33d504",
   "metadata": {},
   "outputs": [],
   "source": []
  },
  {
   "cell_type": "code",
   "execution_count": null,
   "id": "2f17662e",
   "metadata": {},
   "outputs": [],
   "source": []
  },
  {
   "cell_type": "code",
   "execution_count": null,
   "id": "6d7ec190",
   "metadata": {},
   "outputs": [],
   "source": []
  },
  {
   "cell_type": "code",
   "execution_count": 68,
   "id": "a07226e9",
   "metadata": {},
   "outputs": [
    {
     "name": "stdout",
     "output_type": "stream",
     "text": [
      "[1 2 3]\n",
      "<class 'numpy.ndarray'>\n",
      "(3,)\n",
      "1\n",
      "3\n"
     ]
    }
   ],
   "source": [
    "## make a 3x1 numpy array\n",
    "a = np.array([1, 2, 3])\n",
    "\n",
    "## print it out\n",
    "print(a)\n",
    "\n",
    "## print object type\n",
    "print(type(a))\n",
    "\n",
    "## print shape\n",
    "print(a.shape)\n",
    "\n",
    "## print some values\n",
    "print(a[0])\n",
    "print(a[2])"
   ]
  },
  {
   "cell_type": "code",
   "execution_count": 69,
   "id": "acc451b1",
   "metadata": {},
   "outputs": [
    {
     "name": "stdout",
     "output_type": "stream",
     "text": [
      "[[1 2]\n",
      " [3 4]]\n",
      "(2, 2)\n",
      "1\n",
      "3\n"
     ]
    }
   ],
   "source": [
    "## make a 2x2 numpy array\n",
    "b = np.array([[1, 2], [3, 4]])\n",
    "\n",
    "## print it out\n",
    "print(b)\n",
    "\n",
    "## print out shape\n",
    "print(b.shape)\n",
    "\n",
    "## print row 1, column 1\n",
    "print(b[0,0])\n",
    "\n",
    "## print row 2, column 1\n",
    "print(b[1, 0])"
   ]
  },
  {
   "cell_type": "code",
   "execution_count": 70,
   "id": "d8bbe217",
   "metadata": {},
   "outputs": [
    {
     "name": "stdout",
     "output_type": "stream",
     "text": [
      "[[0. 0. 0.]\n",
      " [0. 0. 0.]]\n",
      "(2, 3)\n"
     ]
    }
   ],
   "source": [
    "## make a 2x3 zero array\n",
    "c = np.zeros((2,3))\n",
    "\n",
    "## print out c\n",
    "print(c)\n",
    "\n",
    "## print out shape\n",
    "print(c.shape)"
   ]
  },
  {
   "cell_type": "code",
   "execution_count": 71,
   "id": "7ab14203",
   "metadata": {},
   "outputs": [
    {
     "name": "stdout",
     "output_type": "stream",
     "text": [
      "[[1. 1.]\n",
      " [1. 1.]\n",
      " [1. 1.]\n",
      " [1. 1.]\n",
      " [1. 1.]]\n",
      "1.0\n",
      "[[1. 1.]\n",
      " [1. 1.]\n",
      " [1. 1.]\n",
      " [1. 1.]\n",
      " [1. 1.]]\n",
      "[[2. 2.]\n",
      " [2. 2.]\n",
      " [2. 2.]\n",
      " [2. 2.]\n",
      " [2. 2.]]\n",
      "[[2. 2.]\n",
      " [2. 2.]\n",
      " [2. 2.]\n",
      " [2. 2.]\n",
      " [2. 2.]]\n"
     ]
    }
   ],
   "source": [
    "## make a 5x2 array of ones\n",
    "d =  np.ones((5,2))\n",
    "\n",
    "## print out d\n",
    "print(d)\n",
    "\n",
    "## print out row 3, column 2\n",
    "print(d[2, 1])\n",
    "\n",
    "## create a pointer to d called e\n",
    "e = d\n",
    "\n",
    "## print out e\n",
    "print(e)\n",
    "\n",
    "## multiple e by 2 and print out\n",
    "e *= 2\n",
    "print(e)\n",
    "\n",
    "## print out d\n",
    "print(d)"
   ]
  },
  {
   "cell_type": "code",
   "execution_count": 72,
   "id": "033e87c4",
   "metadata": {},
   "outputs": [
    {
     "name": "stdout",
     "output_type": "stream",
     "text": [
      "[[0.94731965 0.75740258 0.23480936 0.07817122]\n",
      " [0.9368705  0.77930744 0.71685484 0.77278887]\n",
      " [0.52614154 0.50436324 0.8602808  0.68053652]\n",
      " [0.75935376 0.27598976 0.83836054 0.59477663]\n",
      " [0.19403425 0.92622571 0.99260722 0.45863511]\n",
      " [0.68565258 0.16830131 0.48016686 0.51513822]\n",
      " [0.69082511 0.0249256  0.29207353 0.90935494]]\n"
     ]
    },
    {
     "data": {
      "text/plain": [
       "0.5929024181778201"
      ]
     },
     "execution_count": 72,
     "metadata": {},
     "output_type": "execute_result"
    }
   ],
   "source": [
    "## create a 7x4 random array\n",
    "f = np.random.random((7,4))\n",
    "\n",
    "## print out f\n",
    "print(f)\n",
    "\n",
    "## find the mean of f\n",
    "np.mean(f)"
   ]
  },
  {
   "cell_type": "code",
   "execution_count": 73,
   "id": "a4d02572",
   "metadata": {},
   "outputs": [
    {
     "name": "stdout",
     "output_type": "stream",
     "text": [
      "[[ 1  2  3  4]\n",
      " [ 5  6  7  8]\n",
      " [ 9 10 11 12]]\n",
      "[[2 3]\n",
      " [6 7]]\n"
     ]
    }
   ],
   "source": [
    "## make a 3x4 array\n",
    "g = np.array([[1, 2, 3, 4], [5, 6, 7, 8], [9, 10, 11, 12]])\n",
    "\n",
    "## print out g\n",
    "print(g)\n",
    "\n",
    "## Slice array to make a 2x2 sub-array called h\n",
    "h = g[:2, 1:3]\n",
    "\n",
    "## print h\n",
    "print(h)"
   ]
  },
  {
   "cell_type": "markdown",
   "id": "3a2a17c1",
   "metadata": {},
   "source": [
    "## Array Math"
   ]
  },
  {
   "cell_type": "code",
   "execution_count": 74,
   "id": "c832560e",
   "metadata": {},
   "outputs": [
    {
     "name": "stdout",
     "output_type": "stream",
     "text": [
      "[[ 6  8]\n",
      " [10 12]]\n",
      "[[ 6  8]\n",
      " [10 12]]\n",
      "[[-4 -4]\n",
      " [-4 -4]]\n",
      "[[-4 -4]\n",
      " [-4 -4]]\n",
      "[[ 5 12]\n",
      " [21 32]]\n",
      "[[ 5 12]\n",
      " [21 32]]\n",
      "[[0.2        0.33333333]\n",
      " [0.42857143 0.5       ]]\n",
      "[[0.2        0.33333333]\n",
      " [0.42857143 0.5       ]]\n",
      "[[1.         1.41421356]\n",
      " [1.73205081 2.        ]]\n"
     ]
    }
   ],
   "source": [
    "x = np.array([[1,2],[3,4]])\n",
    "y = np.array([[5,6], [7,8]])\n",
    "\n",
    "## Add x and y\n",
    "print(x+y)\n",
    "print(np.add(x,y))\n",
    "\n",
    "## Subtract x and y\n",
    "print(x-y)\n",
    "print(np.subtract(x,y))\n",
    "\n",
    "## elementwise product of x and y\n",
    "print(x*y)\n",
    "print(np.multiply(x,y))\n",
    "\n",
    "## elementwise division of x and y\n",
    "print(x / y)\n",
    "print(np.divide(x,y))\n",
    "\n",
    "## elementwise square root of x\n",
    "print(np.sqrt(x))"
   ]
  },
  {
   "cell_type": "code",
   "execution_count": 75,
   "id": "b287b4ab",
   "metadata": {},
   "outputs": [
    {
     "name": "stdout",
     "output_type": "stream",
     "text": [
      "10\n",
      "[4 6]\n",
      "[3 7]\n"
     ]
    }
   ],
   "source": [
    "## Compute sum of all elements in x\n",
    "print(np.sum(x))\n",
    "\n",
    "## Compute sum of each column.\n",
    "## axis = 0 will collaspe the rows\n",
    "print(np.sum(x, axis = 0))\n",
    "\n",
    "## Compute sume of each row\n",
    "## axis = 1 will collaspe the columns\n",
    "print(np.sum(x, axis = 1))\n"
   ]
  },
  {
   "cell_type": "code",
   "execution_count": 76,
   "id": "b2113465",
   "metadata": {},
   "outputs": [
    {
     "name": "stdout",
     "output_type": "stream",
     "text": [
      "2.5\n",
      "[2. 3.]\n",
      "[1.5 3.5]\n"
     ]
    }
   ],
   "source": [
    "## Compute mean of all elements in x\n",
    "print(np.mean(x))\n",
    "\n",
    "## Compute mean of each column of x\n",
    "print(np.mean(x, axis = 0))\n",
    "\n",
    "## Compute mean of each row of x\n",
    "print(np.mean(x, axis = 1))"
   ]
  },
  {
   "cell_type": "markdown",
   "id": "6d4ab878",
   "metadata": {},
   "source": [
    "## SciPy"
   ]
  },
  {
   "cell_type": "markdown",
   "id": "75889263",
   "metadata": {},
   "source": [
    "Numpy provides a high-performance multidimensional array and basic tools to compute with and manipulate these arrays. SciPy builds on this, and provides a large number of functions that operate on numpy arrays and are useful for different types of scientific and engineering applications.\n",
    "\n",
    "We will primariyl be using the SciPy.Stats sub-library.\n",
    "\n",
    "The SciPy.Stats module contains a large number of probability distributions as well as a growing library of statistical functions such as:\n",
    "\n",
    "Continuous and Discrete Distributions (i.e Normal, Uniform, Binomial, etc.)\n",
    "\n",
    "Descriptive Statistcs\n",
    "\n",
    "Statistical Tests (i.e T-Test)"
   ]
  },
  {
   "cell_type": "code",
   "execution_count": 77,
   "id": "75672d71",
   "metadata": {},
   "outputs": [
    {
     "name": "stdout",
     "output_type": "stream",
     "text": [
      "[-0.6989956   0.91447914  0.07713996  1.06318955 -1.31078092 -1.02873904\n",
      " -1.8025391  -1.19387455  0.00582719 -0.12703904]\n"
     ]
    }
   ],
   "source": [
    "## Print Normal Random Variables\n",
    "print(stats.norm.rvs(size = 10))"
   ]
  },
  {
   "cell_type": "code",
   "execution_count": 78,
   "id": "c275c718",
   "metadata": {},
   "outputs": [
    {
     "name": "stdout",
     "output_type": "stream",
     "text": [
      "[9.86587645e-10 1.34989803e-03 2.27501319e-02 1.58655254e-01\n",
      " 5.00000000e-01 8.41344746e-01 9.77249868e-01 9.98650102e-01\n",
      " 9.99999999e-01]\n"
     ]
    }
   ],
   "source": [
    "## Computer the Normal CDF of certain values\n",
    "print(stats.norm.cdf(np.array([-6, -3, -2, -1, 0, 1, 2, 3, 6])))"
   ]
  },
  {
   "cell_type": "markdown",
   "id": "f066df73",
   "metadata": {},
   "source": [
    "## Google Colab and JupyterLab"
   ]
  },
  {
   "cell_type": "markdown",
   "id": "ca9dd058",
   "metadata": {},
   "source": [
    "We can also make use of Jupyter Notebooks on the Cloud without installing anything on our local computers. For this, we can use the Google Colab or JupyterLab, which are both free services (upto certain computation and storage limits). We can also store our files for processing on these platforms. You will need a Google account to access and save our notebooks in Colab. We can also check out their guides for Google Colab to learn more about it.\n",
    "\n",
    "Google Colaboratory\n",
    "\n",
    "Jupyter Labs is a similar solution provided by Project Jupyter.\n",
    "\n",
    "Project Jupyter"
   ]
  },
  {
   "cell_type": "code",
   "execution_count": null,
   "id": "44ea19a5",
   "metadata": {},
   "outputs": [],
   "source": []
  }
 ],
 "metadata": {
  "kernelspec": {
   "display_name": "Python 3",
   "language": "python",
   "name": "python3"
  },
  "language_info": {
   "codemirror_mode": {
    "name": "ipython",
    "version": 3
   },
   "file_extension": ".py",
   "mimetype": "text/x-python",
   "name": "python",
   "nbconvert_exporter": "python",
   "pygments_lexer": "ipython3",
   "version": "3.8.10"
  }
 },
 "nbformat": 4,
 "nbformat_minor": 5
}
