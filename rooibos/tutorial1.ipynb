{
  "cells": [
    {
      "cell_type": "markdown",
      "id": "cdb7cf70",
      "metadata": {
        "id": "cdb7cf70"
      },
      "source": [
        "# Tutorial 1: Data visualization"
      ]
    },
    {
      "cell_type": "markdown",
      "id": "78a5f5ba",
      "metadata": {
        "id": "78a5f5ba"
      },
      "source": [
        "---"
      ]
    },
    {
      "cell_type": "markdown",
      "id": "9f759677",
      "metadata": {
        "id": "9f759677"
      },
      "source": [
        "## Introduction"
      ]
    },
    {
      "cell_type": "markdown",
      "id": "7e228ef6",
      "metadata": {
        "tags": [],
        "id": "7e228ef6"
      },
      "source": [
        "Welcome! This tutorial will show you how to visualise biochemical assay data from rooibos tea samples using Python. From this tutorial you will learn:\n",
        "\n",
        " - how to read data into python from an Excel file\n",
        " - how to use dataframes (pandas package)\n",
        " - how to visualise and compare biochemical properties of fermented and unfermented rooibos teas  using histograms\n",
        " - how to use Google to overcome programming challenges\n",
        "\n",
        "Let's get started! First let's import the Python packages we'll need to load and visualize our data.\n",
        "\n",
        "_Note_ that you will need to run all the cells in the notebook in order for it to work properly. The best way to do this is run them one by one.  Try to understand what each cell is doing when you run it. In some cells, you will have to write or modify code--just follow the instructions.  "
      ]
    },
    {
      "cell_type": "markdown",
      "id": "f17fdf07",
      "metadata": {
        "id": "f17fdf07"
      },
      "source": [
        "---"
      ]
    },
    {
      "cell_type": "markdown",
      "id": "ffc6c25b",
      "metadata": {
        "id": "ffc6c25b"
      },
      "source": [
        "First we import some libraries:"
      ]
    },
    {
      "cell_type": "code",
      "execution_count": 16,
      "id": "2fb1973a",
      "metadata": {
        "id": "2fb1973a"
      },
      "outputs": [],
      "source": [
        "# ___Cell no. 1___\n",
        "\n",
        "import pandas as pd # for importing data into data frame format\n",
        "import seaborn as sns # For drawing useful graphs, such as bar graphs\n",
        "from matplotlib.pyplot import show # This displays graphs once they have been created"
      ]
    },
    {
      "cell_type": "markdown",
      "id": "7357715c",
      "metadata": {
        "id": "7357715c"
      },
      "source": [
        "The above statements define the prefixes 'pd' and 'sns' which will be used to identify  pandas and seaborn functions respectively in the following code."
      ]
    },
    {
      "cell_type": "markdown",
      "id": "dfa02a76",
      "metadata": {
        "id": "dfa02a76"
      },
      "source": [
        "<b><i> Reading in data </i></b>\n",
        "\n",
        "The following code does the following:\n",
        "- reads data from an Excel file\n",
        "- converts the Excel file format into a Pandas dataframe"
      ]
    },
    {
      "cell_type": "code",
      "execution_count": 17,
      "id": "cb22e9c1",
      "metadata": {
        "id": "cb22e9c1"
      },
      "outputs": [],
      "source": [
        "# ___Cell no. 2___\n",
        "\n",
        "df_fer = pd.read_excel('orig.xlsx',  sheet_name='fer') # change the directory as needed\n",
        "# df_fer ~ data frame with data from fermented rooibos samples\n",
        "\n",
        "df_nf = pd.read_excel('orig.xlsx',  sheet_name='nonfer') # change the directory as needed\n",
        "# df_nf ~ data frame with nonfermented rooibos samples\n",
        "\n",
        "## Note that both fer/nf are from the same excel file \"orig.xlsx\", but on different sheets"
      ]
    },
    {
      "cell_type": "markdown",
      "id": "c8de2dbb",
      "metadata": {
        "id": "c8de2dbb"
      },
      "source": [
        "<b><i> Examining data </i></b>\n",
        "\n",
        "First let's take a look at the raw fermented and non-fermented data."
      ]
    },
    {
      "cell_type": "code",
      "execution_count": 18,
      "id": "26867fc5",
      "metadata": {
        "id": "26867fc5",
        "outputId": "fd1ddc46-9b2a-4a89-d874-a647af16f44d",
        "colab": {
          "base_uri": "https://localhost:8080/"
        }
      },
      "outputs": [
        {
          "output_type": "stream",
          "name": "stdout",
          "text": [
            "   type      F-MEOH      A1-MEOH      A2-MEOH   F-H2O   A1-H2O  A2-H2O cut\n",
            "0     0  275.767474  2821.888864  1180.778887  314.33  2588.61  584.61  FC\n",
            "1     0  253.494375  2355.706326   647.096605  331.41  2818.87  589.91  LL\n",
            "2     0  255.307044  2182.134125   729.411993  269.64  2432.14  551.30  LL\n",
            "3     0  275.360573  2469.683915   842.797272  210.76  1979.52  402.41  LL\n",
            "4     0  303.070769  2546.362880   905.330599  199.87  1865.86  365.39  LL\n"
          ]
        }
      ],
      "source": [
        "# ___Cell no. 3___\n",
        "print(df_nf.head(5)) # shows the first 5 rows of the data frame (nonfermented data)\n"
      ]
    },
    {
      "cell_type": "markdown",
      "id": "4f2c0fce",
      "metadata": {
        "id": "4f2c0fce"
      },
      "source": [
        "---\n",
        "\n",
        "**Exercise 1:** Show the first 5 rows of the data frame that has fermented data.\n",
        "<br>\n",
        "##### **hints**: All you need to do is copy the code from the previous cell and change the name of the data frame. Don't forget to run the cell after you've done this.\n"
      ]
    },
    {
      "cell_type": "code",
      "execution_count": 19,
      "id": "bb0bedc9",
      "metadata": {
        "id": "bb0bedc9",
        "outputId": "7be76785-25fd-4026-9a89-f845336a98ad",
        "colab": {
          "base_uri": "https://localhost:8080/"
        }
      },
      "outputs": [
        {
          "output_type": "stream",
          "name": "stdout",
          "text": [
            "   type       F-H2O       A1-H2O       A2-H2O      F-MEOH      A1-MEOH  \\\n",
            "0     1  457.982012  3791.630281  1053.209972  257.631541  2063.016672   \n",
            "1     1  339.713588  2825.660880   627.777353  266.472210  2103.093927   \n",
            "2     1  348.809862  3363.905754   657.584108  251.443587  2052.680936   \n",
            "3     1  221.543574  2000.789922   360.611685  250.451620  1963.529348   \n",
            "4     1  347.776623  3024.878290   730.545849  240.960000  1950.643883   \n",
            "\n",
            "      A2-MEOH cut  \n",
            "0  829.673865  RS  \n",
            "1  627.469976  RS  \n",
            "2  892.081366  RS  \n",
            "3  662.888570  RS  \n",
            "4  548.189385  RS  \n"
          ]
        }
      ],
      "source": [
        "#  ___ code here ____\n",
        "print(df_fer.head(5))"
      ]
    },
    {
      "cell_type": "markdown",
      "id": "b4d03442",
      "metadata": {
        "id": "b4d03442"
      },
      "source": [
        "In both dataframes, the rows correspond to different tea samples, while the columns give the values of 8 variables, which can be explained as follows:\n",
        "-  type -- categorical variable denoting one of two types of tea: nonfermented(0) or fermented(1)\n",
        "- F-H2O -- continuous variable: F stands for phenolics and H2O stands for water extract. This column gives the phenolic content that was extracted using water as solvent.\n",
        "- A1-H2O -- continuous variable: A1 represents \"Trolox equivalent antioxidant capacity\" (TEAC), which is a measurement of antioxidant activity. H2O is the solvent used for extraction.\n",
        "- A2-H2O -- continuous variable: A2 represents \"Ferric Reducing Antioxidant Power Assay\" (FRAP), which is a different measurement of antioxidant activity. As before H2O is the solvent\n",
        "- F-MEOH -- continuous variable: F stands for phenolics (as above), this time extracted using methanol (MEOH) as solvent instead of water\n",
        "- A1-MEOH -- continuous variable: as above A1 represents TEAC with MEOH as solvent\n",
        "- A2-MEOH -- continuous variable: A2 is for FRAP and MEOH is the solvent.\n",
        "- cut -- catagorical variable, indicating the cut of the rooibos (not of interest in this study)\n",
        "\n",
        "_Note_: Antioxidants have various health benefits (you may Google \"antioxidant health benefits\"). So the  antioxidant content of different tea varieties is of interest both to consumers and to rooibos producers. Phenolics are one particular type of antioxidant of special interest (you may Google \"phenolics health benefits\").\n",
        "\n",
        "In this study, we use these different antioxidant measurements to attempt to identify whether a rooibos sample is fermented or nonfermented. This can help us better understand the relationship between fermentation and antioxidant content: for instance, does fermentation tend to increase or decrease antioxidant content?"
      ]
    },
    {
      "cell_type": "markdown",
      "id": "022f7ab8",
      "metadata": {
        "id": "022f7ab8"
      },
      "source": [
        "Now let's verify the number of samples in each dataset. We do this using the 'shape' attribute for data frames:"
      ]
    },
    {
      "cell_type": "code",
      "execution_count": 20,
      "id": "f5dd5405",
      "metadata": {
        "id": "f5dd5405",
        "outputId": "af98fea7-5a06-476e-bfbe-21b6d4c2c3c8",
        "colab": {
          "base_uri": "https://localhost:8080/"
        }
      },
      "outputs": [
        {
          "output_type": "stream",
          "name": "stdout",
          "text": [
            "the shape of the nonfermented data is (47, 8)\n",
            "where 47 is the number of rows, and\n",
            "8 is the number of columns\n"
          ]
        }
      ],
      "source": [
        "# ___Cell no. 4___\n",
        "\n",
        "# for nonfermented\n",
        "\n",
        "nf_sh = df_nf.shape # \"df_nf.shape\" produces a tuple of 2 numbers\n",
        "print(\"the shape of the nonfermented data is \"+str(nf_sh) )\n",
        "\n",
        "# The individual numbers in the tuple are accessed as follows:\n",
        "print(\"where \" + str(nf_sh[0]) +\" is the number of rows, and\")\n",
        "print(str(nf_sh[1]) +\" is the number of columns\")"
      ]
    },
    {
      "cell_type": "markdown",
      "id": "e5d7393b",
      "metadata": {
        "id": "e5d7393b"
      },
      "source": [
        "---\n",
        "**Exercise 2:** Please do the same for the fermented data\n",
        "<br>\n",
        "##### **hint**: Make sure to change `nf` to `fer` in all of the variable names\n"
      ]
    },
    {
      "cell_type": "code",
      "execution_count": 21,
      "id": "fc1e4d09",
      "metadata": {
        "id": "fc1e4d09",
        "outputId": "9aa1a7bd-55c6-4403-8d45-b331d78ab016",
        "colab": {
          "base_uri": "https://localhost:8080/"
        }
      },
      "outputs": [
        {
          "output_type": "stream",
          "name": "stdout",
          "text": [
            "the shape of the nonfermented data is (47, 8)\n",
            "where 51 is the number of rows, and\n",
            "8 is the number of columns\n"
          ]
        }
      ],
      "source": [
        "#  ___ code here ____\n",
        "fer_sh = df_fer.shape # \"df_nf.shape\" produces a tuple of 2 numbers\n",
        "print(\"the shape of the nonfermented data is \"+str(nf_sh) )\n",
        "\n",
        "# The individual numbers in the tuple are accessed as follows:\n",
        "print(\"where \" + str(fer_sh[0]) +\" is the number of rows, and\")\n",
        "print(str(fer_sh[1]) +\" is the number of columns\")\n",
        "\n"
      ]
    },
    {
      "cell_type": "markdown",
      "id": "0e6ca6e2",
      "metadata": {
        "id": "0e6ca6e2"
      },
      "source": [
        "Just so you can see what we're studying, here's a picture of samples of unfermented and fermented rooibos. See if you can guess which is which.\n",
        "<br>\n",
        "<br>\n",
        "<img src=\"https://github.com/Hack4Dev/rooibosTea_classification/blob/main/rooibos/pics/roo.jpg?raw=1\" width=\"500\" height=\"250\">\n"
      ]
    },
    {
      "cell_type": "markdown",
      "id": "ab41dbfa",
      "metadata": {
        "id": "ab41dbfa"
      },
      "source": [
        "---"
      ]
    },
    {
      "cell_type": "markdown",
      "id": "29878c20",
      "metadata": {
        "id": "29878c20"
      },
      "source": [
        "<b><i>Renaming variables</i></b>:\n",
        "\n",
        "The variable names are not very descriptive.  Let's change them to improve readability.  Unfortunately I don't remember how to do this--but all is not lost. We have at  our disposal one of the main keys to python programming success:  Google!"
      ]
    },
    {
      "cell_type": "markdown",
      "id": "f52f328c",
      "metadata": {
        "id": "f52f328c"
      },
      "source": [
        "<img src=\"https://github.com/Hack4Dev/rooibosTea_classification/blob/main/rooibos/pics/google.png?raw=1\" width=\"400\" height=\"200\">\n"
      ]
    },
    {
      "cell_type": "markdown",
      "id": "eb9decb4",
      "metadata": {
        "id": "eb9decb4"
      },
      "source": [
        "Just search for  `change columns names pandas`.  You will soon learn how to recognize good websites that will provide working code that you can copy, paste, and modify.  \n",
        "\n",
        "Fortunately one of the links that comes up is from 'Stackoverflow' which often gives valuable tips (and re-usable code). Here's the link:\n",
        "\n",
        " - https://stackoverflow.com/questions/11346283/renaming-column-names-in-pandas\n",
        "\n",
        "From here we may copy-paste the first line in the code below, then modify as needed."
      ]
    },
    {
      "cell_type": "code",
      "execution_count": 22,
      "id": "9e710258",
      "metadata": {
        "id": "9e710258"
      },
      "outputs": [],
      "source": [
        "# ___Cell no. 5___\n",
        "# Code from stackoverflow:\n",
        "# df.rename({'$a':'a', '$b':'b', '$c':'c', '$d':'d', '$e':'e'}, axis='columns')\n",
        "\n",
        "# let's modify the above line of code, and see whether it work or not\n",
        "\n",
        "df_nf = df_nf.rename({'F-H2O':'TPC_H2O', 'A1-H2O':'TEAC_H2O', 'A2-H2O':'FRAP_H2O',\n",
        "                      'F-MEOH':'TPC_MEOH', 'A1-MEOH':'TEAC_MEOH', 'A2-MEOH':'FRAP_MEOH'}, axis='columns')\n",
        "# Notice: you need to re-assign the data frame to itself for you to save the changes"
      ]
    },
    {
      "cell_type": "code",
      "execution_count": 23,
      "id": "6ede7f3c",
      "metadata": {
        "id": "6ede7f3c"
      },
      "outputs": [],
      "source": [
        "# ___Cell no. 6___\n",
        "# Now for the fermented dataframe.\n",
        "df_fer = df_fer.rename({'F-H2O':'TPC_H2O', 'A1-H2O':'TEAC_H2O', 'A2-H2O':'FRAP_H2O',\n",
        "                      'F-MEOH':'TPC_MEOH', 'A1-MEOH':'TEAC_MEOH', 'A2-MEOH':'FRAP_MEOH'}, axis='columns')"
      ]
    },
    {
      "cell_type": "markdown",
      "id": "91c4a73e",
      "metadata": {
        "id": "91c4a73e"
      },
      "source": [
        "Let's check and see if the renaming worked as we expected:"
      ]
    },
    {
      "cell_type": "code",
      "execution_count": 24,
      "id": "109bf195",
      "metadata": {
        "id": "109bf195",
        "outputId": "4f3ef8db-f950-462b-d9ca-38137befc387",
        "colab": {
          "base_uri": "https://localhost:8080/"
        }
      },
      "outputs": [
        {
          "output_type": "stream",
          "name": "stdout",
          "text": [
            "Nonfermented data:\n",
            "   type    TPC_MEOH    TEAC_MEOH    FRAP_MEOH  TPC_H2O  TEAC_H2O  FRAP_H2O cut\n",
            "0     0  275.767474  2821.888864  1180.778887   314.33   2588.61    584.61  FC\n",
            "1     0  253.494375  2355.706326   647.096605   331.41   2818.87    589.91  LL\n",
            "2     0  255.307044  2182.134125   729.411993   269.64   2432.14    551.30  LL\n"
          ]
        }
      ],
      "source": [
        "# ___Cell no. 7___\n",
        "# Print the first three lines of the nonfermented dataset\n",
        "print(\"Nonfermented data:\")\n",
        "print(df_nf.head(3))\n",
        "# Your turn!  Print an empty line, then print the first three lines of the fermented dataset\n",
        "# (your code here)"
      ]
    },
    {
      "cell_type": "markdown",
      "id": "00127d43",
      "metadata": {
        "id": "00127d43"
      },
      "source": [
        "---"
      ]
    },
    {
      "cell_type": "markdown",
      "id": "6ead091f",
      "metadata": {
        "id": "6ead091f"
      },
      "source": [
        "<b><i>Data concatenation into a single frame</i></b>:\n",
        "\n",
        "We're just about ready to visualize the data using histograms. For this purpose, it's easier to concatenate the two dataframes into a single frame."
      ]
    },
    {
      "cell_type": "code",
      "execution_count": 25,
      "id": "e2d80f7a",
      "metadata": {
        "id": "e2d80f7a"
      },
      "outputs": [],
      "source": [
        "# ___Cell no. 8___\n",
        "frames = [df_nf, df_fer] # This is a list of the two frames to concatenate\n",
        "\n",
        "# 'df' is the name of the combined data frame\n",
        "df = pd.concat(frames, ignore_index=True) #'ignore_index' assigns a consecutive index to the rows\n"
      ]
    },
    {
      "cell_type": "markdown",
      "id": "f4b90726",
      "metadata": {
        "id": "f4b90726"
      },
      "source": [
        "---\n",
        "**Exercise 3:** Display the first 50 lines of the concatenated frame 'df'\n",
        "<br>\n",
        "##### **hint**: use the 'head' command, as you did before, and then print the shape of df.\n"
      ]
    },
    {
      "cell_type": "code",
      "execution_count": 27,
      "id": "1108e4ec",
      "metadata": {
        "id": "1108e4ec",
        "outputId": "7f06570c-2845-4e7b-d6ae-649d55e7eeee",
        "colab": {
          "base_uri": "https://localhost:8080/"
        }
      },
      "outputs": [
        {
          "output_type": "stream",
          "name": "stdout",
          "text": [
            "   type    TPC_MEOH    TEAC_MEOH    FRAP_MEOH  TPC_H2O  TEAC_H2O  FRAP_H2O cut\n",
            "0     0  275.767474  2821.888864  1180.778887   314.33   2588.61    584.61  FC\n",
            "1     0  253.494375  2355.706326   647.096605   331.41   2818.87    589.91  LL\n",
            "2     0  255.307044  2182.134125   729.411993   269.64   2432.14    551.30  LL\n"
          ]
        }
      ],
      "source": [
        "#  ___ code here ____\n",
        "print(df.head(3))\n"
      ]
    },
    {
      "cell_type": "markdown",
      "id": "5993750e",
      "metadata": {
        "id": "5993750e"
      },
      "source": [
        "---"
      ]
    },
    {
      "cell_type": "markdown",
      "id": "f5f29970",
      "metadata": {
        "id": "f5f29970"
      },
      "source": [
        "<b><i>Histograms</i></b>:\n",
        "\n",
        "At this point, we're ready to plot comparative histograms for the different variables. We want to compare non-fermented versus fermented, which is easy to do using Seaborn's 'histplot' command.\n",
        "\n",
        "If you have done the exercises correctly, you will have two series of bars (blue and orange) in the following plots."
      ]
    },
    {
      "cell_type": "code",
      "execution_count": 28,
      "id": "0dea4f38",
      "metadata": {
        "id": "0dea4f38",
        "outputId": "b9e419f7-829f-4cc0-f855-db1c29822fc8",
        "colab": {
          "base_uri": "https://localhost:8080/",
          "height": 449
        }
      },
      "outputs": [
        {
          "output_type": "display_data",
          "data": {
            "text/plain": [
              "<Figure size 640x480 with 1 Axes>"
            ],
            "image/png": "[encoded data removed]"
          },
          "metadata": {}
        }
      ],
      "source": [
        "# ___Cell no. 9___\n",
        "sns.histplot(data=df, x=\"TEAC_MEOH\", hue=\"type\", multiple=\"dodge\", shrink=.8)\n",
        "show() # shows the plot"
      ]
    },
    {
      "cell_type": "markdown",
      "id": "4f6d43ce",
      "metadata": {
        "id": "4f6d43ce"
      },
      "source": [
        "The histogram options in the previous code can be explained as follows:\n",
        "\n",
        "`sns.histplot(data=df, x=\"TEAC_MEOH\", hue=\"type\", multiple=\"dodge\", shrink=.8)`\n",
        "\n",
        "* `data=df`:  df is the dataframe name\n",
        "* `x=\"TEAC_MEOH\"`: TEAC_MEOH is the variable value that is histogrammed\n",
        "* `hue=\"type\"`: This separates the data into two classes according to \"type\" (0 or 1)\n",
        "* `multiple = \"dodge\"`: This offsets the two histograms from each other. An alternative is `multiple = \"stack\"`. The default is to overlay the histograms.\n",
        "* shrink = .8:  The histogram bars will occupy 80% of the bin width"
      ]
    },
    {
      "cell_type": "markdown",
      "id": "bd328f26",
      "metadata": {
        "id": "bd328f26"
      },
      "source": [
        "**Exercise From the histograms we may draw the following conclusions:\n",
        "\n",
        " - nonfermented (blue) has the higher mean and the smaller variance. It is also somewhat less left skewed. The data appears to have two peaks (this is called \"bimodal\", but with more data it's quite likely that this effect would disappear.\n",
        " - fermented (orange) is clearly left skewed.\n"
      ]
    },
    {
      "cell_type": "markdown",
      "id": "9416e16b",
      "metadata": {
        "id": "9416e16b"
      },
      "source": [
        "We can do multiple plots from the same cell if we use the 'show() command between plots. Otherwise all the data will be put on the same plot."
      ]
    },
    {
      "cell_type": "code",
      "execution_count": 29,
      "id": "ecac5b13",
      "metadata": {
        "id": "ecac5b13",
        "outputId": "02e83f99-a7a5-47b4-d0f8-507e8b6ff1ff",
        "colab": {
          "base_uri": "https://localhost:8080/",
          "height": 881
        }
      },
      "outputs": [
        {
          "output_type": "display_data",
          "data": {
            "text/plain": [
              "<Figure size 640x480 with 1 Axes>"
            ],
            "image/png": "[encoded data removed]"
          },
          "metadata": {}
        },
        {
          "output_type": "display_data",
          "data": {
            "text/plain": [
              "<Figure size 640x480 with 1 Axes>"
            ],
            "image/png": "[encoded data removed]"
          },
          "metadata": {}
        }
      ],
      "source": [
        "# ___Cell no. 10___\n",
        "sns.histplot(data=df, x=\"TPC_MEOH\", hue=\"type\", multiple=\"dodge\", shrink=.8)\n",
        "show()\n",
        "sns.histplot(data=df, x=\"FRAP_MEOH\", hue=\"type\", multiple=\"dodge\", shrink=.8)\n",
        "show()"
      ]
    },
    {
      "cell_type": "markdown",
      "id": "ec643423",
      "metadata": {
        "id": "ec643423"
      },
      "source": [
        " - fermented (orange) TPC_MEOH has a much smaller variance than nonfermented (blue), and is also slightly skewed left.\n",
        " - fermented (orange) FRAP_MEOH also has a smaller variance than nonfermented (blue), but this time is slightly skewed right."
      ]
    },
    {
      "cell_type": "markdown",
      "id": "0ecb7d1f",
      "metadata": {
        "id": "0ecb7d1f"
      },
      "source": [
        "---\n",
        "**Exercise 4:** Do the plots for TEAC, TPC, and FRAP for water solvent.\n",
        "<br>\n",
        "##### **Hint**: Remember to use show() to separate the plots."
      ]
    },
    {
      "cell_type": "code",
      "execution_count": 30,
      "id": "a855bb8a",
      "metadata": {
        "id": "a855bb8a",
        "outputId": "d4ddb643-55a0-48e5-8111-fba92aa94c62",
        "colab": {
          "base_uri": "https://localhost:8080/",
          "height": 1000
        }
      },
      "outputs": [
        {
          "output_type": "display_data",
          "data": {
            "text/plain": [
              "<Figure size 640x480 with 1 Axes>"
            ],
            "image/png": "[encoded data removed]"
          },
          "metadata": {}
        },
        {
          "output_type": "display_data",
          "data": {
            "text/plain": [
              "<Figure size 640x480 with 1 Axes>"
            ],
            "image/png": "[encoded data removed]"
          },
          "metadata": {}
        },
        {
          "output_type": "display_data",
          "data": {
            "text/plain": [
              "<Figure size 640x480 with 1 Axes>"
            ],
            "image/png": "[encoded data removed]"
          },
          "metadata": {}
        }
      ],
      "source": [
        "\n",
        "#-------  Your code here (TEAC) -----------\n",
        "sns.histplot(data=df, x=\"TPC_MEOH\", hue=\"type\", multiple=\"dodge\", shrink=.8)\n",
        "show()\n",
        "#-------  Your code here (TPC) -----------\n",
        "sns.histplot(data=df, x=\"FRAP_MEOH\", hue=\"type\", multiple=\"dodge\", shrink=.8)\n",
        "show()\n",
        "#-------  Your code here (FRAP) -----------\n",
        "sns.histplot(data=df, x=\"FRAP_H2O\", hue=\"type\", multiple=\"dodge\", shrink=.8)\n",
        "show()"
      ]
    },
    {
      "cell_type": "markdown",
      "id": "8a42d277",
      "metadata": {
        "id": "8a42d277"
      },
      "source": [
        "---"
      ]
    },
    {
      "cell_type": "markdown",
      "id": "6e294756",
      "metadata": {
        "id": "6e294756"
      },
      "source": [
        "<b><i> Saving data for later use </i></b>\n",
        "\n",
        "We can save the data so that we can call it up again in the next notebook"
      ]
    },
    {
      "cell_type": "code",
      "execution_count": 31,
      "id": "07f77364",
      "metadata": {
        "id": "07f77364",
        "outputId": "25d21a37-ef7b-4ea3-d717-ec4f02c9e891",
        "colab": {
          "base_uri": "https://localhost:8080/"
        }
      },
      "outputs": [
        {
          "output_type": "stream",
          "name": "stdout",
          "text": [
            "Stored 'df_nf' (DataFrame)\n",
            "Stored 'df_fer' (DataFrame)\n",
            "Stored 'df' (DataFrame)\n"
          ]
        }
      ],
      "source": [
        "%store df_nf\n",
        "%store df_fer\n",
        "%store df"
      ]
    },
    {
      "cell_type": "markdown",
      "id": "0369e402",
      "metadata": {
        "id": "0369e402"
      },
      "source": [
        "Congratulations!  You've finished your basic exploration of the data.  In the next notebook we'll go on to more descriptive visualizations."
      ]
    }
  ],
  "metadata": {
    "kernelspec": {
      "display_name": "teaClass_ker",
      "language": "python",
      "name": "teaclass_ker"
    },
    "language_info": {
      "codemirror_mode": {
        "name": "ipython",
        "version": 3
      },
      "file_extension": ".py",
      "mimetype": "text/x-python",
      "name": "python",
      "nbconvert_exporter": "python",
      "pygments_lexer": "ipython3",
      "version": "3.8.10"
    },
    "colab": {
      "provenance": []
    }
  },
  "nbformat": 4,
  "nbformat_minor": 5
}